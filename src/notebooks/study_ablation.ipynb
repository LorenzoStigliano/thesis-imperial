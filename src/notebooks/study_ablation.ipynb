{
 "cells": [
  {
   "cell_type": "code",
   "execution_count": 2,
   "metadata": {},
   "outputs": [
    {
     "name": "stdout",
     "output_type": "stream",
     "text": [
      "The autoreload extension is already loaded. To reload it, use:\n",
      "  %reload_ext autoreload\n"
     ]
    }
   ],
   "source": [
    "%load_ext autoreload\n",
    "%autoreload 2\n",
    "\n",
    "import sys\n",
    "import pandas as pd\n",
    "\n",
    "sys.path.append('/Users/lorenzostigliano/Documents/University/Imperial/Summer Term/thesis-imperial/src/')\n",
    "sys.path.append('/Users/lorenzostigliano/Documents/University/Imperial/Summer Term/thesis-imperial/src/utils')\n",
    "sys.path.append('/Users/lorenzostigliano/Documents/University/Imperial/Summer Term/thesis-imperial/src/models')\n",
    "\n",
    "from utils.analysis import *\n",
    "from utils.getters import * \n",
    "from utils.plotters import * \n",
    "from models_config.model_config_GSP import *\n"
   ]
  },
  {
   "cell_type": "code",
   "execution_count": 5,
   "metadata": {},
   "outputs": [
    {
     "name": "stdout",
     "output_type": "stream",
     "text": [
      "Using downloaded and verified file: /Users/lorenzostigliano/.medmnist/breastmnist.npz\n",
      "Using downloaded and verified file: /Users/lorenzostigliano/.medmnist/breastmnist.npz\n",
      "Using downloaded and verified file: /Users/lorenzostigliano/.medmnist/breastmnist.npz\n",
      "Dataset BreastMNIST (breastmnist)\n",
      "    Number of datapoints: 546\n",
      "    Root location: /Users/lorenzostigliano/.medmnist\n",
      "    Split: train\n",
      "    Task: binary-class\n",
      "    Number of channels: 1\n",
      "    Meaning of labels: {'0': 'malignant', '1': 'normal, benign'}\n",
      "    Number of samples: {'train': 546, 'val': 78, 'test': 156}\n",
      "    Description: The BreastMNIST is based on a dataset of 780 breast ultrasound images. It is categorized into 3 classes: normal, benign, and malignant. As we use low-resolution images, we simplify the task into binary classification by combining normal and benign as positive and classifying them against malignant as negative. We split the source dataset with a ratio of 7:1:2 into training, validation and test set. The source images of 1×500×500 are resized into 1×28×28.\n",
      "    License: CC BY 4.0\n",
      "Using downloaded and verified file: /Users/lorenzostigliano/.medmnist/pneumoniamnist.npz\n",
      "Using downloaded and verified file: /Users/lorenzostigliano/.medmnist/pneumoniamnist.npz\n",
      "Using downloaded and verified file: /Users/lorenzostigliano/.medmnist/pneumoniamnist.npz\n",
      "Dataset PneumoniaMNIST (pneumoniamnist)\n",
      "    Number of datapoints: 4708\n",
      "    Root location: /Users/lorenzostigliano/.medmnist\n",
      "    Split: train\n",
      "    Task: binary-class\n",
      "    Number of channels: 1\n",
      "    Meaning of labels: {'0': 'normal', '1': 'pneumonia'}\n",
      "    Number of samples: {'train': 4708, 'val': 524, 'test': 624}\n",
      "    Description: The PneumoniaMNIST is based on a prior dataset of 5,856 pediatric chest X-Ray images. The task is binary-class classification of pneumonia against normal. We split the source training set with a ratio of 9:1 into training and validation set and use its source validation set as the test set. The source images are gray-scale, and their sizes are (384−2,916)×(127−2,713). We center-crop the images and resize them into 1×28×28.\n",
      "    License: CC BY 4.0\n"
     ]
    }
   ],
   "source": [
    "G_list = load_data(dataset, -1, NormalizeInputGraphs=False)"
   ]
  },
  {
   "cell_type": "code",
   "execution_count": 3,
   "metadata": {},
   "outputs": [],
   "source": [
    "def get_mean_CV_metric_student_model(dataset, model, analysis_type, training_type, view, run, student, dataset_split, model_args):\n",
    "\n",
    "    import sklearn.metrics as metrics\n",
    "\n",
    "    #get the mean metric for a student for a particular CV training_type \n",
    "    \n",
    "    student_acc, student_recall, student_precision, student_f1 = 0, 0, 0, 0\n",
    "    acc_mean, recall_mean, precision_mean, f1_mean = [], [], [], []\n",
    "    \n",
    "    if training_type == \"3Fold\":\n",
    "        cv_number = 3\n",
    "    if training_type == \"5Fold\":\n",
    "        cv_number = 5\n",
    "    if training_type == \"10Fold\":\n",
    "        cv_number = 10  \n",
    "    \n",
    "    for i in range(cv_number):\n",
    "        x = get_labels_and_preds(dataset=dataset, \n",
    "                                model=model,\n",
    "                                analysis_type=analysis_type, \n",
    "                                training_type=training_type,  \n",
    "                                cv_n=i, \n",
    "                                view=view, \n",
    "                                run=run, \n",
    "                                dataset_split=dataset_split, \n",
    "                                student=student, \n",
    "                                model_args=model_args)\n",
    "        result = {\n",
    "            'prec': metrics.precision_score(x['labels'],  x['preds']),\n",
    "            'recall': metrics.recall_score(x['labels'],  x['preds']),\n",
    "            'acc': metrics.accuracy_score(x['labels'],  x['preds']),\n",
    "            'F1': metrics.f1_score(x['labels'],  x['preds'])\n",
    "        }   \n",
    "        acc_mean.append(result['acc'])\n",
    "        recall_mean.append(result['recall'])\n",
    "        precision_mean.append(result['prec'])\n",
    "        f1_mean.append(result['F1'])\n",
    "    \n",
    "    student_acc = np.mean(acc_mean)\n",
    "    student_recall = np.mean(recall_mean)\n",
    "    student_precision = np.mean(precision_mean)\n",
    "    student_f1 = np.mean(f1_mean)\n",
    "\n",
    "    return student_acc, student_f1, student_recall, student_precision"
   ]
  },
  {
   "cell_type": "code",
   "execution_count": 4,
   "metadata": {},
   "outputs": [],
   "source": [
    "def get_student_model_metric_all_folds(dataset, model, CV, runs, analysis_type, dataset_split, view, model_args):\n",
    "    #Get average student modele metrics across all runs and all cv for all models in ensemble \n",
    "    \"\"\"\n",
    "    USAGE:\n",
    "    runs = [i for i in range(10)]\n",
    "    CV=[\"3Fold\", \"5Fold\", \"10Fold\"]\n",
    "    model = \"gcn_student_ensamble_3\"\n",
    "    analysis_type=\"model_assessment\"\n",
    "    model_args= gcn_student_ensamble_args\n",
    "    dataset_split=\"val\"\n",
    "    view=2\n",
    "\n",
    "    get_student_model_metric_all_folds(dataset, model, CV, runs, analysis_type, dataset_split, view, model_args)\n",
    "    \"\"\"\n",
    "\n",
    "    all_student_metrics_mean = []\n",
    "    all_student_metrics_var = []\n",
    "\n",
    "    for student in range(model_args[\"n_students\"]):\n",
    "\n",
    "        model_metrics_runs = []\n",
    "        \n",
    "        for run in runs:\n",
    "                \n",
    "            model_metrics = []\n",
    "            \n",
    "            for training_type in CV:\n",
    "                \n",
    "                model_metrics.append(get_mean_CV_metric_student_model(\n",
    "                    dataset=dataset, \n",
    "                    model=model, \n",
    "                    analysis_type=analysis_type, \n",
    "                    training_type=training_type, \n",
    "                    view=view, \n",
    "                    run=run, \n",
    "                    student=student, \n",
    "                    dataset_split=dataset_split,\n",
    "                    model_args=model_args\n",
    "                )\n",
    "                )\n",
    "            \n",
    "            model_metrics = np.mean(model_metrics, axis=0)\n",
    "            model_metrics_runs.append(model_metrics)\n",
    "        all_student_metrics_var.append(np.var(model_metrics_runs, axis=0))\n",
    "        all_student_metrics_mean.append(np.mean(model_metrics_runs, axis=0))\n",
    "\n",
    "    return all_student_metrics_mean, all_student_metrics_var\n"
   ]
  },
  {
   "cell_type": "code",
   "execution_count": 5,
   "metadata": {},
   "outputs": [],
   "source": [
    "def get_best_student_ensamble(model, view, CV, runs, dataset, dataset_split, analysis_type, model_args):\n",
    "    import warnings\n",
    "    warnings.filterwarnings('ignore')\n",
    "    \n",
    "    student_rep = []\n",
    "    student_var = []\n",
    "\n",
    "    # get the best reproducibility across all runs \n",
    "    for run in runs:\n",
    "\n",
    "        mean_all_runs = []\n",
    "\n",
    "        for student in range(model_args[\"n_students\"]):\n",
    "            view_rep, _ = view_reproducibility_analysis(\n",
    "                dataset=dataset, \n",
    "                models=[model], \n",
    "                CV=CV, \n",
    "                views=[view], \n",
    "                run=run, \n",
    "                students=[student], \n",
    "                model_args=[model_args]\n",
    "            )\n",
    "            mean_all_runs.append(view_rep[0][0])\n",
    "        #store the reproducibility score for all students for the run \n",
    "        student_rep.append(mean_all_runs)\n",
    "    \n",
    "    #get the mean and variance for the reproducibility scores for all the students\n",
    "    student_var = np.var(student_rep, axis=0)\n",
    "    student_rep = np.mean(student_rep, axis=0)\n",
    "\n",
    "    #get the metrics of all the student models\n",
    "    all_student_metrics_mean, _ = get_student_model_metric_all_folds(\n",
    "        dataset=dataset, \n",
    "        model=model, \n",
    "        CV=CV, \n",
    "        runs=runs, \n",
    "        analysis_type=analysis_type, \n",
    "        dataset_split=dataset_split, \n",
    "        view=view, \n",
    "        model_args=model_args\n",
    "    )\n",
    "    \n",
    "    #get the best model based soley on max reproducibility \n",
    "    best_rep_max = 0\n",
    "    metric = 0\n",
    "    student_max = -1\n",
    "    for i, rep in enumerate(student_rep):\n",
    "        if rep > metric:\n",
    "            best_rep_max = rep \n",
    "            metric = rep\n",
    "            student_max = i\n",
    "\n",
    "    #get the best model based on max reproducibility and accuracy\n",
    "    best_rep_acc = 0\n",
    "    metric = 0\n",
    "    student_acc_index = -1\n",
    "    for i, rep in enumerate(student_rep):\n",
    "        student_acc = all_student_metrics_mean[i][0]\n",
    "        if (rep+student_acc)/2 > metric:\n",
    "            metric = (rep+student_acc)/2 \n",
    "            best_rep_acc = rep\n",
    "            student_acc_index = i\n",
    "    \n",
    "    #get the best model based on max reproducibility and f1 score\n",
    "    best_rep_f1 = 0\n",
    "    metric = 0\n",
    "    student_f1_index = -1\n",
    "    for i, rep in enumerate(student_rep):\n",
    "        student_f1 = all_student_metrics_mean[i][1]\n",
    "        if (rep+student_f1)/2 > metric:\n",
    "            metric = (rep+student_f1)/2 \n",
    "            best_rep_f1 = rep\n",
    "            student_f1_index = i\n",
    "    \n",
    "    return [best_rep_max, student_var[student_max], student_max], [best_rep_acc, student_var[student_acc_index], student_acc_index], [best_rep_f1, student_var[student_f1_index], student_f1_index]\n",
    "    "
   ]
  },
  {
   "cell_type": "code",
   "execution_count": 6,
   "metadata": {},
   "outputs": [],
   "source": [
    "def get_best_student_ensamble_detailed(model, view, CV, runs, dataset, dataset_split, analysis_type, model_args):\n",
    "    import warnings\n",
    "    warnings.filterwarnings('ignore')\n",
    "    \n",
    "    student_rep = []\n",
    "    student_var = []\n",
    "\n",
    "    # get the best reproducibility across all runs \n",
    "    for run in runs:\n",
    "\n",
    "        mean_all_runs = []\n",
    "\n",
    "        for student in range(model_args[\"n_students\"]):\n",
    "            view_rep, _ = view_reproducibility_analysis(\n",
    "                dataset=dataset, \n",
    "                models=[model], \n",
    "                CV=CV, \n",
    "                views=[view], \n",
    "                run=run, \n",
    "                students=[student], \n",
    "                model_args=[model_args]\n",
    "            )\n",
    "            mean_all_runs.append(view_rep[0][0])\n",
    "        #store the reproducibility score for all students for the run \n",
    "        student_rep.append(mean_all_runs)\n",
    "    \n",
    "    #get the mean and variance for the reproducibility scores for all the students\n",
    "    student_var = np.var(student_rep, axis=0)\n",
    "    student_rep = np.mean(student_rep, axis=0)\n",
    "\n",
    "    #get the metrics of all the student models\n",
    "    all_student_metrics_mean, all_student_metrics_var = get_student_model_metric_all_folds(\n",
    "        dataset=dataset, \n",
    "        model=model, \n",
    "        CV=CV, \n",
    "        runs=runs, \n",
    "        analysis_type=analysis_type, \n",
    "        dataset_split=dataset_split, \n",
    "        view=view, \n",
    "        model_args=model_args\n",
    "    )\n",
    "    \n",
    "    #get the best model based soley on max reproducibility \n",
    "    best_rep_max = 0\n",
    "    metric = 0\n",
    "    student_max = -1\n",
    "    for i, rep in enumerate(student_rep):\n",
    "        if rep > metric:\n",
    "            best_rep_max = rep \n",
    "            metric = rep\n",
    "            student_max = i\n",
    "\n",
    "    #get the best model based on max accuracy\n",
    "    best_max_acc = 0\n",
    "    metric = 0\n",
    "    student_max_acc_index = -1\n",
    "    for i, rep in enumerate(student_rep):\n",
    "        student_acc = all_student_metrics_mean[i][0]\n",
    "        if student_acc > metric:\n",
    "            metric = student_acc\n",
    "            best_max_acc = rep\n",
    "            student_max_acc_index = i\n",
    "\n",
    "    #get the best model based on max reproducibility and f1 score\n",
    "    best_max_f1 = 0\n",
    "    metric = 0\n",
    "    student_max_f1_index = -1\n",
    "    for i, rep in enumerate(student_rep):\n",
    "        student_f1 = all_student_metrics_mean[i][1]\n",
    "        if student_f1 > metric:\n",
    "            metric = student_f1\n",
    "            best_max_f1 = rep\n",
    "            student_max_f1_index = i\n",
    "\n",
    "    #get the best model based on max reproducibility and accuracy\n",
    "    best_rep_acc = 0\n",
    "    metric = 0\n",
    "    student_acc_index = -1\n",
    "    for i, rep in enumerate(student_rep):\n",
    "        student_acc = all_student_metrics_mean[i][0]\n",
    "        if (rep+student_acc)/2 > metric:\n",
    "            metric = (rep+student_acc)/2 \n",
    "            best_rep_acc = rep\n",
    "            student_acc_index = i\n",
    "    \n",
    "    #get the best model based on max reproducibility and f1 score\n",
    "    best_rep_f1 = 0\n",
    "    metric = 0\n",
    "    student_f1_index = -1\n",
    "    for i, rep in enumerate(student_rep):\n",
    "        student_f1 = all_student_metrics_mean[i][1]\n",
    "        if (rep+student_f1)/2 > metric:\n",
    "            metric = (rep+student_f1)/2 \n",
    "            best_rep_f1 = rep\n",
    "            student_f1_index = i\n",
    "    \n",
    "    return all_student_metrics_mean, all_student_metrics_var, [[best_rep_max, student_var[student_max], student_max], [best_max_acc, student_var[student_max_acc_index], student_max_acc_index], [best_max_f1, student_var[student_max_f1_index], student_max_f1_index], [best_rep_acc, student_var[student_acc_index], student_acc_index], [best_rep_f1, student_var[student_f1_index], student_f1_index]]\n",
    "    "
   ]
  },
  {
   "cell_type": "code",
   "execution_count": 6,
   "metadata": {},
   "outputs": [
    {
     "name": "stdout",
     "output_type": "stream",
     "text": [
      "gcn_student_lsp_ensamble_4\n",
      "[[0.96, 0.0003675925925925923, 2], [0.96, 0.0003675925925925923, 2], [0.96, 0.0003675925925925923, 2], [0.96, 0.0003675925925925923, 2], [0.96, 0.0003675925925925923, 2]]\n",
      "[[0.968888888888889, 5.949074074074056e-05, 1], [0.9306944444444444, 0.0004889853395061724, 3], [0.968888888888889, 5.949074074074056e-05, 1], [0.968888888888889, 5.949074074074056e-05, 1], [0.968888888888889, 5.949074074074056e-05, 1]]\n",
      "[[0.9649999999999999, 0.00012222222222222262, 2], [0.9143055555555557, 0.00022918595679012328, 1], [0.9649999999999999, 0.00012222222222222262, 2], [0.9649999999999999, 0.00012222222222222262, 2], [0.9649999999999999, 0.00012222222222222262, 2]]\n",
      "[[0.9690277777777778, 0.00019446373456790262, 1], [0.9690277777777778, 0.00019446373456790262, 1], [0.9690277777777778, 0.00019446373456790262, 1], [0.9690277777777778, 0.00019446373456790262, 1], [0.9690277777777778, 0.00019446373456790262, 1]]\n"
     ]
    }
   ],
   "source": [
    "analysis_type=\"model_assessment\"\n",
    "dataset_split=\"val\"\n",
    "dataset = \"gender_data\"\n",
    "CV=[\"3Fold\", \"5Fold\", \"10Fold\"]\n",
    "\n",
    "models_args=[\n",
    "    gcn_student_lsp_ensamble_4_args\n",
    "]\n",
    "\n",
    "all_model_metrics_mean = []\n",
    "all_model_metrics_var = []\n",
    "all_model_best_student = []\n",
    "\n",
    "for model_arg in models_args:\n",
    "    \n",
    "    print(model_arg[\"model_name\"])\n",
    "\n",
    "    model_metrics_mean = []\n",
    "    model_metrics_var = []\n",
    "    model_best_student = []\n",
    "\n",
    "    for view in [0,2,4,5]:\n",
    "        mean, var, best_students = get_best_student_ensamble_detailed(\n",
    "            model=model_arg[\"model_name\"], \n",
    "            view=view, \n",
    "            CV=CV,\n",
    "            dataset=dataset,\n",
    "            runs=[i for i in range(10)], \n",
    "            analysis_type=analysis_type,\n",
    "            dataset_split=dataset_split,\n",
    "            model_args=model_arg\n",
    "        )\n",
    "        print(best_students)\n",
    "        model_metrics_mean.append(mean)\n",
    "        model_metrics_var.append(var)\n",
    "        model_best_student.append(best_students)\n",
    "\n",
    "    all_model_metrics_mean.append(model_metrics_mean)\n",
    "    all_model_metrics_var.append(model_metrics_var)\n",
    "    all_model_best_student.append(model_best_student)"
   ]
  },
  {
   "cell_type": "code",
   "execution_count": 8,
   "metadata": {},
   "outputs": [
    {
     "name": "stdout",
     "output_type": "stream",
     "text": [
      "gcn_student_lsp_ensamble_4\n",
      "[[0.9590277777777777, 0.0008345871913580261, 1], [0.9388888888888889, 0.0004918981481481483, 2], [0.9388888888888889, 0.0004918981481481483, 2], [0.9590277777777777, 0.0008345871913580261, 1], [0.9388888888888889, 0.0004918981481481483, 2]]\n",
      "[[0.974027777777778, 0.0005069637345678996, 3], [0.974027777777778, 0.0005069637345678996, 3], [0.974027777777778, 0.0005069637345678996, 3], [0.974027777777778, 0.0005069637345678996, 3], [0.974027777777778, 0.0005069637345678996, 3]]\n",
      "[[0.9561111111111111, 0.00022037037037037085, 2], [0.9561111111111111, 0.00022037037037037085, 2], [0.9561111111111111, 0.00022037037037037085, 2], [0.9561111111111111, 0.00022037037037037085, 2], [0.9561111111111111, 0.00022037037037037085, 2]]\n",
      "[[0.9552777777777777, 0.00038958333333333336, 3], [0.9083333333333334, 0.0009459876543209866, 1], [0.9083333333333334, 0.0009459876543209866, 1], [0.9552777777777777, 0.00038958333333333336, 3], [0.9083333333333334, 0.0009459876543209866, 1]]\n",
      "gcn_student_lsp_ensamble_4\n",
      "[[0.9597222222222224, 0.0003784722222222219, 2], [0.9597222222222224, 0.0003784722222222219, 2], [0.9597222222222224, 0.0003784722222222219, 2], [0.9597222222222224, 0.0003784722222222219, 2], [0.9597222222222224, 0.0003784722222222219, 2]]\n",
      "[[0.9680555555555556, 4.166666666666626e-05, 1], [0.9323611111111111, 0.0006246334876543207, 3], [0.9680555555555556, 4.166666666666626e-05, 1], [0.9680555555555556, 4.166666666666626e-05, 1], [0.9680555555555556, 4.166666666666626e-05, 1]]\n",
      "[[0.9649999999999999, 0.00012222222222222262, 2], [0.9134722222222222, 0.00023844521604938257, 1], [0.9649999999999999, 0.00012222222222222262, 2], [0.9649999999999999, 0.00012222222222222262, 2], [0.9649999999999999, 0.00012222222222222262, 2]]\n",
      "[[0.9690277777777778, 0.00019446373456790262, 1], [0.9690277777777778, 0.00019446373456790262, 1], [0.9690277777777778, 0.00019446373456790262, 1], [0.9690277777777778, 0.00019446373456790262, 1], [0.9690277777777778, 0.00019446373456790262, 1]]\n",
      "gcn_student_lsp_ensamble_4\n",
      "[[0.9788888888888889, 0.00023333333333333328, 3], [0.9247222222222222, 3.773148148148005e-05, 2], [0.9722222222222221, 1.232595164407831e-32, 1], [0.9788888888888889, 0.00023333333333333328, 3], [0.9722222222222221, 1.232595164407831e-32, 1]]\n",
      "[[0.9872222222222222, 2.5000000000000157e-05, 2], [0.9772222222222224, 2.7777777777776106e-06, 1], [0.9783333333333333, 7.407407407407354e-06, 3], [0.9772222222222224, 2.7777777777776106e-06, 1], [0.9783333333333333, 7.407407407407354e-06, 3]]\n",
      "[[0.9638888888888888, 1.232595164407831e-32, 3], [0.9297222222222222, 3.402777777777753e-05, 0], [0.9527777777777777, 1.232595164407831e-32, 2], [0.9297222222222222, 3.402777777777753e-05, 0], [0.9527777777777777, 1.232595164407831e-32, 2]]\n",
      "[[0.9713888888888886, 6.249999999999955e-06, 2], [0.9527777777777777, 1.232595164407831e-32, 1], [0.9638888888888888, 1.232595164407831e-32, 3], [0.9713888888888886, 6.249999999999955e-06, 2], [0.9638888888888888, 1.232595164407831e-32, 3]]\n",
      "gcn_student_lsp_ensamble_4\n",
      "[[0.9548611111111109, 0.0001717785493827153, 2], [0.8854166666666667, 0.000546778549382717, 3], [0.8854166666666667, 0.000546778549382717, 3], [0.9548611111111109, 0.0001717785493827153, 2], [0.9548611111111109, 0.0001717785493827153, 2]]\n",
      "[[0.9529166666666665, 0.00017957175925926018, 3], [0.8950000000000001, 0.0015332561728395053, 2], [0.9115277777777777, 0.0003642168209876554, 1], [0.9529166666666665, 0.00017957175925926018, 3], [0.9529166666666665, 0.00017957175925926018, 3]]\n",
      "[[0.9504166666666667, 0.0008784915123456812, 1], [0.9504166666666667, 0.0008784915123456812, 1], [0.9504166666666667, 0.0008784915123456812, 1], [0.9504166666666667, 0.0008784915123456812, 1], [0.9504166666666667, 0.0008784915123456812, 1]]\n",
      "[[0.9333333333333333, 0.0003676697530864192, 0], [0.9202777777777775, 0.0003608024691358003, 3], [0.9202777777777775, 0.0003608024691358003, 3], [0.9202777777777775, 0.0003608024691358003, 3], [0.9202777777777775, 0.0003608024691358003, 3]]\n"
     ]
    }
   ],
   "source": [
    "analysis_type=\"model_assessment\"\n",
    "dataset_split=\"val\"\n",
    "dataset = \"gender_data\"\n",
    "CV=[\"3Fold\", \"5Fold\", \"10Fold\"]\n",
    "\n",
    "models_args=[\n",
    "    gcn_student_lsp_ensamble_4_args_1,\n",
    "    gcn_student_lsp_ensamble_4_args_2,\n",
    "    gcn_student_lsp_ensamble_4_args_3,\n",
    "    gcn_student_lsp_ensamble_4_args_4\n",
    "]\n",
    "\n",
    "for model_arg in models_args:\n",
    "    \n",
    "    print(model_arg[\"model_name\"])\n",
    "\n",
    "    model_metrics_mean = []\n",
    "    model_metrics_var = []\n",
    "    model_best_student = []\n",
    "\n",
    "    for view in [0,2,4,5]:\n",
    "        mean, var, best_students = get_best_student_ensamble_detailed(\n",
    "            model=\"gcn_student_lsp_ensamble_4_ablation\", \n",
    "            view=view, \n",
    "            CV=CV,\n",
    "            dataset=dataset,\n",
    "            runs=[i for i in range(10)], \n",
    "            analysis_type=analysis_type,\n",
    "            dataset_split=dataset_split,\n",
    "            model_args=model_arg\n",
    "        )\n",
    "        print(best_students)\n",
    "        model_metrics_mean.append(mean)\n",
    "        model_metrics_var.append(var)\n",
    "        model_best_student.append(best_students)\n",
    "\n",
    "    all_model_metrics_mean.append(model_metrics_mean)\n",
    "    all_model_metrics_var.append(model_metrics_var)\n",
    "    all_model_best_student.append(model_best_student)"
   ]
  },
  {
   "cell_type": "code",
   "execution_count": 21,
   "metadata": {},
   "outputs": [
    {
     "data": {
      "text/plain": [
       "(25, 5)"
      ]
     },
     "execution_count": 21,
     "metadata": {},
     "output_type": "execute_result"
    }
   ],
   "source": [
    "df_best_student = np.array(all_model_best_student)\n",
    "df = []\n",
    "for i in range(4):\n",
    "    df.append(df_best_student[:, i, :, 0].flatten())\n",
    "df = pd.DataFrame(np.array(df))\n",
    "# Calculate the mean of columns\n",
    "mean_row = df.mean(axis=0)\n",
    "\n",
    "# Append the mean row to the DataFrame\n",
    "df = df.append(mean_row, ignore_index=True).T\n",
    "index_values = ['max rep', 'max acc', 'max f1', 'weighted acc', 'weighted f1'] * (len(df) // 5) + ['max rep', 'max acc', 'max f1', 'weighted acc', 'weighted f1'][:len(df) % 5]\n",
    "\n",
    "# Assign the new index to the DataFrame\n",
    "df.index = index_values\n",
    "df.shape"
   ]
  },
  {
   "cell_type": "code",
   "execution_count": 22,
   "metadata": {},
   "outputs": [
    {
     "data": {
      "text/plain": [
       "(25, 5)"
      ]
     },
     "execution_count": 22,
     "metadata": {},
     "output_type": "execute_result"
    }
   ],
   "source": [
    "df_best_student = np.array(all_model_best_student)\n",
    "df_var = []\n",
    "for i in range(4):\n",
    "    df_var.append(df_best_student[:, i, :, 1].flatten())\n",
    "df_var = pd.DataFrame(np.array(df_var))\n",
    "# Calculate the mean of columns\n",
    "mean_row = df_var.mean(axis=0)\n",
    "\n",
    "# Append the mean row to the DataFrame\n",
    "df_var_rep = df_var.append(mean_row, ignore_index=True).T\n",
    "index_values = ['max rep', 'max acc', 'max f1', 'weighted acc', 'weighted f1'] * (len(df) // 5) + ['max rep', 'max acc', 'max f1', 'weighted acc', 'weighted f1'][:len(df) % 5]\n",
    "\n",
    "# Assign the new index to the DataFrame\n",
    "df_var_rep.index = index_values\n",
    "df_var_rep.shape"
   ]
  },
  {
   "cell_type": "code",
   "execution_count": 23,
   "metadata": {},
   "outputs": [],
   "source": [
    "index = df_best_student[:,:,:,2]\n",
    "all_data_accuracy = []\n",
    "for view_index in range(4):\n",
    "    view_data = []\n",
    "    ensamble_indexes = index[:,view_index,:]\n",
    "    ensamble_data = np.array(all_model_metrics_mean)[:,view_index]\n",
    "    #number of ensembles \n",
    "    for i in range(5):\n",
    "        view_data.append([ensamble_data[i][int(best_student_index)][0] for best_student_index in ensamble_indexes[i]])\n",
    "    all_data_accuracy.append(np.array(view_data).flatten())"
   ]
  },
  {
   "cell_type": "code",
   "execution_count": 24,
   "metadata": {},
   "outputs": [],
   "source": [
    "all_data_var = []\n",
    "for view_index in range(4):\n",
    "    view_data = []\n",
    "    ensamble_indexes = index[:,view_index,:]\n",
    "    ensamble_data = np.array(all_model_metrics_var)[:,view_index]\n",
    "    #number of ensembles \n",
    "    for i in range(5):\n",
    "        view_data.append([ensamble_data[i][int(best_student_index)][0] for best_student_index in ensamble_indexes[i]])\n",
    "    all_data_var.append(np.array(view_data).flatten())"
   ]
  },
  {
   "cell_type": "code",
   "execution_count": 25,
   "metadata": {},
   "outputs": [
    {
     "data": {
      "text/plain": [
       "(25, 5)"
      ]
     },
     "execution_count": 25,
     "metadata": {},
     "output_type": "execute_result"
    }
   ],
   "source": [
    "df_acuracy = pd.DataFrame(np.array(all_data_accuracy))\n",
    "# Calculate the mean of columns\n",
    "mean_row = df_acuracy.mean(axis=0)\n",
    "\n",
    "# Append the mean row to the DataFrame\n",
    "df_acuracy = df_acuracy.append(mean_row, ignore_index=True).T\n",
    "# Create the list of repeating index values\n",
    "index_values = ['max rep', 'max acc', 'max f1', 'weighted acc', 'weighted f1'] * (len(df_acuracy) // 5) + ['max rep', 'max acc', 'max f1', 'weighted acc', 'weighted f1'][:len(df_acuracy) % 5]\n",
    "\n",
    "# Assign the new index to the DataFrame\n",
    "df_acuracy.index = index_values\n",
    "df_acuracy.shape"
   ]
  },
  {
   "cell_type": "code",
   "execution_count": 26,
   "metadata": {},
   "outputs": [
    {
     "data": {
      "text/plain": [
       "(25, 5)"
      ]
     },
     "execution_count": 26,
     "metadata": {},
     "output_type": "execute_result"
    }
   ],
   "source": [
    "df_var = pd.DataFrame(np.array(all_data_var))\n",
    "# Calculate the mean of columns\n",
    "mean_row = df_var.mean(axis=0)\n",
    "\n",
    "# Append the mean row to the DataFrame\n",
    "df_var = df_var.append(mean_row, ignore_index=True).T\n",
    "# Create the list of repeating index values\n",
    "index_values = ['max rep', 'max acc', 'max f1', 'weighted acc', 'weighted f1'] * (len(df_var) // 5) + ['max rep', 'max acc', 'max f1', 'weighted acc', 'weighted f1'][:len(df_var) % 5]\n",
    "\n",
    "# Assign the new index to the DataFrame\n",
    "df_var.index = index_values\n",
    "df_var.shape"
   ]
  },
  {
   "cell_type": "code",
   "execution_count": 27,
   "metadata": {},
   "outputs": [],
   "source": [
    "df_acuracy = df_acuracy.loc['weighted acc'].T\n",
    "df_var = df_var.loc['weighted acc'].T\n",
    "df_var = np.sqrt(df_var)\n",
    "\n",
    "df_rep = df.loc['weighted acc'].T\n",
    "df_var_rep = df_var_rep.loc['weighted acc'].T\n",
    "df_var_rep = np.sqrt(df_var_rep)"
   ]
  },
  {
   "cell_type": "code",
   "execution_count": 28,
   "metadata": {},
   "outputs": [
    {
     "data": {
      "text/html": [
       "<div>\n",
       "<style scoped>\n",
       "    .dataframe tbody tr th:only-of-type {\n",
       "        vertical-align: middle;\n",
       "    }\n",
       "\n",
       "    .dataframe tbody tr th {\n",
       "        vertical-align: top;\n",
       "    }\n",
       "\n",
       "    .dataframe thead th {\n",
       "        text-align: right;\n",
       "    }\n",
       "</style>\n",
       "<table border=\"1\" class=\"dataframe\">\n",
       "  <thead>\n",
       "    <tr style=\"text-align: right;\">\n",
       "      <th></th>\n",
       "      <th>Original</th>\n",
       "      <th>No alpha</th>\n",
       "      <th>No beta</th>\n",
       "      <th>No gamma</th>\n",
       "      <th>No lambda</th>\n",
       "    </tr>\n",
       "  </thead>\n",
       "  <tbody>\n",
       "    <tr>\n",
       "      <th>0</th>\n",
       "      <td>0.009602</td>\n",
       "      <td>0.018193</td>\n",
       "      <td>0.009789</td>\n",
       "      <td>0.001086</td>\n",
       "      <td>0.005550</td>\n",
       "    </tr>\n",
       "    <tr>\n",
       "      <th>1</th>\n",
       "      <td>0.004146</td>\n",
       "      <td>0.007972</td>\n",
       "      <td>0.004039</td>\n",
       "      <td>0.001177</td>\n",
       "      <td>0.003695</td>\n",
       "    </tr>\n",
       "    <tr>\n",
       "      <th>2</th>\n",
       "      <td>0.002405</td>\n",
       "      <td>0.010521</td>\n",
       "      <td>0.002384</td>\n",
       "      <td>0.002686</td>\n",
       "      <td>0.005132</td>\n",
       "    </tr>\n",
       "    <tr>\n",
       "      <th>3</th>\n",
       "      <td>0.003948</td>\n",
       "      <td>0.009723</td>\n",
       "      <td>0.004060</td>\n",
       "      <td>0.001354</td>\n",
       "      <td>0.001646</td>\n",
       "    </tr>\n",
       "    <tr>\n",
       "      <th>4</th>\n",
       "      <td>0.005718</td>\n",
       "      <td>0.012245</td>\n",
       "      <td>0.005794</td>\n",
       "      <td>0.001704</td>\n",
       "      <td>0.004287</td>\n",
       "    </tr>\n",
       "  </tbody>\n",
       "</table>\n",
       "</div>"
      ],
      "text/plain": [
       "   Original  No alpha   No beta  No gamma  No lambda\n",
       "0  0.009602  0.018193  0.009789  0.001086   0.005550\n",
       "1  0.004146  0.007972  0.004039  0.001177   0.003695\n",
       "2  0.002405  0.010521  0.002384  0.002686   0.005132\n",
       "3  0.003948  0.009723  0.004060  0.001354   0.001646\n",
       "4  0.005718  0.012245  0.005794  0.001704   0.004287"
      ]
     },
     "execution_count": 28,
     "metadata": {},
     "output_type": "execute_result"
    }
   ],
   "source": [
    "import pandas as pd\n",
    "\n",
    "# Assuming you have a DataFrame called 'df' with the given data\n",
    "\n",
    "# Define the new column labels\n",
    "x_ticks = ['Original', 'No alpha', 'No beta', 'No gamma', 'No lambda']\n",
    "# Rename the columns using the new labels\n",
    "df_acuracy.columns = x_ticks\n",
    "df_rep.columns = x_ticks\n",
    "df_var.columns = x_ticks\n",
    "df_var_rep.columns = x_ticks\n",
    "# Display the modified DataFrame\n",
    "df_var"
   ]
  },
  {
   "cell_type": "code",
   "execution_count": 29,
   "metadata": {},
   "outputs": [
    {
     "data": {
      "image/png": "[encoded data removed]",
      "text/plain": [
       "<Figure size 640x480 with 1 Axes>"
      ]
     },
     "metadata": {},
     "output_type": "display_data"
    }
   ],
   "source": [
    "import matplotlib.pyplot as plt\n",
    "import numpy as np\n",
    "\n",
    "# Change the order of the DataFrame columns\n",
    "df_ordered = df_acuracy\n",
    "df_std_ordered = df_var\n",
    "# Create a white heatmap with a grayscale colormap\n",
    "plt.imshow(df_ordered.values, cmap='gray', extent=[-0.5, df_ordered.shape[1] - 0.5, -0.5, df_ordered.shape[0] - 0.5], vmin=0, vmax=1)\n",
    "    \n",
    "# Iterate over the DataFrame and highlight the maximum value for each pair in the \"Average\" row\n",
    "for i in range(df_ordered.shape[0]):\n",
    "    for j in range(df_ordered.shape[1]):\n",
    "        value = round(df_ordered.values[i, j], 3)  # Round to 3 significant figures\n",
    "        std = round(df_std_ordered.values[i, j], 3)  # Round standard deviation to 3 significant figures\n",
    "        plt.text(j, i, f'{value}\\n({std})', ha='center', va='center', color='black')\n",
    "\n",
    "plt.axhline(3.5, color='black', linewidth=1)  # Add a horizontal line on top of the \"Average\" row\n",
    "\n",
    "plt.gca().invert_yaxis()  # Reverse the y-axis\n",
    "\n",
    "# Add custom labels to the y-axis\n",
    "labels = ['View 0', 'View 2', 'View 4', 'View 5', 'Average']\n",
    "plt.yticks(range(df_ordered.shape[0]), labels)\n",
    "\n",
    "# Add custom labels to the x-axis\n",
    "x_ticks = ['Original', r'No $\\alpha$', r'No $\\beta$', r'No $\\gamma$', r'No $\\lambda$']\n",
    "plt.xticks(range(df_ordered.shape[1]), x_ticks, rotation=45, ha='right')\n",
    "\n",
    "# Add title and axis labels\n",
    "plt.title('Ablation Analysis - Accuracy based on student with weighted accuracy')\n",
    "plt.xlabel('Ensemble Type')\n",
    "plt.ylabel('Dataset')\n",
    "\n",
    "plt.show()\n"
   ]
  },
  {
   "cell_type": "code",
   "execution_count": 31,
   "metadata": {},
   "outputs": [
    {
     "data": {
      "image/png": "[encoded data removed]",
      "text/plain": [
       "<Figure size 640x480 with 1 Axes>"
      ]
     },
     "metadata": {},
     "output_type": "display_data"
    }
   ],
   "source": [
    "import matplotlib.pyplot as plt\n",
    "import numpy as np\n",
    "\n",
    "# Change the order of the DataFrame columns\n",
    "df_ordered = df_rep\n",
    "df_std_ordered = df_var_rep\n",
    "# Create a white heatmap with a grayscale colormap\n",
    "plt.imshow(df_ordered.values, cmap='gray', extent=[-0.5, df_ordered.shape[1] - 0.5, -0.5, df_ordered.shape[0] - 0.5], vmin=0, vmax=1)\n",
    "\n",
    "# Iterate over the DataFrame and highlight the maximum value for each pair in the \"Average\" row\n",
    "for i in range(df_ordered.shape[0]):\n",
    "    for j in range(df_ordered.shape[1]):\n",
    "        value = round(df_ordered.values[i, j], 3)  # Round to 3 significant figures\n",
    "        std = round(df_std_ordered.values[i, j], 3)  # Round standard deviation to 3 significant figures\n",
    "        plt.text(j, i, f'{value}\\n({std})', ha='center', va='center', color='black')\n",
    "\n",
    "plt.axhline(3.5, color='black', linewidth=1)  # Add a horizontal line on top of the \"Average\" row\n",
    "\n",
    "plt.gca().invert_yaxis()  # Reverse the y-axis\n",
    "\n",
    "# Add custom labels to the y-axis\n",
    "labels = ['View 0', 'View 2', 'View 4', 'View 5', 'Average']\n",
    "plt.yticks(range(df_ordered.shape[0]), labels)\n",
    "\n",
    "# Add custom labels to the x-axis\n",
    "x_ticks = ['Original', r'No $\\alpha$', r'No $\\beta$', r'No $\\gamma$', r'No $\\lambda$']\n",
    "plt.xticks(range(df_ordered.shape[1]), x_ticks, rotation=45, ha='right')\n",
    "\n",
    "# Add title and axis labels\n",
    "plt.title('Ablation Study - Reproducibility based on student with weighted accuracy')\n",
    "plt.xlabel('Ensemble Type')\n",
    "plt.ylabel('Dataset')\n",
    "\n",
    "plt.show()"
   ]
  },
  {
   "attachments": {},
   "cell_type": "markdown",
   "metadata": {},
   "source": [
    "## DISENTANGLEMENT LOSS"
   ]
  },
  {
   "cell_type": "code",
   "execution_count": 7,
   "metadata": {},
   "outputs": [],
   "source": [
    "\n",
    "gcn_student_lsp_ensamble_4_args\n",
    "gcn_student_lsp_ensamble_4_args_4\n",
    "\n",
    "def extract_weights(dataset, view, model, run, student, model_args=None):\n",
    "    weights = []\n",
    "    for cv_n in range(3):\n",
    "        weights.append(get_weight(dataset, view, model, \"3Fold\", 0, cv_n, run, student, model_args=model_args))\n",
    "    for cv_n in range(5):\n",
    "        weights.append(get_weight(dataset, view, model, \"5Fold\", 0, cv_n, run, student, model_args=model_args))\n",
    "    for cv_n in range(10):\n",
    "        weights.append(get_weight(dataset, view, model, \"10Fold\", 0, cv_n, run, student, model_args=model_args))\n",
    "    \n",
    "    return weights"
   ]
  },
  {
   "cell_type": "code",
   "execution_count": 8,
   "metadata": {},
   "outputs": [],
   "source": [
    "dataset_split=\"val\"\n",
    "dataset = \"gender_data\"\n",
    "\n",
    "dis = []\n",
    "no_dis = []\n",
    "\n",
    "for view in [0,2,4,5]:\n",
    "    dis_view = []\n",
    "    no_dis_view = []\n",
    "    for student in [0,1,2,3]:\n",
    "        dis_view.append(extract_weights(dataset=dataset, \n",
    "                        view=view, \n",
    "                        model=gcn_student_lsp_ensamble_4_args[\"model_name\"], \n",
    "                        run=0, \n",
    "                        student=student, \n",
    "                        model_args=gcn_student_lsp_ensamble_4_args))\n",
    "\n",
    "        no_dis_view.append(extract_weights(dataset=dataset, \n",
    "                        view=view, \n",
    "                        model=\"gcn_student_lsp_ensamble_4_ablation\", \n",
    "                        run=0, \n",
    "                        student=student, \n",
    "                        model_args=gcn_student_lsp_ensamble_4_args_4))\n",
    "    dis.append(dis_view)\n",
    "    no_dis.append(no_dis_view)\n"
   ]
  },
  {
   "cell_type": "code",
   "execution_count": 9,
   "metadata": {},
   "outputs": [],
   "source": [
    "dis_0 = sum(dis[1], [])\n",
    "no_dis_0 = sum(no_dis[1], [])"
   ]
  },
  {
   "cell_type": "code",
   "execution_count": 210,
   "metadata": {},
   "outputs": [
    {
     "name": "stderr",
     "output_type": "stream",
     "text": [
      "/Users/lorenzostigliano/Documents/University/Imperial/env-test/lib/python3.8/site-packages/sklearn/manifold/_t_sne.py:780: FutureWarning: The default initialization in TSNE will change from 'random' to 'pca' in 1.2.\n",
      "  warnings.warn(\n",
      "/Users/lorenzostigliano/Documents/University/Imperial/env-test/lib/python3.8/site-packages/sklearn/manifold/_t_sne.py:790: FutureWarning: The default learning rate in TSNE will change from 200.0 to 'auto' in 1.2.\n",
      "  warnings.warn(\n"
     ]
    },
    {
     "data": {
      "image/png": "[encoded data removed]",
      "text/plain": [
       "<Figure size 640x480 with 2 Axes>"
      ]
     },
     "metadata": {},
     "output_type": "display_data"
    },
    {
     "ename": "",
     "evalue": "",
     "output_type": "error",
     "traceback": [
      "\u001b[1;31mThe Kernel crashed while executing code in the the current cell or a previous cell. Please review the code in the cell(s) to identify a possible cause of the failure. Click <a href='https://aka.ms/vscodeJupyterKernelCrash'>here</a> for more info. View Jupyter <a href='command:jupyter.viewOutput'>log</a> for further details."
     ]
    }
   ],
   "source": [
    "import matplotlib.pyplot as plt\n",
    "from sklearn.manifold import TSNE\n",
    "\n",
    "perplexity = [2]\n",
    "\n",
    "for per in perplexity:\n",
    "    tsne = TSNE(n_components=2, perplexity=per, random_state=2)\n",
    "    tsne_data = tsne.fit_transform(dis_0 + no_dis_0)\n",
    "\n",
    "    # Split the data into two halves\n",
    "    half_point = len(tsne_data) // 2\n",
    "    first_half = tsne_data[:half_point]\n",
    "    second_half = tsne_data[half_point:]\n",
    "\n",
    "    # Plot the first half in one color\n",
    "    plt.scatter(first_half[:, 0], first_half[:, 1], c='blue', label='Disentanglement')\n",
    "\n",
    "    # Plot the second half in another color\n",
    "    plt.scatter(second_half[:, 0], second_half[:, 1], c='red', label='No Disentanglement')\n",
    "\n",
    "    plt.colorbar()\n",
    "    plt.legend()\n",
    "    plt.show()"
   ]
  },
  {
   "cell_type": "markdown",
   "metadata": {},
   "source": [
    "# TESTING EMBEDDINGS OF DIFFERENT ABLATION METHODS"
   ]
  },
  {
   "cell_type": "code",
   "execution_count": 71,
   "metadata": {},
   "outputs": [
    {
     "name": "stderr",
     "output_type": "stream",
     "text": [
      "/var/folders/1j/5s36wz6s0jlb1k64vsq1k2zh0000gn/T/ipykernel_15845/2726708896.py:16: MatplotlibDeprecationWarning: Support for setting an rcParam that expects a str value to a non-str value is deprecated since 3.5 and support will be removed two minor releases later.\n",
      "  plt.rcParams['text.latex.preamble']=[r\"\\usepackage{lmodern}\"]\n"
     ]
    }
   ],
   "source": [
    "import sys\n",
    "import pandas as pd\n",
    "\n",
    "sys.path.append('/Users/lorenzostigliano/Documents/University/Imperial/Summer Term/thesis-imperial/src/')\n",
    "sys.path.append('/Users/lorenzostigliano/Documents/University/Imperial/Summer Term/thesis-imperial/src/utils')\n",
    "sys.path.append('/Users/lorenzostigliano/Documents/University/Imperial/Summer Term/thesis-imperial/src/models')\n",
    "\n",
    "from utils.analysis import *\n",
    "from utils.getters import * \n",
    "from utils.plotters import * \n",
    "from utils.helpers import * \n",
    "from models.model_config import *\n",
    "\n",
    "import matplotlib.pyplot as plt\n",
    "\n",
    "plt.rcParams['text.latex.preamble']=[r\"\\usepackage{lmodern}\"]\n",
    "params = {\n",
    "    'text.usetex' : True,\n",
    "    'font.size' : 11,\n",
    "    'font.family' :'lmodern'\n",
    "}\n",
    "plt.rcParams.update(params)"
   ]
  },
  {
   "cell_type": "code",
   "execution_count": 129,
   "metadata": {},
   "outputs": [],
   "source": [
    "model_1_dir = '/Users/lorenzostigliano/Documents/University/Imperial/Summer Term/thesis-imperial/model_data/gender_data/gcn/model_assessment/gcn_student_lsp_ensamble_4_ablation/models/MainModel_10Fold_gender_data_gcn_student_lsp_ensamble_4_run_0_fixed_init_student_0_CV_0_view_5_alpha_0_beta_2_gamma_2_lambda_1.pt'\n",
    "model_2_dir = '/Users/lorenzostigliano/Documents/University/Imperial/Summer Term/thesis-imperial/model_data/gender_data/gcn/model_assessment/gcn_student_lsp_ensamble_4_ablation/models/MainModel_10Fold_gender_data_gcn_student_lsp_ensamble_4_run_0_fixed_init_student_0_CV_0_view_5_alpha_1_beta_0_gamma_2_lambda_1.pt'\n",
    "model_3_dir = '/Users/lorenzostigliano/Documents/University/Imperial/Summer Term/thesis-imperial/model_data/gender_data/gcn/model_assessment/gcn_student_lsp_ensamble_4_ablation/models/MainModel_10Fold_gender_data_gcn_student_lsp_ensamble_4_run_0_fixed_init_student_0_CV_0_view_5_alpha_1_beta_2_gamma_0_lambda_1.pt'\n",
    "model_4_dir = '/Users/lorenzostigliano/Documents/University/Imperial/Summer Term/thesis-imperial/model_data/gender_data/gcn/model_assessment/gcn_student_lsp_ensamble_4_ablation/models/MainModel_10Fold_gender_data_gcn_student_lsp_ensamble_4_run_0_fixed_init_student_0_CV_0_view_5_alpha_1_beta_2_gamma_2_lambda_0.pt'\n",
    "model_5_dir = '/Users/lorenzostigliano/Documents/University/Imperial/Summer Term/thesis-imperial/model_data/gender_data/gcn/model_assessment/gcn_student_lsp_ensamble_4/models/MainModel_10Fold_gender_data_gcn_student_lsp_ensamble_4_run_0_fixed_init_student_0_CV_0_view_5_alpha_1_beta_2_gamma_2_lambda_1.pt'\n",
    "\n",
    "model_layer_1 = torch.load(model_1_dir)\n",
    "model_layer_2 = torch.load(model_2_dir)\n",
    "model_layer_3 = torch.load(model_3_dir)\n",
    "model_layer_4 = torch.load(model_4_dir)\n",
    "model_layer_all = torch.load(model_5_dir)"
   ]
  },
  {
   "cell_type": "code",
   "execution_count": 130,
   "metadata": {},
   "outputs": [],
   "source": [
    "import time\n",
    "from torch.autograd import Variable\n",
    "\n",
    "def embeddings(model):\n",
    "    \n",
    "    model.eval()\n",
    "    \n",
    "    G_list = load_data(\"gender_data\", 0, NormalizeInputGraphs=False)\n",
    "\n",
    "    folds = stratify_splits(G_list, 3)\n",
    "\n",
    "    graph_embeddings = []\n",
    "        \n",
    "    [random.shuffle(folds[i]) for i in range(len(folds))]\n",
    "    train_set, validation_set, test_set = datasets_splits(folds, gcn_student_lsp_ensamble_4_args, 0)\n",
    "    train_dataset, val_dataset, threshold_value = model_assessment_split(train_set, validation_set, test_set, gcn_student_args)\n",
    "\n",
    "    for batch_idx, data in enumerate(train_dataset):\n",
    "\n",
    "        adj = Variable(data['adj'].float(), requires_grad=False).to(device)\n",
    "        adj = torch.squeeze(adj)\n",
    "\n",
    "        label = Variable(data['label'].long()).to(device)     \n",
    "\n",
    "        features = np.identity(adj.shape[0])\n",
    "        features = Variable(torch.from_numpy(features).float(), requires_grad=False).to(\"cpu\")\n",
    "        if gcn_student_args[\"threshold\"] in [\"median\", \"mean\"]:\n",
    "            adj = torch.where(adj > threshold_value, torch.tensor([1.0]).to(\"cpu\"), torch.tensor([0.0]).to(\"cpu\"))\n",
    "\n",
    "        begin_time = time.time()\n",
    "\n",
    "        x, _ = model(features, adj)\n",
    "        graph_embeddings.append((x[0].tolist(), label.item()))\n",
    "\n",
    "    return graph_embeddings"
   ]
  },
  {
   "cell_type": "code",
   "execution_count": 131,
   "metadata": {},
   "outputs": [
    {
     "name": "stdout",
     "output_type": "stream",
     "text": [
      "Num training graphs:  466 ; Num test graphs:  232\n",
      "Num training graphs:  466 ; Num test graphs:  232\n",
      "Num training graphs:  466 ; Num test graphs:  232\n",
      "Num training graphs:  466 ; Num test graphs:  232\n",
      "Num training graphs:  466 ; Num test graphs:  232\n"
     ]
    }
   ],
   "source": [
    "coordinates_1 = embeddings(model_layer_1)\n",
    "coordinates_2 = embeddings(model_layer_2)\n",
    "coordinates_3 = embeddings(model_layer_3)\n",
    "coordinates_4 = embeddings(model_layer_4)\n",
    "coordinates_all = embeddings(model_layer_all)"
   ]
  },
  {
   "cell_type": "code",
   "execution_count": 132,
   "metadata": {},
   "outputs": [
    {
     "name": "stdout",
     "output_type": "stream",
     "text": [
      "Silhouette Score: 0.006784417257436967\n",
      "Silhouette Score: 0.004070682346810087\n",
      "Silhouette Score: 0.006721917356054343\n",
      "Silhouette Score: 0.003818904402307048\n",
      "Silhouette Score: 0.019069115459932007\n"
     ]
    }
   ],
   "source": [
    "from sklearn.metrics import silhouette_score\n",
    "\n",
    "for coordinates in [coordinates_all, coordinates_1, coordinates_2, coordinates_3, coordinates_4]:\n",
    "    silhouette_avg = silhouette_score([i[0] for i in coordinates], [i[1] for i in coordinates])\n",
    "    print(\"Silhouette Score:\", silhouette_avg)"
   ]
  }
 ],
 "metadata": {
  "kernelspec": {
   "display_name": "env-test",
   "language": "python",
   "name": "env-test"
  },
  "language_info": {
   "codemirror_mode": {
    "name": "ipython",
    "version": 3
   },
   "file_extension": ".py",
   "mimetype": "text/x-python",
   "name": "python",
   "nbconvert_exporter": "python",
   "pygments_lexer": "ipython3",
   "version": "3.8.5"
  },
  "orig_nbformat": 4
 },
 "nbformat": 4,
 "nbformat_minor": 2
}
