{
 "cells": [
  {
   "cell_type": "code",
   "execution_count": 1,
   "metadata": {},
   "outputs": [],
   "source": [
    "%load_ext autoreload\n",
    "%autoreload 2\n",
    "\n",
    "import sys\n",
    "import pandas as pd\n",
    "#ADD YOUR DIRECTORY HERE\n",
    "sys.path.append('/Users/lorenzostigliano/Documents/University/Imperial/Summer Term/thesis-imperial/src/')\n",
    "sys.path.append('/Users/lorenzostigliano/Documents/University/Imperial/Summer Term/thesis-imperial/src/utils')\n",
    "sys.path.append('/Users/lorenzostigliano/Documents/University/Imperial/Summer Term/thesis-imperial/src/models')\n",
    "\n",
    "from utils.analysis import *\n",
    "from utils.getters import * \n",
    "from utils.plotters import * \n",
    "from models_config.model_config_GSP import *\n"
   ]
  },
  {
   "cell_type": "code",
   "execution_count": 131,
   "metadata": {},
   "outputs": [
    {
     "name": "stdout",
     "output_type": "stream",
     "text": [
      "gcn_student_lsp_ensamble_4\n",
      "[[0.96, 0.0003675925925925923, 2], [0.96, 0.0003675925925925923, 2], [0.96, 0.0003675925925925923, 2], [0.96, 0.0003675925925925923, 2], [0.96, 0.0003675925925925923, 2]]\n",
      "[[0.968888888888889, 5.949074074074056e-05, 1], [0.9306944444444444, 0.0004889853395061724, 3], [0.968888888888889, 5.949074074074056e-05, 1], [0.968888888888889, 5.949074074074056e-05, 1], [0.968888888888889, 5.949074074074056e-05, 1]]\n",
      "[[0.9649999999999999, 0.00012222222222222262, 2], [0.9143055555555557, 0.00022918595679012328, 1], [0.9649999999999999, 0.00012222222222222262, 2], [0.9649999999999999, 0.00012222222222222262, 2], [0.9649999999999999, 0.00012222222222222262, 2]]\n",
      "[[0.9690277777777778, 0.00019446373456790262, 1], [0.9690277777777778, 0.00019446373456790262, 1], [0.9690277777777778, 0.00019446373456790262, 1], [0.9690277777777778, 0.00019446373456790262, 1], [0.9690277777777778, 0.00019446373456790262, 1]]\n"
     ]
    }
   ],
   "source": [
    "analysis_type=\"model_assessment\"\n",
    "dataset_split=\"val\"\n",
    "dataset = \"gender_data\"\n",
    "CV=[\"3Fold\", \"5Fold\", \"10Fold\"]\n",
    "\n",
    "models_args=[\n",
    "    gcn_student_lsp_ensamble_4_args\n",
    "]\n",
    "\n",
    "all_model_metrics_mean = []\n",
    "all_model_metrics_var = []\n",
    "all_model_best_student = []\n",
    "\n",
    "for model_arg in models_args:\n",
    "    \n",
    "    print(model_arg[\"model_name\"])\n",
    "\n",
    "    model_metrics_mean = []\n",
    "    model_metrics_var = []\n",
    "    model_best_student = []\n",
    "\n",
    "    for view in [0,2,4,5]:\n",
    "        mean, var, best_students = get_best_student_ensamble_detailed(\n",
    "            model=model_arg[\"model_name\"], \n",
    "            view=view, \n",
    "            CV=CV,\n",
    "            dataset=dataset,\n",
    "            runs=[i for i in range(10)], \n",
    "            analysis_type=analysis_type,\n",
    "            dataset_split=dataset_split,\n",
    "            model_args=model_arg\n",
    "        )\n",
    "        print(best_students)\n",
    "        model_metrics_mean.append(mean)\n",
    "        model_metrics_var.append(var)\n",
    "        model_best_student.append(best_students)\n",
    "\n",
    "    all_model_metrics_mean.append(model_metrics_mean)\n",
    "    all_model_metrics_var.append(model_metrics_var)\n",
    "    all_model_best_student.append(model_best_student)"
   ]
  },
  {
   "cell_type": "code",
   "execution_count": 132,
   "metadata": {},
   "outputs": [
    {
     "name": "stdout",
     "output_type": "stream",
     "text": [
      "gcn_student_lsp_ensamble_4\n",
      "[[0.9590277777777777, 0.0008345871913580261, 1], [0.9388888888888889, 0.0004918981481481483, 2], [0.9388888888888889, 0.0004918981481481483, 2], [0.9590277777777777, 0.0008345871913580261, 1], [0.9388888888888889, 0.0004918981481481483, 2]]\n",
      "[[0.974027777777778, 0.0005069637345678996, 3], [0.974027777777778, 0.0005069637345678996, 3], [0.974027777777778, 0.0005069637345678996, 3], [0.974027777777778, 0.0005069637345678996, 3], [0.974027777777778, 0.0005069637345678996, 3]]\n",
      "[[0.9561111111111111, 0.00022037037037037085, 2], [0.9561111111111111, 0.00022037037037037085, 2], [0.9561111111111111, 0.00022037037037037085, 2], [0.9561111111111111, 0.00022037037037037085, 2], [0.9561111111111111, 0.00022037037037037085, 2]]\n",
      "[[0.9552777777777777, 0.00038958333333333336, 3], [0.9083333333333334, 0.0009459876543209866, 1], [0.9083333333333334, 0.0009459876543209866, 1], [0.9552777777777777, 0.00038958333333333336, 3], [0.9083333333333334, 0.0009459876543209866, 1]]\n",
      "gcn_student_lsp_ensamble_4\n",
      "[[0.9597222222222224, 0.0003784722222222219, 2], [0.9597222222222224, 0.0003784722222222219, 2], [0.9597222222222224, 0.0003784722222222219, 2], [0.9597222222222224, 0.0003784722222222219, 2], [0.9597222222222224, 0.0003784722222222219, 2]]\n",
      "[[0.9680555555555556, 4.166666666666626e-05, 1], [0.9323611111111111, 0.0006246334876543207, 3], [0.9680555555555556, 4.166666666666626e-05, 1], [0.9680555555555556, 4.166666666666626e-05, 1], [0.9680555555555556, 4.166666666666626e-05, 1]]\n",
      "[[0.9649999999999999, 0.00012222222222222262, 2], [0.9134722222222222, 0.00023844521604938257, 1], [0.9649999999999999, 0.00012222222222222262, 2], [0.9649999999999999, 0.00012222222222222262, 2], [0.9649999999999999, 0.00012222222222222262, 2]]\n",
      "[[0.9690277777777778, 0.00019446373456790262, 1], [0.9690277777777778, 0.00019446373456790262, 1], [0.9690277777777778, 0.00019446373456790262, 1], [0.9690277777777778, 0.00019446373456790262, 1], [0.9690277777777778, 0.00019446373456790262, 1]]\n",
      "gcn_student_lsp_ensamble_4\n",
      "[[0.9788888888888889, 0.00023333333333333328, 3], [0.9247222222222222, 3.773148148148005e-05, 2], [0.9722222222222221, 1.232595164407831e-32, 1], [0.9788888888888889, 0.00023333333333333328, 3], [0.9722222222222221, 1.232595164407831e-32, 1]]\n",
      "[[0.9872222222222222, 2.5000000000000157e-05, 2], [0.9772222222222224, 2.7777777777776106e-06, 1], [0.9783333333333333, 7.407407407407354e-06, 3], [0.9772222222222224, 2.7777777777776106e-06, 1], [0.9783333333333333, 7.407407407407354e-06, 3]]\n",
      "[[0.9638888888888888, 1.232595164407831e-32, 3], [0.9297222222222222, 3.402777777777753e-05, 0], [0.9527777777777777, 1.232595164407831e-32, 2], [0.9297222222222222, 3.402777777777753e-05, 0], [0.9527777777777777, 1.232595164407831e-32, 2]]\n",
      "[[0.9713888888888886, 6.249999999999955e-06, 2], [0.9527777777777777, 1.232595164407831e-32, 1], [0.9638888888888888, 1.232595164407831e-32, 3], [0.9713888888888886, 6.249999999999955e-06, 2], [0.9638888888888888, 1.232595164407831e-32, 3]]\n",
      "gcn_student_lsp_ensamble_4\n",
      "[[0.9548611111111109, 0.0001717785493827153, 2], [0.8854166666666667, 0.000546778549382717, 3], [0.8854166666666667, 0.000546778549382717, 3], [0.9548611111111109, 0.0001717785493827153, 2], [0.9548611111111109, 0.0001717785493827153, 2]]\n",
      "[[0.9529166666666665, 0.00017957175925926018, 3], [0.8950000000000001, 0.0015332561728395053, 2], [0.9115277777777777, 0.0003642168209876554, 1], [0.9529166666666665, 0.00017957175925926018, 3], [0.9529166666666665, 0.00017957175925926018, 3]]\n",
      "[[0.9504166666666667, 0.0008784915123456812, 1], [0.9504166666666667, 0.0008784915123456812, 1], [0.9504166666666667, 0.0008784915123456812, 1], [0.9504166666666667, 0.0008784915123456812, 1], [0.9504166666666667, 0.0008784915123456812, 1]]\n",
      "[[0.9333333333333333, 0.0003676697530864192, 0], [0.9202777777777775, 0.0003608024691358003, 3], [0.9202777777777775, 0.0003608024691358003, 3], [0.9202777777777775, 0.0003608024691358003, 3], [0.9202777777777775, 0.0003608024691358003, 3]]\n"
     ]
    }
   ],
   "source": [
    "analysis_type=\"model_assessment\"\n",
    "dataset_split=\"val\"\n",
    "dataset = \"gender_data\"\n",
    "CV=[\"3Fold\", \"5Fold\", \"10Fold\"]\n",
    "\n",
    "models_args=[\n",
    "    gcn_student_lsp_ensamble_4_args_1,\n",
    "    gcn_student_lsp_ensamble_4_args_2,\n",
    "    gcn_student_lsp_ensamble_4_args_3,\n",
    "    gcn_student_lsp_ensamble_4_args_4\n",
    "]\n",
    "\n",
    "for model_arg in models_args:\n",
    "    \n",
    "    print(model_arg[\"model_name\"])\n",
    "\n",
    "    model_metrics_mean = []\n",
    "    model_metrics_var = []\n",
    "    model_best_student = []\n",
    "\n",
    "    for view in [0,2,4,5]:\n",
    "        mean, var, best_students = get_best_student_ensamble_detailed(\n",
    "            model=\"gcn_student_lsp_ensamble_4_ablation\", \n",
    "            view=view, \n",
    "            CV=CV,\n",
    "            dataset=dataset,\n",
    "            runs=[i for i in range(10)], \n",
    "            analysis_type=analysis_type,\n",
    "            dataset_split=dataset_split,\n",
    "            model_args=model_arg\n",
    "        )\n",
    "        print(best_students)\n",
    "        model_metrics_mean.append(mean)\n",
    "        model_metrics_var.append(var)\n",
    "        model_best_student.append(best_students)\n",
    "\n",
    "    all_model_metrics_mean.append(model_metrics_mean)\n",
    "    all_model_metrics_var.append(model_metrics_var)\n",
    "    all_model_best_student.append(model_best_student)"
   ]
  },
  {
   "cell_type": "code",
   "execution_count": 133,
   "metadata": {},
   "outputs": [
    {
     "data": {
      "text/plain": [
       "(25, 5)"
      ]
     },
     "execution_count": 133,
     "metadata": {},
     "output_type": "execute_result"
    }
   ],
   "source": [
    "df_best_student = np.array(all_model_best_student)\n",
    "df = []\n",
    "for i in range(4):\n",
    "    df.append(df_best_student[:, i, :, 0].flatten())\n",
    "df = pd.DataFrame(np.array(df))\n",
    "# Calculate the mean of columns\n",
    "mean_row = df.mean(axis=0)\n",
    "\n",
    "# Append the mean row to the DataFrame\n",
    "df = df.append(mean_row, ignore_index=True).T\n",
    "index_values = ['max rep', 'max acc', 'max f1', 'weighted acc', 'weighted f1'] * (len(df) // 5) + ['max rep', 'max acc', 'max f1', 'weighted acc', 'weighted f1'][:len(df) % 5]\n",
    "\n",
    "# Assign the new index to the DataFrame\n",
    "df.index = index_values\n",
    "df.shape"
   ]
  },
  {
   "cell_type": "code",
   "execution_count": 134,
   "metadata": {},
   "outputs": [
    {
     "data": {
      "text/plain": [
       "(25, 5)"
      ]
     },
     "execution_count": 134,
     "metadata": {},
     "output_type": "execute_result"
    }
   ],
   "source": [
    "df_best_student = np.array(all_model_best_student)\n",
    "df_std = []\n",
    "for i in range(4):\n",
    "    df_std.append(df_best_student[:, i, :, 1].flatten())\n",
    "df_std = pd.DataFrame(np.array(df_std))\n",
    "# Calculate the mean of columns\n",
    "mean_row = df_std.mean(axis=0)\n",
    "\n",
    "# Append the mean row to the DataFrame\n",
    "df_std_rep = df_std.append(mean_row, ignore_index=True).T\n",
    "index_values = ['max rep', 'max acc', 'max f1', 'weighted acc', 'weighted f1'] * (len(df) // 5) + ['max rep', 'max acc', 'max f1', 'weighted acc', 'weighted f1'][:len(df) % 5]\n",
    "\n",
    "# Assign the new index to the DataFrame\n",
    "df_std_rep.index = index_values\n",
    "df_std_rep.shape"
   ]
  },
  {
   "cell_type": "code",
   "execution_count": 135,
   "metadata": {},
   "outputs": [],
   "source": [
    "index = df_best_student[:,:,:,2]\n",
    "all_data_accuracy = []\n",
    "for view_index in range(4):\n",
    "    view_data = []\n",
    "    ensamble_indexes = index[:,view_index,:]\n",
    "    ensamble_data = np.array(all_model_metrics_mean)[:,view_index]\n",
    "    #number of ensembles \n",
    "    for i in range(5):\n",
    "        view_data.append([ensamble_data[i][int(best_student_index)][0] for best_student_index in ensamble_indexes[i]])\n",
    "    all_data_accuracy.append(np.array(view_data).flatten())"
   ]
  },
  {
   "cell_type": "code",
   "execution_count": 136,
   "metadata": {},
   "outputs": [],
   "source": [
    "all_data_var = []\n",
    "for view_index in range(4):\n",
    "    view_data = []\n",
    "    ensamble_indexes = index[:,view_index,:]\n",
    "    ensamble_data = np.array(all_model_metrics_var)[:,view_index]\n",
    "    #number of ensembles \n",
    "    for i in range(5):\n",
    "        view_data.append([ensamble_data[i][int(best_student_index)][0] for best_student_index in ensamble_indexes[i]])\n",
    "    all_data_var.append(np.array(view_data).flatten())"
   ]
  },
  {
   "cell_type": "code",
   "execution_count": 137,
   "metadata": {},
   "outputs": [
    {
     "data": {
      "text/plain": [
       "(25, 5)"
      ]
     },
     "execution_count": 137,
     "metadata": {},
     "output_type": "execute_result"
    }
   ],
   "source": [
    "df_acuracy = pd.DataFrame(np.array(all_data_accuracy))\n",
    "# Calculate the mean of columns\n",
    "mean_row = df_acuracy.mean(axis=0)\n",
    "\n",
    "# Append the mean row to the DataFrame\n",
    "df_acuracy = df_acuracy.append(mean_row, ignore_index=True).T\n",
    "# Create the list of repeating index values\n",
    "index_values = ['max rep', 'max acc', 'max f1', 'weighted acc', 'weighted f1'] * (len(df_acuracy) // 5) + ['max rep', 'max acc', 'max f1', 'weighted acc', 'weighted f1'][:len(df_acuracy) % 5]\n",
    "\n",
    "# Assign the new index to the DataFrame\n",
    "df_acuracy.index = index_values\n",
    "df_acuracy.shape"
   ]
  },
  {
   "cell_type": "code",
   "execution_count": 138,
   "metadata": {},
   "outputs": [
    {
     "data": {
      "text/plain": [
       "(25, 5)"
      ]
     },
     "execution_count": 138,
     "metadata": {},
     "output_type": "execute_result"
    }
   ],
   "source": [
    "df_std = pd.DataFrame(np.array(all_data_var))\n",
    "# Calculate the mean of columns\n",
    "mean_row = df_std.mean(axis=0)\n",
    "\n",
    "# Append the mean row to the DataFrame\n",
    "df_std = df_std.append(mean_row, ignore_index=True).T\n",
    "# Create the list of repeating index values\n",
    "index_values = ['max rep', 'max acc', 'max f1', 'weighted acc', 'weighted f1'] * (len(df_std) // 5) + ['max rep', 'max acc', 'max f1', 'weighted acc', 'weighted f1'][:len(df_std) % 5]\n",
    "\n",
    "# Assign the new index to the DataFrame\n",
    "df_std.index = index_values\n",
    "df_std.shape"
   ]
  },
  {
   "cell_type": "code",
   "execution_count": 139,
   "metadata": {},
   "outputs": [],
   "source": [
    "df_acuracy = df_acuracy.loc['weighted acc'].T\n",
    "df_std = df_std.loc['weighted acc'].T\n",
    "df_std = np.sqrt(df_std)\n",
    "\n",
    "df_rep = df.loc['weighted acc'].T\n",
    "df_std_rep = df_std_rep.loc['weighted acc'].T\n",
    "df_std_rep = np.sqrt(df_std_rep)"
   ]
  },
  {
   "cell_type": "code",
   "execution_count": 140,
   "metadata": {},
   "outputs": [
    {
     "data": {
      "text/html": [
       "<div>\n",
       "<style scoped>\n",
       "    .dataframe tbody tr th:only-of-type {\n",
       "        vertical-align: middle;\n",
       "    }\n",
       "\n",
       "    .dataframe tbody tr th {\n",
       "        vertical-align: top;\n",
       "    }\n",
       "\n",
       "    .dataframe thead th {\n",
       "        text-align: right;\n",
       "    }\n",
       "</style>\n",
       "<table border=\"1\" class=\"dataframe\">\n",
       "  <thead>\n",
       "    <tr style=\"text-align: right;\">\n",
       "      <th></th>\n",
       "      <th>Original</th>\n",
       "      <th>No alpha</th>\n",
       "      <th>No beta</th>\n",
       "      <th>No gamma</th>\n",
       "      <th>No lambda</th>\n",
       "    </tr>\n",
       "  </thead>\n",
       "  <tbody>\n",
       "    <tr>\n",
       "      <th>0</th>\n",
       "      <td>0.009602</td>\n",
       "      <td>0.018193</td>\n",
       "      <td>0.009789</td>\n",
       "      <td>0.001086</td>\n",
       "      <td>0.005550</td>\n",
       "    </tr>\n",
       "    <tr>\n",
       "      <th>1</th>\n",
       "      <td>0.004146</td>\n",
       "      <td>0.007972</td>\n",
       "      <td>0.004039</td>\n",
       "      <td>0.001177</td>\n",
       "      <td>0.003695</td>\n",
       "    </tr>\n",
       "    <tr>\n",
       "      <th>2</th>\n",
       "      <td>0.002405</td>\n",
       "      <td>0.010521</td>\n",
       "      <td>0.002384</td>\n",
       "      <td>0.002686</td>\n",
       "      <td>0.005132</td>\n",
       "    </tr>\n",
       "    <tr>\n",
       "      <th>3</th>\n",
       "      <td>0.003948</td>\n",
       "      <td>0.009723</td>\n",
       "      <td>0.004060</td>\n",
       "      <td>0.001354</td>\n",
       "      <td>0.001646</td>\n",
       "    </tr>\n",
       "    <tr>\n",
       "      <th>4</th>\n",
       "      <td>0.005718</td>\n",
       "      <td>0.012245</td>\n",
       "      <td>0.005794</td>\n",
       "      <td>0.001704</td>\n",
       "      <td>0.004287</td>\n",
       "    </tr>\n",
       "  </tbody>\n",
       "</table>\n",
       "</div>"
      ],
      "text/plain": [
       "   Original  No alpha   No beta  No gamma  No lambda\n",
       "0  0.009602  0.018193  0.009789  0.001086   0.005550\n",
       "1  0.004146  0.007972  0.004039  0.001177   0.003695\n",
       "2  0.002405  0.010521  0.002384  0.002686   0.005132\n",
       "3  0.003948  0.009723  0.004060  0.001354   0.001646\n",
       "4  0.005718  0.012245  0.005794  0.001704   0.004287"
      ]
     },
     "execution_count": 140,
     "metadata": {},
     "output_type": "execute_result"
    }
   ],
   "source": [
    "import pandas as pd\n",
    "\n",
    "# Assuming you have a DataFrame called 'df' with the given data\n",
    "\n",
    "# Define the new column labels\n",
    "x_ticks = ['Original', 'No alpha', 'No beta', 'No gamma', 'No lambda']\n",
    "# Rename the columns using the new labels\n",
    "df_acuracy.columns = x_ticks\n",
    "df_rep.columns = x_ticks\n",
    "df_std.columns = x_ticks\n",
    "df_std_rep.columns = x_ticks\n",
    "# Display the modified DataFrame\n",
    "df_std"
   ]
  },
  {
   "cell_type": "code",
   "execution_count": 146,
   "metadata": {},
   "outputs": [
    {
     "data": {
      "text/html": [
       "<div>\n",
       "<style scoped>\n",
       "    .dataframe tbody tr th:only-of-type {\n",
       "        vertical-align: middle;\n",
       "    }\n",
       "\n",
       "    .dataframe tbody tr th {\n",
       "        vertical-align: top;\n",
       "    }\n",
       "\n",
       "    .dataframe thead th {\n",
       "        text-align: right;\n",
       "    }\n",
       "</style>\n",
       "<table border=\"1\" class=\"dataframe\">\n",
       "  <thead>\n",
       "    <tr style=\"text-align: right;\">\n",
       "      <th></th>\n",
       "      <th>0</th>\n",
       "      <th>1</th>\n",
       "      <th>2</th>\n",
       "      <th>3</th>\n",
       "      <th>4</th>\n",
       "    </tr>\n",
       "  </thead>\n",
       "  <tbody>\n",
       "    <tr>\n",
       "      <th>Original</th>\n",
       "      <td>60.130316</td>\n",
       "      <td>61.953215</td>\n",
       "      <td>64.023050</td>\n",
       "      <td>63.190064</td>\n",
       "      <td>62.324161</td>\n",
       "    </tr>\n",
       "    <tr>\n",
       "      <th>No alpha</th>\n",
       "      <td>55.196274</td>\n",
       "      <td>65.093676</td>\n",
       "      <td>62.477232</td>\n",
       "      <td>56.700841</td>\n",
       "      <td>59.867006</td>\n",
       "    </tr>\n",
       "    <tr>\n",
       "      <th>No beta</th>\n",
       "      <td>60.134500</td>\n",
       "      <td>61.958343</td>\n",
       "      <td>64.046497</td>\n",
       "      <td>63.175765</td>\n",
       "      <td>62.328776</td>\n",
       "    </tr>\n",
       "    <tr>\n",
       "      <th>No gamma</th>\n",
       "      <td>55.248243</td>\n",
       "      <td>59.948777</td>\n",
       "      <td>60.826810</td>\n",
       "      <td>55.461344</td>\n",
       "      <td>57.871293</td>\n",
       "    </tr>\n",
       "    <tr>\n",
       "      <th>No lambda</th>\n",
       "      <td>62.021271</td>\n",
       "      <td>62.778330</td>\n",
       "      <td>66.334831</td>\n",
       "      <td>64.913534</td>\n",
       "      <td>64.011992</td>\n",
       "    </tr>\n",
       "  </tbody>\n",
       "</table>\n",
       "</div>"
      ],
      "text/plain": [
       "                   0          1          2          3          4\n",
       "Original   60.130316  61.953215  64.023050  63.190064  62.324161\n",
       "No alpha   55.196274  65.093676  62.477232  56.700841  59.867006\n",
       "No beta    60.134500  61.958343  64.046497  63.175765  62.328776\n",
       "No gamma   55.248243  59.948777  60.826810  55.461344  57.871293\n",
       "No lambda  62.021271  62.778330  66.334831  64.913534  64.011992"
      ]
     },
     "execution_count": 146,
     "metadata": {},
     "output_type": "execute_result"
    }
   ],
   "source": [
    "df_acuracy.T*100"
   ]
  },
  {
   "cell_type": "code",
   "execution_count": 147,
   "metadata": {},
   "outputs": [
    {
     "data": {
      "text/html": [
       "<div>\n",
       "<style scoped>\n",
       "    .dataframe tbody tr th:only-of-type {\n",
       "        vertical-align: middle;\n",
       "    }\n",
       "\n",
       "    .dataframe tbody tr th {\n",
       "        vertical-align: top;\n",
       "    }\n",
       "\n",
       "    .dataframe thead th {\n",
       "        text-align: right;\n",
       "    }\n",
       "</style>\n",
       "<table border=\"1\" class=\"dataframe\">\n",
       "  <thead>\n",
       "    <tr style=\"text-align: right;\">\n",
       "      <th></th>\n",
       "      <th>0</th>\n",
       "      <th>1</th>\n",
       "      <th>2</th>\n",
       "      <th>3</th>\n",
       "      <th>4</th>\n",
       "    </tr>\n",
       "  </thead>\n",
       "  <tbody>\n",
       "    <tr>\n",
       "      <th>Original</th>\n",
       "      <td>0.960210</td>\n",
       "      <td>0.414608</td>\n",
       "      <td>0.240506</td>\n",
       "      <td>0.394778</td>\n",
       "      <td>0.571751</td>\n",
       "    </tr>\n",
       "    <tr>\n",
       "      <th>No alpha</th>\n",
       "      <td>1.819282</td>\n",
       "      <td>0.797159</td>\n",
       "      <td>1.052145</td>\n",
       "      <td>0.972325</td>\n",
       "      <td>1.224508</td>\n",
       "    </tr>\n",
       "    <tr>\n",
       "      <th>No beta</th>\n",
       "      <td>0.978877</td>\n",
       "      <td>0.403866</td>\n",
       "      <td>0.238414</td>\n",
       "      <td>0.406000</td>\n",
       "      <td>0.579436</td>\n",
       "    </tr>\n",
       "    <tr>\n",
       "      <th>No gamma</th>\n",
       "      <td>0.108583</td>\n",
       "      <td>0.117739</td>\n",
       "      <td>0.268551</td>\n",
       "      <td>0.135410</td>\n",
       "      <td>0.170373</td>\n",
       "    </tr>\n",
       "    <tr>\n",
       "      <th>No lambda</th>\n",
       "      <td>0.555017</td>\n",
       "      <td>0.369474</td>\n",
       "      <td>0.513204</td>\n",
       "      <td>0.164600</td>\n",
       "      <td>0.428668</td>\n",
       "    </tr>\n",
       "  </tbody>\n",
       "</table>\n",
       "</div>"
      ],
      "text/plain": [
       "                  0         1         2         3         4\n",
       "Original   0.960210  0.414608  0.240506  0.394778  0.571751\n",
       "No alpha   1.819282  0.797159  1.052145  0.972325  1.224508\n",
       "No beta    0.978877  0.403866  0.238414  0.406000  0.579436\n",
       "No gamma   0.108583  0.117739  0.268551  0.135410  0.170373\n",
       "No lambda  0.555017  0.369474  0.513204  0.164600  0.428668"
      ]
     },
     "execution_count": 147,
     "metadata": {},
     "output_type": "execute_result"
    }
   ],
   "source": [
    "df_std.T*100"
   ]
  },
  {
   "cell_type": "code",
   "execution_count": 145,
   "metadata": {},
   "outputs": [
    {
     "data": {
      "text/html": [
       "<div>\n",
       "<style scoped>\n",
       "    .dataframe tbody tr th:only-of-type {\n",
       "        vertical-align: middle;\n",
       "    }\n",
       "\n",
       "    .dataframe tbody tr th {\n",
       "        vertical-align: top;\n",
       "    }\n",
       "\n",
       "    .dataframe thead th {\n",
       "        text-align: right;\n",
       "    }\n",
       "</style>\n",
       "<table border=\"1\" class=\"dataframe\">\n",
       "  <thead>\n",
       "    <tr style=\"text-align: right;\">\n",
       "      <th></th>\n",
       "      <th>0</th>\n",
       "      <th>1</th>\n",
       "      <th>2</th>\n",
       "      <th>3</th>\n",
       "      <th>4</th>\n",
       "    </tr>\n",
       "  </thead>\n",
       "  <tbody>\n",
       "    <tr>\n",
       "      <th>Original</th>\n",
       "      <td>96.000000</td>\n",
       "      <td>96.888889</td>\n",
       "      <td>96.500000</td>\n",
       "      <td>96.902778</td>\n",
       "      <td>96.572917</td>\n",
       "    </tr>\n",
       "    <tr>\n",
       "      <th>No alpha</th>\n",
       "      <td>95.902778</td>\n",
       "      <td>97.402778</td>\n",
       "      <td>95.611111</td>\n",
       "      <td>95.527778</td>\n",
       "      <td>96.111111</td>\n",
       "    </tr>\n",
       "    <tr>\n",
       "      <th>No beta</th>\n",
       "      <td>95.972222</td>\n",
       "      <td>96.805556</td>\n",
       "      <td>96.500000</td>\n",
       "      <td>96.902778</td>\n",
       "      <td>96.545139</td>\n",
       "    </tr>\n",
       "    <tr>\n",
       "      <th>No gamma</th>\n",
       "      <td>97.888889</td>\n",
       "      <td>97.722222</td>\n",
       "      <td>92.972222</td>\n",
       "      <td>97.138889</td>\n",
       "      <td>96.430556</td>\n",
       "    </tr>\n",
       "    <tr>\n",
       "      <th>No lambda</th>\n",
       "      <td>95.486111</td>\n",
       "      <td>95.291667</td>\n",
       "      <td>95.041667</td>\n",
       "      <td>92.027778</td>\n",
       "      <td>94.461806</td>\n",
       "    </tr>\n",
       "  </tbody>\n",
       "</table>\n",
       "</div>"
      ],
      "text/plain": [
       "                   0          1          2          3          4\n",
       "Original   96.000000  96.888889  96.500000  96.902778  96.572917\n",
       "No alpha   95.902778  97.402778  95.611111  95.527778  96.111111\n",
       "No beta    95.972222  96.805556  96.500000  96.902778  96.545139\n",
       "No gamma   97.888889  97.722222  92.972222  97.138889  96.430556\n",
       "No lambda  95.486111  95.291667  95.041667  92.027778  94.461806"
      ]
     },
     "execution_count": 145,
     "metadata": {},
     "output_type": "execute_result"
    }
   ],
   "source": [
    "df_rep.T*100"
   ]
  },
  {
   "cell_type": "code",
   "execution_count": 148,
   "metadata": {},
   "outputs": [
    {
     "data": {
      "text/html": [
       "<div>\n",
       "<style scoped>\n",
       "    .dataframe tbody tr th:only-of-type {\n",
       "        vertical-align: middle;\n",
       "    }\n",
       "\n",
       "    .dataframe tbody tr th {\n",
       "        vertical-align: top;\n",
       "    }\n",
       "\n",
       "    .dataframe thead th {\n",
       "        text-align: right;\n",
       "    }\n",
       "</style>\n",
       "<table border=\"1\" class=\"dataframe\">\n",
       "  <thead>\n",
       "    <tr style=\"text-align: right;\">\n",
       "      <th></th>\n",
       "      <th>0</th>\n",
       "      <th>1</th>\n",
       "      <th>2</th>\n",
       "      <th>3</th>\n",
       "      <th>4</th>\n",
       "    </tr>\n",
       "  </thead>\n",
       "  <tbody>\n",
       "    <tr>\n",
       "      <th>Original</th>\n",
       "      <td>1.917270</td>\n",
       "      <td>0.771302</td>\n",
       "      <td>1.105542</td>\n",
       "      <td>1.394503</td>\n",
       "      <td>1.363607</td>\n",
       "    </tr>\n",
       "    <tr>\n",
       "      <th>No alpha</th>\n",
       "      <td>2.888922</td>\n",
       "      <td>2.251586</td>\n",
       "      <td>1.484488</td>\n",
       "      <td>1.973787</td>\n",
       "      <td>2.208792</td>\n",
       "    </tr>\n",
       "    <tr>\n",
       "      <th>No beta</th>\n",
       "      <td>1.945436</td>\n",
       "      <td>0.645497</td>\n",
       "      <td>1.105542</td>\n",
       "      <td>1.394503</td>\n",
       "      <td>1.357226</td>\n",
       "    </tr>\n",
       "    <tr>\n",
       "      <th>No gamma</th>\n",
       "      <td>1.527525</td>\n",
       "      <td>0.166667</td>\n",
       "      <td>0.583333</td>\n",
       "      <td>0.250000</td>\n",
       "      <td>0.831247</td>\n",
       "    </tr>\n",
       "    <tr>\n",
       "      <th>No lambda</th>\n",
       "      <td>1.310643</td>\n",
       "      <td>1.340044</td>\n",
       "      <td>2.963936</td>\n",
       "      <td>1.899480</td>\n",
       "      <td>1.994144</td>\n",
       "    </tr>\n",
       "  </tbody>\n",
       "</table>\n",
       "</div>"
      ],
      "text/plain": [
       "                  0         1         2         3         4\n",
       "Original   1.917270  0.771302  1.105542  1.394503  1.363607\n",
       "No alpha   2.888922  2.251586  1.484488  1.973787  2.208792\n",
       "No beta    1.945436  0.645497  1.105542  1.394503  1.357226\n",
       "No gamma   1.527525  0.166667  0.583333  0.250000  0.831247\n",
       "No lambda  1.310643  1.340044  2.963936  1.899480  1.994144"
      ]
     },
     "execution_count": 148,
     "metadata": {},
     "output_type": "execute_result"
    }
   ],
   "source": [
    "df_std_rep.T*100"
   ]
  },
  {
   "cell_type": "code",
   "execution_count": 203,
   "metadata": {},
   "outputs": [],
   "source": [
    "def ablation_study_model_f1(dataset, final_model_args, final_model, views, all_student_index, runs):\n",
    "    view_mean = []\n",
    "    view_std = []\n",
    "\n",
    "    for best_student_i, view in enumerate(views):\n",
    "\n",
    "        model_mean = []\n",
    "        model_std = []\n",
    "\n",
    "        index_student = all_student_index[best_student_i]\n",
    "        for i, model_arg in enumerate(final_model_args):\n",
    "            mean, std = get_student_model_metric(dataset, final_model[i], CV, runs, analysis_type, dataset_split, view, model_arg)\n",
    "            model_mean.append(mean[index_student])\n",
    "            model_std.append(std[index_student])\n",
    "                            \n",
    "        mean_df = np.array(model_mean[0])[:,3]\n",
    "        mean_df = mean_df[np.newaxis, :]\n",
    "        \n",
    "        std_df = np.array(model_std[0])[:,3]\n",
    "        std_df = std_df[np.newaxis, :]\n",
    "\n",
    "        view_mean.append(mean_df)\n",
    "        view_std.append(std_df)\n",
    "\n",
    "    average_across_views_metric = []\n",
    "    for i in range(len(views)):\n",
    "        average_across_views_metric.append(view_mean[i][:,-1])\n",
    "\n",
    "    average_across_views_std = []\n",
    "    for i in range(len(views)):\n",
    "        average_across_views_std.append(view_std[i][:,-1])\n",
    "\n",
    "    average_across_views_df = pd.DataFrame(average_across_views_metric)\n",
    "    # Calculate the mean of each row\n",
    "    average_across_views_df_mean = average_across_views_df.mean(axis=0)  \n",
    "    # Create a DataFrame from the row means\n",
    "    average_across_views_df_mean = pd.DataFrame(average_across_views_df_mean).T  \n",
    "    # Append the row mean DataFrame to the original DataFrame\n",
    "    average_across_views_df = average_across_views_df.append(average_across_views_df_mean, ignore_index=True)\n",
    "\n",
    "    average_across_views_df_std_mean = pd.DataFrame(average_across_views_std)\n",
    "\n",
    "    return average_across_views_df, average_across_views_df_std_mean"
   ]
  },
  {
   "cell_type": "code",
   "execution_count": 215,
   "metadata": {},
   "outputs": [],
   "source": [
    "dataset = \"gender_data\"\n",
    "final_model_args = [gcn_student_lsp_ensamble_4_args]\n",
    "final_model = ['gcn_student_lsp_ensamble_4']\n",
    "views = [0,2,4,5]\n",
    "all_student_index = [2,1,2,1]\n",
    "runs = [i for i in range(10)]\n",
    "f1_args, f1_std_arg  = ablation_study_model_f1(dataset, final_model_args, final_model, views, all_student_index, runs)"
   ]
  },
  {
   "cell_type": "code",
   "execution_count": 217,
   "metadata": {},
   "outputs": [
    {
     "data": {
      "text/plain": [
       "(           0\n",
       " 0  61.586573\n",
       " 1  58.499451\n",
       " 2  60.390094\n",
       " 3  59.416408\n",
       " 4  59.973131,\n",
       "           0\n",
       " 0  2.590668\n",
       " 1  1.282769\n",
       " 2  1.009295\n",
       " 3  0.452370)"
      ]
     },
     "execution_count": 217,
     "metadata": {},
     "output_type": "execute_result"
    }
   ],
   "source": [
    "f1_args*100, f1_std_arg*100"
   ]
  },
  {
   "cell_type": "code",
   "execution_count": 219,
   "metadata": {},
   "outputs": [
    {
     "ename": "KeyboardInterrupt",
     "evalue": "",
     "output_type": "error",
     "traceback": [
      "\u001b[0;31m---------------------------------------------------------------------------\u001b[0m",
      "\u001b[0;31mKeyboardInterrupt\u001b[0m                         Traceback (most recent call last)",
      "Cell \u001b[0;32mIn[219], line 7\u001b[0m\n\u001b[1;32m      5\u001b[0m all_student_index \u001b[39m=\u001b[39m [\u001b[39m1\u001b[39m,\u001b[39m3\u001b[39m,\u001b[39m2\u001b[39m,\u001b[39m3\u001b[39m]\n\u001b[1;32m      6\u001b[0m runs \u001b[39m=\u001b[39m [i \u001b[39mfor\u001b[39;00m i \u001b[39min\u001b[39;00m \u001b[39mrange\u001b[39m(\u001b[39m10\u001b[39m)]\n\u001b[0;32m----> 7\u001b[0m f1_args_1, f1_std_args_1  \u001b[39m=\u001b[39m ablation_study_model_f1(dataset, final_model_args, final_model, views, all_student_index, runs)\n",
      "Cell \u001b[0;32mIn[203], line 12\u001b[0m, in \u001b[0;36mablation_study_model_f1\u001b[0;34m(dataset, final_model_args, final_model, views, all_student_index, runs)\u001b[0m\n\u001b[1;32m     10\u001b[0m index_student \u001b[39m=\u001b[39m all_student_index[best_student_i]\n\u001b[1;32m     11\u001b[0m \u001b[39mfor\u001b[39;00m i, model_arg \u001b[39min\u001b[39;00m \u001b[39menumerate\u001b[39m(final_model_args):\n\u001b[0;32m---> 12\u001b[0m     mean, std \u001b[39m=\u001b[39m get_student_model_metric(dataset, final_model[i], CV, runs, analysis_type, dataset_split, view, model_arg)\n\u001b[1;32m     13\u001b[0m     model_mean\u001b[39m.\u001b[39mappend(mean[index_student])\n\u001b[1;32m     14\u001b[0m     model_std\u001b[39m.\u001b[39mappend(std[index_student])\n",
      "File \u001b[0;32m~/Documents/University/Imperial/Summer Term/thesis-imperial/src/utils/analysis.py:188\u001b[0m, in \u001b[0;36mget_student_model_metric\u001b[0;34m(dataset, model, CV, runs, analysis_type, dataset_split, view, model_args)\u001b[0m\n\u001b[1;32m    184\u001b[0m model_metrics \u001b[39m=\u001b[39m []\n\u001b[1;32m    186\u001b[0m \u001b[39mfor\u001b[39;00m training_type \u001b[39min\u001b[39;00m CV:\n\u001b[0;32m--> 188\u001b[0m     model_cv_metrics \u001b[39m=\u001b[39m get_mean_CV_metric_student_model(\n\u001b[1;32m    189\u001b[0m         dataset\u001b[39m=\u001b[39;49mdataset, \n\u001b[1;32m    190\u001b[0m         model\u001b[39m=\u001b[39;49mmodel, \n\u001b[1;32m    191\u001b[0m         analysis_type\u001b[39m=\u001b[39;49manalysis_type, \n\u001b[1;32m    192\u001b[0m         training_type\u001b[39m=\u001b[39;49mtraining_type, \n\u001b[1;32m    193\u001b[0m         view\u001b[39m=\u001b[39;49mview, \n\u001b[1;32m    194\u001b[0m         run\u001b[39m=\u001b[39;49mrun, \n\u001b[1;32m    195\u001b[0m         student\u001b[39m=\u001b[39;49mstudent, \n\u001b[1;32m    196\u001b[0m         dataset_split\u001b[39m=\u001b[39;49mdataset_split,\n\u001b[1;32m    197\u001b[0m         model_args\u001b[39m=\u001b[39;49mmodel_args\n\u001b[1;32m    198\u001b[0m         )\n\u001b[1;32m    199\u001b[0m     model_metrics\u001b[39m.\u001b[39mappend(model_cv_metrics)\n\u001b[1;32m    201\u001b[0m run_data\u001b[39m.\u001b[39mappend(model_metrics)\n",
      "File \u001b[0;32m~/Documents/University/Imperial/Summer Term/thesis-imperial/src/utils/analysis.py:420\u001b[0m, in \u001b[0;36mget_mean_CV_metric_student_model\u001b[0;34m(dataset, model, analysis_type, training_type, view, run, student, dataset_split, model_args)\u001b[0m\n\u001b[1;32m    417\u001b[0m     cv_number \u001b[39m=\u001b[39m \u001b[39m10\u001b[39m  \n\u001b[1;32m    419\u001b[0m \u001b[39mfor\u001b[39;00m i \u001b[39min\u001b[39;00m \u001b[39mrange\u001b[39m(cv_number):\n\u001b[0;32m--> 420\u001b[0m     x \u001b[39m=\u001b[39m get_labels_and_preds(dataset\u001b[39m=\u001b[39;49mdataset, \n\u001b[1;32m    421\u001b[0m                             model\u001b[39m=\u001b[39;49mmodel,\n\u001b[1;32m    422\u001b[0m                             analysis_type\u001b[39m=\u001b[39;49manalysis_type, \n\u001b[1;32m    423\u001b[0m                             training_type\u001b[39m=\u001b[39;49mtraining_type,  \n\u001b[1;32m    424\u001b[0m                             cv_n\u001b[39m=\u001b[39;49mi, \n\u001b[1;32m    425\u001b[0m                             view\u001b[39m=\u001b[39;49mview, \n\u001b[1;32m    426\u001b[0m                             run\u001b[39m=\u001b[39;49mrun, \n\u001b[1;32m    427\u001b[0m                             dataset_split\u001b[39m=\u001b[39;49mdataset_split, \n\u001b[1;32m    428\u001b[0m                             student\u001b[39m=\u001b[39;49mstudent, \n\u001b[1;32m    429\u001b[0m                             model_args\u001b[39m=\u001b[39;49mmodel_args)\n\u001b[1;32m    430\u001b[0m     result \u001b[39m=\u001b[39m {\n\u001b[1;32m    431\u001b[0m         \u001b[39m'\u001b[39m\u001b[39mprec\u001b[39m\u001b[39m'\u001b[39m: metrics\u001b[39m.\u001b[39mprecision_score(x[\u001b[39m'\u001b[39m\u001b[39mlabels\u001b[39m\u001b[39m'\u001b[39m],  x[\u001b[39m'\u001b[39m\u001b[39mpreds\u001b[39m\u001b[39m'\u001b[39m]),\n\u001b[1;32m    432\u001b[0m         \u001b[39m'\u001b[39m\u001b[39mrecall\u001b[39m\u001b[39m'\u001b[39m: metrics\u001b[39m.\u001b[39mrecall_score(x[\u001b[39m'\u001b[39m\u001b[39mlabels\u001b[39m\u001b[39m'\u001b[39m],  x[\u001b[39m'\u001b[39m\u001b[39mpreds\u001b[39m\u001b[39m'\u001b[39m]),\n\u001b[1;32m    433\u001b[0m         \u001b[39m'\u001b[39m\u001b[39macc\u001b[39m\u001b[39m'\u001b[39m: metrics\u001b[39m.\u001b[39maccuracy_score(x[\u001b[39m'\u001b[39m\u001b[39mlabels\u001b[39m\u001b[39m'\u001b[39m],  x[\u001b[39m'\u001b[39m\u001b[39mpreds\u001b[39m\u001b[39m'\u001b[39m]),\n\u001b[1;32m    434\u001b[0m         \u001b[39m'\u001b[39m\u001b[39mF1\u001b[39m\u001b[39m'\u001b[39m: metrics\u001b[39m.\u001b[39mf1_score(x[\u001b[39m'\u001b[39m\u001b[39mlabels\u001b[39m\u001b[39m'\u001b[39m],  x[\u001b[39m'\u001b[39m\u001b[39mpreds\u001b[39m\u001b[39m'\u001b[39m])\n\u001b[1;32m    435\u001b[0m     }   \n\u001b[1;32m    436\u001b[0m     acc_mean\u001b[39m.\u001b[39mappend(result[\u001b[39m'\u001b[39m\u001b[39macc\u001b[39m\u001b[39m'\u001b[39m])\n",
      "File \u001b[0;32m~/Documents/University/Imperial/Summer Term/thesis-imperial/src/utils/getters.py:39\u001b[0m, in \u001b[0;36mget_labels_and_preds\u001b[0;34m(dataset, model, analysis_type, training_type, cv_n, view, run, dataset_split, student, model_args)\u001b[0m\n\u001b[1;32m     36\u001b[0m \u001b[39m#TODO: model_selection\u001b[39;00m\n\u001b[1;32m     37\u001b[0m \u001b[39melse\u001b[39;00m:\n\u001b[1;32m     38\u001b[0m     \u001b[39mreturn\u001b[39;00m \n\u001b[0;32m---> 39\u001b[0m \u001b[39mwith\u001b[39;00m \u001b[39mopen\u001b[39m(cv_path,\u001b[39m'\u001b[39m\u001b[39mrb\u001b[39m\u001b[39m'\u001b[39m) \u001b[39mas\u001b[39;00m f:\n\u001b[1;32m     40\u001b[0m     labels_and_preds \u001b[39m=\u001b[39m pickle\u001b[39m.\u001b[39mload(f)\n\u001b[1;32m     41\u001b[0m \u001b[39mreturn\u001b[39;00m labels_and_preds\n",
      "\u001b[0;31mKeyboardInterrupt\u001b[0m: "
     ]
    }
   ],
   "source": [
    "dataset = \"gender_data\"\n",
    "final_model_args = [gcn_student_lsp_ensamble_4_args_1]\n",
    "final_model = ['gcn_student_lsp_ensamble_4_ablation']\n",
    "views = [0,2,4,5]\n",
    "all_student_index = [1,3,2,3]\n",
    "runs = [i for i in range(10)]\n",
    "f1_args_1, f1_std_args_1  = ablation_study_model_f1(dataset, final_model_args, final_model, views, all_student_index, runs)"
   ]
  },
  {
   "cell_type": "code",
   "execution_count": 218,
   "metadata": {},
   "outputs": [
    {
     "data": {
      "text/plain": [
       "(           0\n",
       " 0  35.404557\n",
       " 1  68.259298\n",
       " 2  65.566888\n",
       " 3  51.144052\n",
       " 4  55.093699,\n",
       "            0\n",
       " 0  10.984270\n",
       " 1   3.804097\n",
       " 2   5.063562\n",
       " 3  10.331039)"
      ]
     },
     "execution_count": 218,
     "metadata": {},
     "output_type": "execute_result"
    }
   ],
   "source": [
    "f1_args_1*100, f1_std_args_1*100"
   ]
  },
  {
   "cell_type": "code",
   "execution_count": 208,
   "metadata": {},
   "outputs": [],
   "source": [
    "dataset = \"gender_data\"\n",
    "final_model_args = [gcn_student_lsp_ensamble_4_args_2]\n",
    "final_model = ['gcn_student_lsp_ensamble_4_ablation']\n",
    "views = [0,2,4,5]\n",
    "all_student_index = [2,1,2,1]\n",
    "runs = [i for i in range(10)]\n",
    "f1_args_2, f1_std_args_2  = ablation_study_model_f1(dataset, final_model_args, final_model, views, all_student_index, runs)"
   ]
  },
  {
   "cell_type": "code",
   "execution_count": 220,
   "metadata": {},
   "outputs": [
    {
     "data": {
      "text/plain": [
       "(           0\n",
       " 0  61.555729\n",
       " 1  58.463052\n",
       " 2  60.427318\n",
       " 3  59.432500\n",
       " 4  59.969650,\n",
       "           0\n",
       " 0  2.589357\n",
       " 1  1.278207\n",
       " 2  1.156327\n",
       " 3  0.466368)"
      ]
     },
     "execution_count": 220,
     "metadata": {},
     "output_type": "execute_result"
    }
   ],
   "source": [
    "f1_args_2*100, f1_std_args_2*100"
   ]
  },
  {
   "cell_type": "code",
   "execution_count": 211,
   "metadata": {},
   "outputs": [],
   "source": [
    "dataset = \"gender_data\"\n",
    "final_model_args = [gcn_student_lsp_ensamble_4_args_3]\n",
    "final_model = ['gcn_student_lsp_ensamble_4_ablation']\n",
    "views = [0,2,4,5]\n",
    "all_student_index = [3,1,0,2]\n",
    "runs = [i for i in range(10)]\n",
    "f1_args_3, f1_std_args_3  = ablation_study_model_f1(dataset, final_model_args, final_model, views, all_student_index, runs)"
   ]
  },
  {
   "cell_type": "code",
   "execution_count": 221,
   "metadata": {},
   "outputs": [
    {
     "data": {
      "text/plain": [
       "(           0\n",
       " 0  44.312494\n",
       " 1  54.798166\n",
       " 2  59.383920\n",
       " 3  55.036998\n",
       " 4  53.382895,\n",
       "           0\n",
       " 0  1.246353\n",
       " 1  0.264189\n",
       " 2  1.068835\n",
       " 3  0.557174)"
      ]
     },
     "execution_count": 221,
     "metadata": {},
     "output_type": "execute_result"
    }
   ],
   "source": [
    "f1_args_3*100, f1_std_args_3*100"
   ]
  },
  {
   "cell_type": "code",
   "execution_count": 213,
   "metadata": {},
   "outputs": [],
   "source": [
    "dataset = \"gender_data\"\n",
    "final_model_args = [gcn_student_lsp_ensamble_4_args_4]\n",
    "final_model = ['gcn_student_lsp_ensamble_4_ablation']\n",
    "views = [0,2,4,5]\n",
    "all_student_index = [2,3,1,3]\n",
    "runs = [i for i in range(10)]\n",
    "f1_args_4, f1_std_args_4  = ablation_study_model_f1(dataset, final_model_args, final_model, views, all_student_index, runs)"
   ]
  },
  {
   "cell_type": "code",
   "execution_count": 222,
   "metadata": {},
   "outputs": [
    {
     "data": {
      "text/plain": [
       "(           0\n",
       " 0  61.467110\n",
       " 1  60.557138\n",
       " 2  66.614714\n",
       " 3  60.524413\n",
       " 4  62.290844,\n",
       "           0\n",
       " 0  1.087701\n",
       " 1  0.899530\n",
       " 2  2.046115\n",
       " 3  0.629909)"
      ]
     },
     "execution_count": 222,
     "metadata": {},
     "output_type": "execute_result"
    }
   ],
   "source": [
    "f1_args_4*100, f1_std_args_4*100"
   ]
  },
  {
   "cell_type": "markdown",
   "metadata": {},
   "source": [
    "# Ablation study - BreastMNIST"
   ]
  },
  {
   "cell_type": "code",
   "execution_count": 108,
   "metadata": {},
   "outputs": [],
   "source": [
    "from models_config.model_config_BreastMNIST import *"
   ]
  },
  {
   "cell_type": "code",
   "execution_count": 109,
   "metadata": {},
   "outputs": [
    {
     "name": "stdout",
     "output_type": "stream",
     "text": [
      "gcn_student_lsp_ensamble_3\n",
      "[[0.9675, 0.00020995370370370498, 1], [0.9675, 0.00020995370370370498, 1], [0.9675, 0.00020995370370370498, 1], [0.9675, 0.00020995370370370498, 1], [0.9675, 0.00020995370370370498, 1]]\n"
     ]
    }
   ],
   "source": [
    "analysis_type=\"model_assessment\"\n",
    "dataset_split=\"val\"\n",
    "dataset = \"BreastMNIST\"\n",
    "CV=[\"3Fold\", \"5Fold\", \"10Fold\"]\n",
    "\n",
    "models_args=[\n",
    "    gcn_student_lsp_ensamble_3_BreastMNIST_args\n",
    "]\n",
    "\n",
    "all_model_metrics_mean = []\n",
    "all_model_metrics_var = []\n",
    "all_model_best_student = []\n",
    "\n",
    "for model_arg in models_args:\n",
    "    \n",
    "    print(model_arg[\"model_name\"])\n",
    "\n",
    "    model_metrics_mean = []\n",
    "    model_metrics_var = []\n",
    "    model_best_student = []\n",
    "\n",
    "    for view in [-1]:\n",
    "        mean, var, best_students = get_best_student_ensamble_detailed(\n",
    "            model=model_arg[\"model_name\"], \n",
    "            view=view, \n",
    "            CV=CV,\n",
    "            dataset=dataset,\n",
    "            runs=[i for i in range(10)], \n",
    "            analysis_type=analysis_type,\n",
    "            dataset_split=dataset_split,\n",
    "            model_args=model_arg\n",
    "        )\n",
    "        print(best_students)\n",
    "        model_metrics_mean.append(mean)\n",
    "        model_metrics_var.append(var)\n",
    "        model_best_student.append(best_students)\n",
    "\n",
    "    all_model_metrics_mean.append(model_metrics_mean)\n",
    "    all_model_metrics_var.append(model_metrics_var)\n",
    "    all_model_best_student.append(model_best_student)"
   ]
  },
  {
   "cell_type": "code",
   "execution_count": 110,
   "metadata": {},
   "outputs": [
    {
     "name": "stdout",
     "output_type": "stream",
     "text": [
      "gcn_student_lsp_ensamble_3\n",
      "[[0.9211111111111112, 0.000991049382716051, 0], [0.8416666666666668, 0.007729552469135805, 2], [0.8416666666666668, 0.007729552469135805, 2], [0.9211111111111112, 0.000991049382716051, 0], [0.9211111111111112, 0.000991049382716051, 0]]\n",
      "gcn_student_lsp_ensamble_3\n",
      "[[0.9675, 0.00020995370370370498, 1], [0.9675, 0.00020995370370370498, 1], [0.9675, 0.00020995370370370498, 1], [0.9675, 0.00020995370370370498, 1], [0.9675, 0.00020995370370370498, 1]]\n",
      "gcn_student_lsp_ensamble_3\n",
      "[[0.9638888888888888, 1.232595164407831e-32, 2], [0.9524999999999999, 2.499999999999983e-05, 1], [0.9524999999999999, 2.499999999999983e-05, 1], [0.9524999999999999, 2.499999999999983e-05, 1], [0.9524999999999999, 2.499999999999983e-05, 1]]\n",
      "gcn_student_lsp_ensamble_3\n",
      "[[0.9204166666666665, 0.0011153742283950643, 1], [0.9204166666666665, 0.0011153742283950643, 1], [0.9204166666666665, 0.0011153742283950643, 1], [0.9204166666666665, 0.0011153742283950643, 1], [0.9204166666666665, 0.0011153742283950643, 1]]\n"
     ]
    }
   ],
   "source": [
    "analysis_type=\"model_assessment\"\n",
    "dataset_split=\"val\"\n",
    "dataset = \"BreastMNIST\"\n",
    "CV=[\"3Fold\", \"5Fold\", \"10Fold\"]\n",
    "\n",
    "models_args=[\n",
    "    gcn_student_lsp_ensamble_3_BreastMNIST_args_1,\n",
    "    gcn_student_lsp_ensamble_3_BreastMNIST_args_2,\n",
    "    gcn_student_lsp_ensamble_3_BreastMNIST_args_3,\n",
    "    gcn_student_lsp_ensamble_3_BreastMNIST_args_4\n",
    "]\n",
    "\n",
    "for model_arg in models_args:\n",
    "    \n",
    "    print(model_arg[\"model_name\"])\n",
    "\n",
    "    model_metrics_mean = []\n",
    "    model_metrics_var = []\n",
    "    model_best_student = []\n",
    "\n",
    "    for view in [-1]:\n",
    "        mean, var, best_students = get_best_student_ensamble_detailed(\n",
    "            model=\"gcn_student_lsp_ensamble_3_ablation\", \n",
    "            view=view, \n",
    "            CV=CV,\n",
    "            dataset=dataset,\n",
    "            runs=[i for i in range(10)], \n",
    "            analysis_type=analysis_type,\n",
    "            dataset_split=dataset_split,\n",
    "            model_args=model_arg\n",
    "        )\n",
    "        print(best_students)\n",
    "        model_metrics_mean.append(mean)\n",
    "        model_metrics_var.append(var)\n",
    "        model_best_student.append(best_students)\n",
    "\n",
    "    all_model_metrics_mean.append(model_metrics_mean)\n",
    "    all_model_metrics_var.append(model_metrics_var)\n",
    "    all_model_best_student.append(model_best_student)"
   ]
  },
  {
   "cell_type": "code",
   "execution_count": 111,
   "metadata": {},
   "outputs": [
    {
     "data": {
      "text/plain": [
       "(25, 2)"
      ]
     },
     "execution_count": 111,
     "metadata": {},
     "output_type": "execute_result"
    }
   ],
   "source": [
    "df_best_student = np.array(all_model_best_student)\n",
    "df = []\n",
    "for i in range(1):\n",
    "    df.append(df_best_student[:, i, :, 0].flatten())\n",
    "df = pd.DataFrame(np.array(df))\n",
    "# Calculate the mean of columns\n",
    "mean_row = df.mean(axis=0)\n",
    "\n",
    "# Append the mean row to the DataFrame\n",
    "df = df.append(mean_row, ignore_index=True).T\n",
    "index_values = ['max rep', 'max acc', 'max f1', 'weighted acc', 'weighted f1'] * (len(df) // 5) + ['max rep', 'max acc', 'max f1', 'weighted acc', 'weighted f1'][:len(df) % 5]\n",
    "\n",
    "# Assign the new index to the DataFrame\n",
    "df.index = index_values\n",
    "df.shape"
   ]
  },
  {
   "cell_type": "code",
   "execution_count": 112,
   "metadata": {},
   "outputs": [
    {
     "data": {
      "text/plain": [
       "(25, 2)"
      ]
     },
     "execution_count": 112,
     "metadata": {},
     "output_type": "execute_result"
    }
   ],
   "source": [
    "df_best_student = np.array(all_model_best_student)\n",
    "df_var = []\n",
    "for i in range(1):\n",
    "    df_var.append(df_best_student[:, i, :, 1].flatten())\n",
    "df_var = pd.DataFrame(np.array(df_var))\n",
    "# Calculate the mean of columns\n",
    "mean_row = df_var.mean(axis=0)\n",
    "\n",
    "# Append the mean row to the DataFrame\n",
    "df_var_rep = df_var.append(mean_row, ignore_index=True).T\n",
    "index_values = ['max rep', 'max acc', 'max f1', 'weighted acc', 'weighted f1'] * (len(df) // 5) + ['max rep', 'max acc', 'max f1', 'weighted acc', 'weighted f1'][:len(df) % 5]\n",
    "\n",
    "# Assign the new index to the DataFrame\n",
    "df_var_rep.index = index_values\n",
    "df_var_rep.shape"
   ]
  },
  {
   "cell_type": "code",
   "execution_count": 113,
   "metadata": {},
   "outputs": [],
   "source": [
    "index = df_best_student[:,:,:,2]\n",
    "all_data_accuracy = []\n",
    "for view_index in range(1):\n",
    "    view_data = []\n",
    "    ensamble_indexes = index[:,view_index,:]\n",
    "    ensamble_data = np.array(all_model_metrics_mean)[:,view_index]\n",
    "    #number of ensembles \n",
    "    for i in range(5):\n",
    "        view_data.append([ensamble_data[i][int(best_student_index)][0] for best_student_index in ensamble_indexes[i]])\n",
    "    all_data_accuracy.append(np.array(view_data).flatten())"
   ]
  },
  {
   "cell_type": "code",
   "execution_count": 114,
   "metadata": {},
   "outputs": [],
   "source": [
    "all_data_var = []\n",
    "for view_index in range(1):\n",
    "    view_data = []\n",
    "    ensamble_indexes = index[:,view_index,:]\n",
    "    ensamble_data = np.array(all_model_metrics_var)[:,view_index]\n",
    "    #number of ensembles \n",
    "    for i in range(5):\n",
    "        view_data.append([ensamble_data[i][int(best_student_index)][0] for best_student_index in ensamble_indexes[i]])\n",
    "    all_data_var.append(np.array(view_data).flatten())"
   ]
  },
  {
   "cell_type": "code",
   "execution_count": 115,
   "metadata": {},
   "outputs": [
    {
     "data": {
      "text/plain": [
       "(25, 2)"
      ]
     },
     "execution_count": 115,
     "metadata": {},
     "output_type": "execute_result"
    }
   ],
   "source": [
    "df_acuracy = pd.DataFrame(np.array(all_data_accuracy))\n",
    "# Calculate the mean of columns\n",
    "mean_row = df_acuracy.mean(axis=0)\n",
    "\n",
    "# Append the mean row to the DataFrame\n",
    "df_acuracy = df_acuracy.append(mean_row, ignore_index=True).T\n",
    "# Create the list of repeating index values\n",
    "index_values = ['max rep', 'max acc', 'max f1', 'weighted acc', 'weighted f1'] * (len(df_acuracy) // 5) + ['max rep', 'max acc', 'max f1', 'weighted acc', 'weighted f1'][:len(df_acuracy) % 5]\n",
    "\n",
    "# Assign the new index to the DataFrame\n",
    "df_acuracy.index = index_values\n",
    "df_acuracy.shape"
   ]
  },
  {
   "cell_type": "code",
   "execution_count": 116,
   "metadata": {},
   "outputs": [
    {
     "data": {
      "text/plain": [
       "(25, 2)"
      ]
     },
     "execution_count": 116,
     "metadata": {},
     "output_type": "execute_result"
    }
   ],
   "source": [
    "df_var = pd.DataFrame(np.array(all_data_var))\n",
    "# Calculate the mean of columns\n",
    "mean_row = df_var.mean(axis=0)\n",
    "\n",
    "# Append the mean row to the DataFrame\n",
    "df_var = df_var.append(mean_row, ignore_index=True).T\n",
    "# Create the list of repeating index values\n",
    "index_values = ['max rep', 'max acc', 'max f1', 'weighted acc', 'weighted f1'] * (len(df_var) // 5) + ['max rep', 'max acc', 'max f1', 'weighted acc', 'weighted f1'][:len(df_var) % 5]\n",
    "\n",
    "# Assign the new index to the DataFrame\n",
    "df_var.index = index_values\n",
    "df_var.shape"
   ]
  },
  {
   "cell_type": "code",
   "execution_count": 117,
   "metadata": {},
   "outputs": [],
   "source": [
    "df_acuracy = df_acuracy.loc['weighted acc'].T\n",
    "df_var = df_var.loc['weighted acc'].T\n",
    "df_var = np.sqrt(df_var)\n",
    "\n",
    "df_rep = df.loc['weighted acc'].T\n",
    "df_var_rep = df_var_rep.loc['weighted acc'].T\n",
    "df_var_rep = np.sqrt(df_var_rep)"
   ]
  },
  {
   "cell_type": "code",
   "execution_count": 118,
   "metadata": {},
   "outputs": [],
   "source": [
    "import pandas as pd\n",
    "\n",
    "# Assuming you have a DataFrame called 'df' with the given data\n",
    "\n",
    "# Define the new column labels\n",
    "x_ticks = ['Original', 'No alpha', 'No beta', 'No gamma', 'No lambda']\n",
    "# Rename the columns using the new labels\n",
    "df_acuracy.columns = x_ticks\n",
    "df_rep.columns = x_ticks\n",
    "df_var.columns = x_ticks\n",
    "df_var_rep.columns = x_ticks\n"
   ]
  },
  {
   "cell_type": "code",
   "execution_count": 119,
   "metadata": {},
   "outputs": [
    {
     "data": {
      "text/html": [
       "<div>\n",
       "<style scoped>\n",
       "    .dataframe tbody tr th:only-of-type {\n",
       "        vertical-align: middle;\n",
       "    }\n",
       "\n",
       "    .dataframe tbody tr th {\n",
       "        vertical-align: top;\n",
       "    }\n",
       "\n",
       "    .dataframe thead th {\n",
       "        text-align: right;\n",
       "    }\n",
       "</style>\n",
       "<table border=\"1\" class=\"dataframe\">\n",
       "  <thead>\n",
       "    <tr style=\"text-align: right;\">\n",
       "      <th></th>\n",
       "      <th>Original</th>\n",
       "      <th>No alpha</th>\n",
       "      <th>No beta</th>\n",
       "      <th>No gamma</th>\n",
       "      <th>No lambda</th>\n",
       "    </tr>\n",
       "  </thead>\n",
       "  <tbody>\n",
       "    <tr>\n",
       "      <th>0</th>\n",
       "      <td>72.683761</td>\n",
       "      <td>69.111111</td>\n",
       "      <td>72.683761</td>\n",
       "      <td>71.978632</td>\n",
       "      <td>73.517094</td>\n",
       "    </tr>\n",
       "    <tr>\n",
       "      <th>1</th>\n",
       "      <td>72.683761</td>\n",
       "      <td>69.111111</td>\n",
       "      <td>72.683761</td>\n",
       "      <td>71.978632</td>\n",
       "      <td>73.517094</td>\n",
       "    </tr>\n",
       "  </tbody>\n",
       "</table>\n",
       "</div>"
      ],
      "text/plain": [
       "    Original   No alpha    No beta   No gamma  No lambda\n",
       "0  72.683761  69.111111  72.683761  71.978632  73.517094\n",
       "1  72.683761  69.111111  72.683761  71.978632  73.517094"
      ]
     },
     "execution_count": 119,
     "metadata": {},
     "output_type": "execute_result"
    }
   ],
   "source": [
    "df_acuracy*100"
   ]
  },
  {
   "cell_type": "code",
   "execution_count": 120,
   "metadata": {},
   "outputs": [
    {
     "data": {
      "text/html": [
       "<div>\n",
       "<style scoped>\n",
       "    .dataframe tbody tr th:only-of-type {\n",
       "        vertical-align: middle;\n",
       "    }\n",
       "\n",
       "    .dataframe tbody tr th {\n",
       "        vertical-align: top;\n",
       "    }\n",
       "\n",
       "    .dataframe thead th {\n",
       "        text-align: right;\n",
       "    }\n",
       "</style>\n",
       "<table border=\"1\" class=\"dataframe\">\n",
       "  <thead>\n",
       "    <tr style=\"text-align: right;\">\n",
       "      <th></th>\n",
       "      <th>Original</th>\n",
       "      <th>No alpha</th>\n",
       "      <th>No beta</th>\n",
       "      <th>No gamma</th>\n",
       "      <th>No lambda</th>\n",
       "    </tr>\n",
       "  </thead>\n",
       "  <tbody>\n",
       "    <tr>\n",
       "      <th>0</th>\n",
       "      <td>0.343904</td>\n",
       "      <td>1.387514</td>\n",
       "      <td>0.343904</td>\n",
       "      <td>0.069041</td>\n",
       "      <td>0.337607</td>\n",
       "    </tr>\n",
       "    <tr>\n",
       "      <th>1</th>\n",
       "      <td>0.343904</td>\n",
       "      <td>1.387514</td>\n",
       "      <td>0.343904</td>\n",
       "      <td>0.069041</td>\n",
       "      <td>0.337607</td>\n",
       "    </tr>\n",
       "  </tbody>\n",
       "</table>\n",
       "</div>"
      ],
      "text/plain": [
       "   Original  No alpha   No beta  No gamma  No lambda\n",
       "0  0.343904  1.387514  0.343904  0.069041   0.337607\n",
       "1  0.343904  1.387514  0.343904  0.069041   0.337607"
      ]
     },
     "execution_count": 120,
     "metadata": {},
     "output_type": "execute_result"
    }
   ],
   "source": [
    "df_var*100"
   ]
  },
  {
   "cell_type": "code",
   "execution_count": 124,
   "metadata": {},
   "outputs": [
    {
     "data": {
      "text/html": [
       "<div>\n",
       "<style scoped>\n",
       "    .dataframe tbody tr th:only-of-type {\n",
       "        vertical-align: middle;\n",
       "    }\n",
       "\n",
       "    .dataframe tbody tr th {\n",
       "        vertical-align: top;\n",
       "    }\n",
       "\n",
       "    .dataframe thead th {\n",
       "        text-align: right;\n",
       "    }\n",
       "</style>\n",
       "<table border=\"1\" class=\"dataframe\">\n",
       "  <thead>\n",
       "    <tr style=\"text-align: right;\">\n",
       "      <th></th>\n",
       "      <th>Original</th>\n",
       "      <th>No alpha</th>\n",
       "      <th>No beta</th>\n",
       "      <th>No gamma</th>\n",
       "      <th>No lambda</th>\n",
       "    </tr>\n",
       "  </thead>\n",
       "  <tbody>\n",
       "    <tr>\n",
       "      <th>0</th>\n",
       "      <td>96.75</td>\n",
       "      <td>92.111111</td>\n",
       "      <td>96.75</td>\n",
       "      <td>95.25</td>\n",
       "      <td>92.041667</td>\n",
       "    </tr>\n",
       "    <tr>\n",
       "      <th>1</th>\n",
       "      <td>96.75</td>\n",
       "      <td>92.111111</td>\n",
       "      <td>96.75</td>\n",
       "      <td>95.25</td>\n",
       "      <td>92.041667</td>\n",
       "    </tr>\n",
       "  </tbody>\n",
       "</table>\n",
       "</div>"
      ],
      "text/plain": [
       "   Original   No alpha  No beta  No gamma  No lambda\n",
       "0     96.75  92.111111    96.75     95.25  92.041667\n",
       "1     96.75  92.111111    96.75     95.25  92.041667"
      ]
     },
     "execution_count": 124,
     "metadata": {},
     "output_type": "execute_result"
    }
   ],
   "source": [
    "df_rep*100"
   ]
  },
  {
   "cell_type": "code",
   "execution_count": 122,
   "metadata": {},
   "outputs": [
    {
     "data": {
      "text/html": [
       "<div>\n",
       "<style scoped>\n",
       "    .dataframe tbody tr th:only-of-type {\n",
       "        vertical-align: middle;\n",
       "    }\n",
       "\n",
       "    .dataframe tbody tr th {\n",
       "        vertical-align: top;\n",
       "    }\n",
       "\n",
       "    .dataframe thead th {\n",
       "        text-align: right;\n",
       "    }\n",
       "</style>\n",
       "<table border=\"1\" class=\"dataframe\">\n",
       "  <thead>\n",
       "    <tr style=\"text-align: right;\">\n",
       "      <th></th>\n",
       "      <th>Original</th>\n",
       "      <th>No alpha</th>\n",
       "      <th>No beta</th>\n",
       "      <th>No gamma</th>\n",
       "      <th>No lambda</th>\n",
       "    </tr>\n",
       "  </thead>\n",
       "  <tbody>\n",
       "    <tr>\n",
       "      <th>0</th>\n",
       "      <td>1.448978</td>\n",
       "      <td>3.148094</td>\n",
       "      <td>1.448978</td>\n",
       "      <td>0.5</td>\n",
       "      <td>3.339722</td>\n",
       "    </tr>\n",
       "    <tr>\n",
       "      <th>1</th>\n",
       "      <td>1.448978</td>\n",
       "      <td>3.148094</td>\n",
       "      <td>1.448978</td>\n",
       "      <td>0.5</td>\n",
       "      <td>3.339722</td>\n",
       "    </tr>\n",
       "  </tbody>\n",
       "</table>\n",
       "</div>"
      ],
      "text/plain": [
       "   Original  No alpha   No beta  No gamma  No lambda\n",
       "0  1.448978  3.148094  1.448978       0.5   3.339722\n",
       "1  1.448978  3.148094  1.448978       0.5   3.339722"
      ]
     },
     "execution_count": 122,
     "metadata": {},
     "output_type": "execute_result"
    }
   ],
   "source": [
    "df_var_rep*100"
   ]
  },
  {
   "cell_type": "code",
   "execution_count": 223,
   "metadata": {},
   "outputs": [],
   "source": [
    "dataset = \"BreastMNIST\"\n",
    "final_model_args = [gcn_student_lsp_ensamble_3_BreastMNIST_args]\n",
    "final_model = [gcn_student_lsp_ensamble_3_BreastMNIST_args[\"model_name\"]]\n",
    "views = [-1]\n",
    "all_student_index = [1]\n",
    "runs = [i for i in range(10)]\n",
    "f1_args_1_B, f1_std_args_1_B  = ablation_study_model_f1(dataset, final_model_args, final_model, views, all_student_index, runs)"
   ]
  },
  {
   "cell_type": "code",
   "execution_count": 225,
   "metadata": {},
   "outputs": [
    {
     "data": {
      "text/plain": [
       "(           0\n",
       " 0  78.012131\n",
       " 1  78.012131,\n",
       "           0\n",
       " 0  0.834028)"
      ]
     },
     "execution_count": 225,
     "metadata": {},
     "output_type": "execute_result"
    }
   ],
   "source": [
    "f1_args_1_B*100, f1_std_args_1_B*100"
   ]
  },
  {
   "cell_type": "code",
   "execution_count": 226,
   "metadata": {},
   "outputs": [],
   "source": [
    "dataset = \"BreastMNIST\"\n",
    "final_model_args = [gcn_student_lsp_ensamble_3_BreastMNIST_args_1]\n",
    "final_model = [\"gcn_student_lsp_ensamble_3_ablation\"]\n",
    "views = [-1]\n",
    "all_student_index = [1]\n",
    "runs = [i for i in range(10)]\n",
    "f1_args_1_B, f1_std_args_1_B  = ablation_study_model_f1(dataset, final_model_args, final_model, views, all_student_index, runs)"
   ]
  },
  {
   "cell_type": "code",
   "execution_count": 227,
   "metadata": {},
   "outputs": [
    {
     "data": {
      "text/plain": [
       "(           0\n",
       " 0  73.186702\n",
       " 1  73.186702,\n",
       "           0\n",
       " 0  0.275805)"
      ]
     },
     "execution_count": 227,
     "metadata": {},
     "output_type": "execute_result"
    }
   ],
   "source": [
    "f1_args_1_B*100, f1_std_args_1_B*100"
   ]
  },
  {
   "cell_type": "code",
   "execution_count": 228,
   "metadata": {},
   "outputs": [],
   "source": [
    "dataset = \"BreastMNIST\"\n",
    "final_model_args = [gcn_student_lsp_ensamble_3_BreastMNIST_args_2]\n",
    "final_model = [\"gcn_student_lsp_ensamble_3_ablation\"]\n",
    "views = [-1]\n",
    "all_student_index = [1]\n",
    "runs = [i for i in range(10)]\n",
    "f1_args_1_B, f1_std_args_1_B  = ablation_study_model_f1(dataset, final_model_args, final_model, views, all_student_index, runs)"
   ]
  },
  {
   "cell_type": "code",
   "execution_count": 229,
   "metadata": {},
   "outputs": [
    {
     "data": {
      "text/plain": [
       "(           0\n",
       " 0  78.012131\n",
       " 1  78.012131,\n",
       "           0\n",
       " 0  0.834028)"
      ]
     },
     "execution_count": 229,
     "metadata": {},
     "output_type": "execute_result"
    }
   ],
   "source": [
    "f1_args_1_B*100, f1_std_args_1_B*100"
   ]
  },
  {
   "cell_type": "code",
   "execution_count": 230,
   "metadata": {},
   "outputs": [],
   "source": [
    "dataset = \"BreastMNIST\"\n",
    "final_model_args = [gcn_student_lsp_ensamble_3_BreastMNIST_args_3]\n",
    "final_model = [\"gcn_student_lsp_ensamble_3_ablation\"]\n",
    "views = [-1]\n",
    "all_student_index = [1]\n",
    "runs = [i for i in range(10)]\n",
    "f1_args_1_B, f1_std_args_1_B  = ablation_study_model_f1(dataset, final_model_args, final_model, views, all_student_index, runs)"
   ]
  },
  {
   "cell_type": "code",
   "execution_count": 231,
   "metadata": {},
   "outputs": [
    {
     "data": {
      "text/plain": [
       "(           0\n",
       " 0  73.639133\n",
       " 1  73.639133,\n",
       "          0\n",
       " 0  0.08144)"
      ]
     },
     "execution_count": 231,
     "metadata": {},
     "output_type": "execute_result"
    }
   ],
   "source": [
    "f1_args_1_B*100, f1_std_args_1_B*100"
   ]
  },
  {
   "cell_type": "code",
   "execution_count": 232,
   "metadata": {},
   "outputs": [],
   "source": [
    "dataset = \"BreastMNIST\"\n",
    "final_model_args = [gcn_student_lsp_ensamble_3_BreastMNIST_args_4]\n",
    "final_model = [\"gcn_student_lsp_ensamble_3_ablation\"]\n",
    "views = [-1]\n",
    "all_student_index = [1]\n",
    "runs = [i for i in range(10)]\n",
    "f1_args_1_B, f1_std_args_1_B  = ablation_study_model_f1(dataset, final_model_args, final_model, views, all_student_index, runs)"
   ]
  },
  {
   "cell_type": "code",
   "execution_count": 233,
   "metadata": {},
   "outputs": [
    {
     "data": {
      "text/plain": [
       "(           0\n",
       " 0  78.664833\n",
       " 1  78.664833,\n",
       "           0\n",
       " 0  0.816234)"
      ]
     },
     "execution_count": 233,
     "metadata": {},
     "output_type": "execute_result"
    }
   ],
   "source": [
    "f1_args_1_B*100, f1_std_args_1_B*100"
   ]
  },
  {
   "attachments": {},
   "cell_type": "markdown",
   "metadata": {},
   "source": [
    "## DISENTANGLEMENT LOSS"
   ]
  },
  {
   "cell_type": "code",
   "execution_count": 237,
   "metadata": {},
   "outputs": [],
   "source": [
    "import matplotlib.pyplot as plt\n",
    "\n",
    "plt.rcParams['text.latex.preamble']=[r\"\\usepackage{lmodern}\"]\n",
    "params = {\n",
    "    'text.usetex' : True,\n",
    "    'font.size' : 15,\n",
    "    'font.family' :'lmodern'\n",
    "}\n",
    "plt.rcParams.update(params)"
   ]
  },
  {
   "cell_type": "code",
   "execution_count": 238,
   "metadata": {},
   "outputs": [],
   "source": [
    "def extract_weights(dataset, view, model, run, student, model_args=None):\n",
    "    weights = []\n",
    "    for cv_n in range(3):\n",
    "        weights.append(get_weight(dataset, view, model, \"3Fold\", 0, cv_n, run, student, model_args=model_args))\n",
    "    for cv_n in range(5):\n",
    "        weights.append(get_weight(dataset, view, model, \"5Fold\", 0, cv_n, run, student, model_args=model_args))\n",
    "    for cv_n in range(10):\n",
    "        weights.append(get_weight(dataset, view, model, \"10Fold\", 0, cv_n, run, student, model_args=model_args))\n",
    "    \n",
    "    return weights"
   ]
  },
  {
   "cell_type": "code",
   "execution_count": 239,
   "metadata": {},
   "outputs": [],
   "source": [
    "dataset_split=\"val\"\n",
    "dataset = \"gender_data\"\n",
    "\n",
    "dis = []\n",
    "no_dis = []\n",
    "\n",
    "for run in range(10):\n",
    "\n",
    "    all_views_dis = []\n",
    "    all_views_no_dis = []\n",
    "\n",
    "    for view in [0,2,4,5]:\n",
    "\n",
    "        dis_view = []\n",
    "        no_dis_view = []\n",
    "        \n",
    "        for student in [0,1,2,3]:\n",
    "            dis_view.append(extract_weights(dataset=dataset, \n",
    "                            view=view, \n",
    "                            model=gcn_student_lsp_ensamble_4_args[\"model_name\"], \n",
    "                            run=run, \n",
    "                            student=student, \n",
    "                            model_args=gcn_student_lsp_ensamble_4_args))\n",
    "\n",
    "            no_dis_view.append(extract_weights(dataset=dataset, \n",
    "                            view=view, \n",
    "                            model=\"gcn_student_lsp_ensamble_4_ablation\", \n",
    "                            run=run, \n",
    "                            student=student, \n",
    "                            model_args=gcn_student_lsp_ensamble_4_args_4))\n",
    "        \n",
    "        all_views_dis.append(dis_view)\n",
    "        all_views_no_dis.append(no_dis_view)\n",
    "\n",
    "    dis.append(all_views_dis)\n",
    "    no_dis.append(all_views_no_dis)\n"
   ]
  },
  {
   "cell_type": "code",
   "execution_count": 240,
   "metadata": {},
   "outputs": [],
   "source": [
    "dis_0 = sum(dis[0][3], [])\n",
    "no_dis_0 = sum(no_dis[0][3], [])"
   ]
  },
  {
   "cell_type": "code",
   "execution_count": 241,
   "metadata": {},
   "outputs": [
    {
     "data": {
      "image/png": "[encoded data removed]",
      "text/plain": [
       "<Figure size 640x480 with 1 Axes>"
      ]
     },
     "metadata": {},
     "output_type": "display_data"
    }
   ],
   "source": [
    "import numpy as np\n",
    "import seaborn as sns\n",
    "import matplotlib.pyplot as plt\n",
    "\n",
    "# Function to calculate bounded cosine similarity\n",
    "def bounded_cosine_similarity(vec1, vec2):\n",
    "    cosine_similarity = np.dot(vec1, vec2) / (np.linalg.norm(vec1) * np.linalg.norm(vec2))\n",
    "    return np.abs(cosine_similarity)\n",
    "\n",
    "# Example vectors (you can replace this with your vectors)\n",
    "vectors = [dis[0][3][0][0], dis[0][3][1][0], dis[0][3][2][0], dis[0][3][3][0]]\n",
    "num_vectors = len(vectors)\n",
    "bounded_cosine_sim_matrix = np.zeros((num_vectors, num_vectors))\n",
    "\n",
    "# Calculate bounded cosine similarity for each pair of vectors\n",
    "for i in range(num_vectors):\n",
    "    for j in range(num_vectors):\n",
    "        bounded_cosine_sim_matrix[i, j] = bounded_cosine_similarity(vectors[i], vectors[j])\n",
    "\n",
    "# Plot the heatmap\n",
    "sns.heatmap(bounded_cosine_sim_matrix, annot=True, vmin=0, vmax=1, cbar=False)\n",
    "plt.xlabel(\"Student Index\")\n",
    "plt.ylabel(\"Student Index\")\n",
    "plt.title(\"Weight Similarity Heatmap with $\\lambda$\")\n",
    "plt.savefig('Weight Similarity Heatmap with lambda.pdf', format='pdf')\n",
    "plt.show()\n"
   ]
  },
  {
   "cell_type": "code",
   "execution_count": 242,
   "metadata": {},
   "outputs": [
    {
     "data": {
      "image/png": "[encoded data removed]",
      "text/plain": [
       "<Figure size 640x480 with 1 Axes>"
      ]
     },
     "metadata": {},
     "output_type": "display_data"
    }
   ],
   "source": [
    "import numpy as np\n",
    "import seaborn as sns\n",
    "import matplotlib.pyplot as plt\n",
    "\n",
    "# Function to calculate bounded cosine similarity\n",
    "def bounded_cosine_similarity(vec1, vec2):\n",
    "    cosine_similarity = np.dot(vec1, vec2) / (np.linalg.norm(vec1) * np.linalg.norm(vec2))\n",
    "    return np.abs(cosine_similarity)\n",
    "\n",
    "# Example vectors (you can replace this with your vectors)\n",
    "vectors = [no_dis[0][3][0][0], no_dis[0][3][1][0], no_dis[0][3][2][0], no_dis[0][3][3][0]]\n",
    "num_vectors = len(vectors)\n",
    "bounded_cosine_sim_matrix = np.zeros((num_vectors, num_vectors))\n",
    "\n",
    "# Calculate bounded cosine similarity for each pair of vectors\n",
    "for i in range(num_vectors):\n",
    "    for j in range(num_vectors):\n",
    "        bounded_cosine_sim_matrix[i, j] = bounded_cosine_similarity(vectors[i], vectors[j])\n",
    "\n",
    "# Plot the heatmap\n",
    "sns.heatmap(bounded_cosine_sim_matrix, annot=True, vmin=0, vmax=1, cbar=False)\n",
    "plt.xlabel(\"Student Index\")\n",
    "plt.ylabel(\"Student Index\")\n",
    "plt.title(\"Weight Similarity Heatmap without $\\lambda$\")\n",
    "plt.savefig('Weight Similarity Heatmap without lambda.pdf', format='pdf')\n",
    "plt.show()\n"
   ]
  }
 ],
 "metadata": {
  "kernelspec": {
   "display_name": "env-test",
   "language": "python",
   "name": "env-test"
  },
  "language_info": {
   "codemirror_mode": {
    "name": "ipython",
    "version": 3
   },
   "file_extension": ".py",
   "mimetype": "text/x-python",
   "name": "python",
   "nbconvert_exporter": "python",
   "pygments_lexer": "ipython3",
   "version": "3.8.5"
  },
  "orig_nbformat": 4
 },
 "nbformat": 4,
 "nbformat_minor": 2
}
