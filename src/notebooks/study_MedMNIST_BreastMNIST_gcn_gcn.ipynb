{
 "cells": [
  {
   "cell_type": "code",
   "execution_count": 2,
   "metadata": {},
   "outputs": [],
   "source": [
    "%load_ext autoreload\n",
    "%autoreload 2\n",
    "\n",
    "import sys\n",
    "import pandas as pd\n",
    "\n",
    "sys.path.append('/Users/lorenzostigliano/Documents/University/Imperial/Summer Term/thesis-imperial/src/')\n",
    "sys.path.append('/Users/lorenzostigliano/Documents/University/Imperial/Summer Term/thesis-imperial/src/utils')\n",
    "sys.path.append('/Users/lorenzostigliano/Documents/University/Imperial/Summer Term/thesis-imperial/src/models')\n",
    "\n",
    "from utils.analysis import *\n",
    "from utils.getters import * \n",
    "from utils.plotters import * \n",
    "from utils.helpers import * \n",
    "from models_config.model_config_BreastMNIST import *\n"
   ]
  },
  {
   "cell_type": "code",
   "execution_count": 3,
   "metadata": {},
   "outputs": [
    {
     "name": "stdout",
     "output_type": "stream",
     "text": [
      "gcn_student_lsp_ensamble_2\n",
      "[[0.9445833333333334, 0.0003821180555555545, 1], [0.9445833333333334, 0.0003821180555555545, 1], [0.9445833333333334, 0.0003821180555555545, 1], [0.9445833333333334, 0.0003821180555555545, 1], [0.9445833333333334, 0.0003821180555555545, 1]]\n",
      "gcn_student_lsp_ensamble_3\n",
      "[[0.9675, 0.00020995370370370498, 1], [0.9675, 0.00020995370370370498, 1], [0.9675, 0.00020995370370370498, 1], [0.9675, 0.00020995370370370498, 1], [0.9675, 0.00020995370370370498, 1]]\n",
      "gcn_student_lsp_ensamble_4\n",
      "[[0.9541666666666666, 0.001069058641975308, 0], [0.9313888888888888, 0.0004128858024691338, 3], [0.9313888888888888, 0.0004128858024691338, 3], [0.9313888888888888, 0.0004128858024691338, 3], [0.9491666666666667, 0.00042330246913580396, 2]]\n",
      "gcn_student_lsp_ensamble_5\n",
      "[[0.9445833333333333, 0.0008747878086419745, 0], [0.9327777777777777, 0.0005614197530864196, 3], [0.9327777777777777, 0.0005614197530864196, 3], [0.9327777777777777, 0.0005614197530864196, 3], [0.9327777777777777, 0.0005614197530864196, 3]]\n"
     ]
    }
   ],
   "source": [
    "analysis_type=\"model_assessment\"\n",
    "dataset_split=\"val\"\n",
    "dataset = \"BreastMNIST\"\n",
    "CV=[\"3Fold\", \"5Fold\", \"10Fold\"]\n",
    "\n",
    "models_args=[\n",
    "    gcn_student_lsp_ensamble_2_BreastMNIST_args,\n",
    "    gcn_student_lsp_ensamble_3_BreastMNIST_args,\n",
    "    gcn_student_lsp_ensamble_4_BreastMNIST_args,\n",
    "    gcn_student_lsp_ensamble_5_BreastMNIST_args\n",
    "]\n",
    "views = [-1]\n",
    "\n",
    "#GET ALL OF THE MODEL BEST STUDENTS FOR ALL RUNS AND DIFFERENT PICKING CRITERIA FOR OUR MODEL \n",
    "all_model_metrics_mean, all_model_metrics_var, all_model_best_student = get_all_best_student(analysis_type, dataset_split, dataset, models_args, views)"
   ]
  },
  {
   "cell_type": "code",
   "execution_count": 4,
   "metadata": {},
   "outputs": [],
   "source": [
    "df_rep, df_acuracy, df_var, index = final_student(all_model_metrics_mean, all_model_metrics_var, all_model_best_student, selection_method='weighted acc')"
   ]
  },
  {
   "cell_type": "code",
   "execution_count": 5,
   "metadata": {},
   "outputs": [
    {
     "data": {
      "text/plain": [
       "(          2       3         4         5\n",
       " 0  0.944583  0.9675  0.931389  0.932778\n",
       " 1  0.944583  0.9675  0.931389  0.932778,\n",
       "           2         3         4         5\n",
       " 0  0.730513  0.726838  0.734957  0.733034\n",
       " 1  0.730513  0.726838  0.734957  0.733034,\n",
       " 0    0.003124\n",
       " 1    0.003124\n",
       " Name: weighted acc, dtype: float64,\n",
       "      2    3    4    5\n",
       " 0  1.0  1.0  3.0  3.0)"
      ]
     },
     "execution_count": 5,
     "metadata": {},
     "output_type": "execute_result"
    }
   ],
   "source": [
    "df_rep, df_acuracy, df_var, index"
   ]
  },
  {
   "cell_type": "code",
   "execution_count": 6,
   "metadata": {},
   "outputs": [],
   "source": [
    "mean_all_runs, mean_all_std = reproducibility_mulitple_runs_student_specific(\n",
    "    dataset=\"BreastMNIST\", \n",
    "    views=[-1], \n",
    "    models=[\"gcn\", \"gcn_student\", \"gcn_student_teacher\", \"fitnet\", \"lsp\", \"mskd\", \"gcn_student_lsp_ensamble_3\"],\n",
    "    CV=[\"3Fold\", \"5Fold\", \"10Fold\"], \n",
    "    runs=[i for i in range(10)], \n",
    "    students=[\n",
    "        [1]\n",
    "    ], \n",
    "    model_args = [\n",
    "        gcn_BreastMNIST_args, \n",
    "        gcn_student_BreastMNIST_args, \n",
    "        gcn_student_BreastMNIST_args, \n",
    "        gcn_fitnet_student_BreastMNIST_args,\n",
    "        gcn_lsp_student_BreastMNIST_args,\n",
    "        gcn_mskd_student_BreastMNIST_args,\n",
    "        gcn_student_lsp_ensamble_3_BreastMNIST_args\n",
    "    ])"
   ]
  },
  {
   "cell_type": "code",
   "execution_count": 8,
   "metadata": {},
   "outputs": [],
   "source": [
    "reproducibility_frame = pd.DataFrame(mean_all_runs.T)\n",
    "\n",
    "models=[\"gcn\", \"gcn_student\", \"gcn_student_teacher\", \"fitnet\", \"lsp\", \"mskd\",\"repKD\"]\n",
    "reproducibility_frame.columns = models\n",
    "reproducibility_frame = reproducibility_frame*100\n",
    "reproducibility_frame[\"delta teacher\"] = ((reproducibility_frame[\"repKD\"] - reproducibility_frame[\"gcn\"]) / reproducibility_frame[\"gcn\"])*100\n",
    "reproducibility_frame[\"delta student\"] = ((reproducibility_frame[\"repKD\"] - reproducibility_frame[\"gcn_student\"]) / reproducibility_frame[\"gcn_student\"])*100\n",
    "reproducibility_frame[\"delta vanilla\"] = ((reproducibility_frame[\"repKD\"] - reproducibility_frame[\"gcn_student_teacher\"]) / reproducibility_frame[\"gcn_student_teacher\"])*100\n",
    "reproducibility_frame[\"delta fitnet\"] = ((reproducibility_frame[\"repKD\"] - reproducibility_frame[\"fitnet\"]) / reproducibility_frame[\"fitnet\"])*100\n",
    "reproducibility_frame[\"delta lsp\"] = ((reproducibility_frame[\"repKD\"] - reproducibility_frame[\"lsp\"]) / reproducibility_frame[\"lsp\"])*100\n",
    "reproducibility_frame[\"delta mskd\"] = ((reproducibility_frame[\"repKD\"] - reproducibility_frame[\"mskd\"]) / reproducibility_frame[\"mskd\"])*100"
   ]
  },
  {
   "cell_type": "code",
   "execution_count": 9,
   "metadata": {},
   "outputs": [
    {
     "data": {
      "text/html": [
       "<div>\n",
       "<style scoped>\n",
       "    .dataframe tbody tr th:only-of-type {\n",
       "        vertical-align: middle;\n",
       "    }\n",
       "\n",
       "    .dataframe tbody tr th {\n",
       "        vertical-align: top;\n",
       "    }\n",
       "\n",
       "    .dataframe thead th {\n",
       "        text-align: right;\n",
       "    }\n",
       "</style>\n",
       "<table border=\"1\" class=\"dataframe\">\n",
       "  <thead>\n",
       "    <tr style=\"text-align: right;\">\n",
       "      <th></th>\n",
       "      <th>0</th>\n",
       "      <th>1</th>\n",
       "    </tr>\n",
       "  </thead>\n",
       "  <tbody>\n",
       "    <tr>\n",
       "      <th>gcn</th>\n",
       "      <td>89.208333</td>\n",
       "      <td>89.208333</td>\n",
       "    </tr>\n",
       "    <tr>\n",
       "      <th>gcn_student</th>\n",
       "      <td>97.694444</td>\n",
       "      <td>97.694444</td>\n",
       "    </tr>\n",
       "    <tr>\n",
       "      <th>gcn_student_teacher</th>\n",
       "      <td>96.541667</td>\n",
       "      <td>96.541667</td>\n",
       "    </tr>\n",
       "    <tr>\n",
       "      <th>fitnet</th>\n",
       "      <td>92.763889</td>\n",
       "      <td>92.763889</td>\n",
       "    </tr>\n",
       "    <tr>\n",
       "      <th>lsp</th>\n",
       "      <td>91.500000</td>\n",
       "      <td>91.500000</td>\n",
       "    </tr>\n",
       "    <tr>\n",
       "      <th>mskd</th>\n",
       "      <td>90.638889</td>\n",
       "      <td>90.638889</td>\n",
       "    </tr>\n",
       "    <tr>\n",
       "      <th>repKD</th>\n",
       "      <td>96.750000</td>\n",
       "      <td>96.750000</td>\n",
       "    </tr>\n",
       "    <tr>\n",
       "      <th>delta teacher</th>\n",
       "      <td>8.453993</td>\n",
       "      <td>8.453993</td>\n",
       "    </tr>\n",
       "    <tr>\n",
       "      <th>delta student</th>\n",
       "      <td>-0.966733</td>\n",
       "      <td>-0.966733</td>\n",
       "    </tr>\n",
       "    <tr>\n",
       "      <th>delta vanilla</th>\n",
       "      <td>0.215796</td>\n",
       "      <td>0.215796</td>\n",
       "    </tr>\n",
       "    <tr>\n",
       "      <th>delta fitnet</th>\n",
       "      <td>4.297050</td>\n",
       "      <td>4.297050</td>\n",
       "    </tr>\n",
       "    <tr>\n",
       "      <th>delta lsp</th>\n",
       "      <td>5.737705</td>\n",
       "      <td>5.737705</td>\n",
       "    </tr>\n",
       "    <tr>\n",
       "      <th>delta mskd</th>\n",
       "      <td>6.742262</td>\n",
       "      <td>6.742262</td>\n",
       "    </tr>\n",
       "  </tbody>\n",
       "</table>\n",
       "</div>"
      ],
      "text/plain": [
       "                             0          1\n",
       "gcn                  89.208333  89.208333\n",
       "gcn_student          97.694444  97.694444\n",
       "gcn_student_teacher  96.541667  96.541667\n",
       "fitnet               92.763889  92.763889\n",
       "lsp                  91.500000  91.500000\n",
       "mskd                 90.638889  90.638889\n",
       "repKD                96.750000  96.750000\n",
       "delta teacher         8.453993   8.453993\n",
       "delta student        -0.966733  -0.966733\n",
       "delta vanilla         0.215796   0.215796\n",
       "delta fitnet          4.297050   4.297050\n",
       "delta lsp             5.737705   5.737705\n",
       "delta mskd            6.742262   6.742262"
      ]
     },
     "execution_count": 9,
     "metadata": {},
     "output_type": "execute_result"
    }
   ],
   "source": [
    "reproducibility_frame.T"
   ]
  },
  {
   "cell_type": "code",
   "execution_count": 10,
   "metadata": {},
   "outputs": [
    {
     "data": {
      "text/html": [
       "<div>\n",
       "<style scoped>\n",
       "    .dataframe tbody tr th:only-of-type {\n",
       "        vertical-align: middle;\n",
       "    }\n",
       "\n",
       "    .dataframe tbody tr th {\n",
       "        vertical-align: top;\n",
       "    }\n",
       "\n",
       "    .dataframe thead th {\n",
       "        text-align: right;\n",
       "    }\n",
       "</style>\n",
       "<table border=\"1\" class=\"dataframe\">\n",
       "  <thead>\n",
       "    <tr style=\"text-align: right;\">\n",
       "      <th></th>\n",
       "      <th>0</th>\n",
       "      <th>1</th>\n",
       "    </tr>\n",
       "  </thead>\n",
       "  <tbody>\n",
       "    <tr>\n",
       "      <th>gcn</th>\n",
       "      <td>5.448641</td>\n",
       "      <td>5.448641</td>\n",
       "    </tr>\n",
       "    <tr>\n",
       "      <th>gcn_student</th>\n",
       "      <td>1.960450</td>\n",
       "      <td>1.960450</td>\n",
       "    </tr>\n",
       "    <tr>\n",
       "      <th>gcn_student_teacher</th>\n",
       "      <td>2.169914</td>\n",
       "      <td>2.169914</td>\n",
       "    </tr>\n",
       "    <tr>\n",
       "      <th>fitnet</th>\n",
       "      <td>2.486421</td>\n",
       "      <td>2.486421</td>\n",
       "    </tr>\n",
       "    <tr>\n",
       "      <th>lsp</th>\n",
       "      <td>4.820785</td>\n",
       "      <td>4.820785</td>\n",
       "    </tr>\n",
       "    <tr>\n",
       "      <th>mskd</th>\n",
       "      <td>3.948550</td>\n",
       "      <td>3.948550</td>\n",
       "    </tr>\n",
       "    <tr>\n",
       "      <th>repKD</th>\n",
       "      <td>1.448978</td>\n",
       "      <td>1.448978</td>\n",
       "    </tr>\n",
       "  </tbody>\n",
       "</table>\n",
       "</div>"
      ],
      "text/plain": [
       "                            0         1\n",
       "gcn                  5.448641  5.448641\n",
       "gcn_student          1.960450  1.960450\n",
       "gcn_student_teacher  2.169914  2.169914\n",
       "fitnet               2.486421  2.486421\n",
       "lsp                  4.820785  4.820785\n",
       "mskd                 3.948550  3.948550\n",
       "repKD                1.448978  1.448978"
      ]
     },
     "execution_count": 10,
     "metadata": {},
     "output_type": "execute_result"
    }
   ],
   "source": [
    "reproducibility_frame_std = pd.DataFrame(mean_all_std.T)*100\n",
    "models=[\"gcn\", \"gcn_student\", \"gcn_student_teacher\", \"fitnet\", \"lsp\", \"mskd\",\"repKD\"]\n",
    "reproducibility_frame_std.columns = models\n",
    "reproducibility_frame_std.T"
   ]
  },
  {
   "cell_type": "code",
   "execution_count": 12,
   "metadata": {},
   "outputs": [],
   "source": [
    "views=[-1]\n",
    "CV=[\"3Fold\", \"5Fold\", \"10Fold\"]\n",
    "\n",
    "runs = [i for i in range(10)]\n",
    "dataset = \"BreastMNIST\"\n",
    "dataset_split=\"val\"\n",
    "analysis_type=\"model_assessment\"\n",
    "metrics = [\"acc\"]\n",
    "\n",
    "final_model = [\"gcn_student_lsp_ensamble_3\"]\n",
    "final_model_args = [gcn_student_lsp_ensamble_3_BreastMNIST_args]\n",
    "best_student = [1]\n",
    "baseline_models = [\"gcn\", \"gcn_student\", \"gcn_student_teacher\", \"fitnet\", \"lsp\", \"mskd\"]\n",
    "baseline_models_args = [\n",
    "    gcn_BreastMNIST_args, \n",
    "    gcn_student_BreastMNIST_args, \n",
    "    gcn_student_BreastMNIST_args, \n",
    "    gcn_fitnet_student_BreastMNIST_args,\n",
    "    gcn_lsp_student_BreastMNIST_args,\n",
    "    gcn_mskd_student_BreastMNIST_args]"
   ]
  },
  {
   "cell_type": "code",
   "execution_count": 13,
   "metadata": {},
   "outputs": [],
   "source": [
    "average_across_views_df, average_across_views_df_std_mean = performance_mulitple_runs_student_specific(final_model, final_model_args, best_student, baseline_models, baseline_models_args, views, CV, runs, dataset, dataset_split, analysis_type, metrics)"
   ]
  },
  {
   "cell_type": "code",
   "execution_count": 14,
   "metadata": {},
   "outputs": [
    {
     "data": {
      "text/html": [
       "<div>\n",
       "<style scoped>\n",
       "    .dataframe tbody tr th:only-of-type {\n",
       "        vertical-align: middle;\n",
       "    }\n",
       "\n",
       "    .dataframe tbody tr th {\n",
       "        vertical-align: top;\n",
       "    }\n",
       "\n",
       "    .dataframe thead th {\n",
       "        text-align: right;\n",
       "    }\n",
       "</style>\n",
       "<table border=\"1\" class=\"dataframe\">\n",
       "  <thead>\n",
       "    <tr style=\"text-align: right;\">\n",
       "      <th></th>\n",
       "      <th>0</th>\n",
       "      <th>1</th>\n",
       "    </tr>\n",
       "  </thead>\n",
       "  <tbody>\n",
       "    <tr>\n",
       "      <th>gcn</th>\n",
       "      <td>72.482906</td>\n",
       "      <td>72.482906</td>\n",
       "    </tr>\n",
       "    <tr>\n",
       "      <th>gcn_student</th>\n",
       "      <td>69.213675</td>\n",
       "      <td>69.213675</td>\n",
       "    </tr>\n",
       "    <tr>\n",
       "      <th>gcn_student_teacher</th>\n",
       "      <td>70.337607</td>\n",
       "      <td>70.337607</td>\n",
       "    </tr>\n",
       "    <tr>\n",
       "      <th>fitnet</th>\n",
       "      <td>73.320513</td>\n",
       "      <td>73.320513</td>\n",
       "    </tr>\n",
       "    <tr>\n",
       "      <th>lsp</th>\n",
       "      <td>73.410256</td>\n",
       "      <td>73.410256</td>\n",
       "    </tr>\n",
       "    <tr>\n",
       "      <th>mskd</th>\n",
       "      <td>73.987179</td>\n",
       "      <td>73.987179</td>\n",
       "    </tr>\n",
       "    <tr>\n",
       "      <th>repKD</th>\n",
       "      <td>72.683761</td>\n",
       "      <td>72.683761</td>\n",
       "    </tr>\n",
       "    <tr>\n",
       "      <th>delta teacher</th>\n",
       "      <td>0.277106</td>\n",
       "      <td>0.277106</td>\n",
       "    </tr>\n",
       "    <tr>\n",
       "      <th>delta student</th>\n",
       "      <td>5.013584</td>\n",
       "      <td>5.013584</td>\n",
       "    </tr>\n",
       "    <tr>\n",
       "      <th>delta vanilla</th>\n",
       "      <td>3.335561</td>\n",
       "      <td>3.335561</td>\n",
       "    </tr>\n",
       "    <tr>\n",
       "      <th>delta fitnet</th>\n",
       "      <td>-0.868450</td>\n",
       "      <td>-0.868450</td>\n",
       "    </tr>\n",
       "    <tr>\n",
       "      <th>delta lsp</th>\n",
       "      <td>-0.989638</td>\n",
       "      <td>-0.989638</td>\n",
       "    </tr>\n",
       "    <tr>\n",
       "      <th>delta mskd</th>\n",
       "      <td>-1.761682</td>\n",
       "      <td>-1.761682</td>\n",
       "    </tr>\n",
       "  </tbody>\n",
       "</table>\n",
       "</div>"
      ],
      "text/plain": [
       "                             0          1\n",
       "gcn                  72.482906  72.482906\n",
       "gcn_student          69.213675  69.213675\n",
       "gcn_student_teacher  70.337607  70.337607\n",
       "fitnet               73.320513  73.320513\n",
       "lsp                  73.410256  73.410256\n",
       "mskd                 73.987179  73.987179\n",
       "repKD                72.683761  72.683761\n",
       "delta teacher         0.277106   0.277106\n",
       "delta student         5.013584   5.013584\n",
       "delta vanilla         3.335561   3.335561\n",
       "delta fitnet         -0.868450  -0.868450\n",
       "delta lsp            -0.989638  -0.989638\n",
       "delta mskd           -1.761682  -1.761682"
      ]
     },
     "execution_count": 14,
     "metadata": {},
     "output_type": "execute_result"
    }
   ],
   "source": [
    "average_across_views_df = pd.DataFrame(average_across_views_df)\n",
    "models=[\"gcn\", \"gcn_student\", \"gcn_student_teacher\", \"fitnet\", \"lsp\", \"mskd\", \"repKD\"]\n",
    "\n",
    "average_across_views_df.columns = models\n",
    "average_across_views_df = average_across_views_df*100\n",
    "\n",
    "average_across_views_df[\"delta teacher\"] = ((average_across_views_df[\"repKD\"] - average_across_views_df[\"gcn\"]) / average_across_views_df[\"gcn\"])*100\n",
    "average_across_views_df[\"delta student\"] = ((average_across_views_df[\"repKD\"] - average_across_views_df[\"gcn_student\"]) / average_across_views_df[\"gcn_student\"])*100\n",
    "average_across_views_df[\"delta vanilla\"] = ((average_across_views_df[\"repKD\"] - average_across_views_df[\"gcn_student_teacher\"]) / average_across_views_df[\"gcn_student_teacher\"])*100\n",
    "average_across_views_df[\"delta fitnet\"] = ((average_across_views_df[\"repKD\"] - average_across_views_df[\"fitnet\"]) / average_across_views_df[\"fitnet\"])*100\n",
    "average_across_views_df[\"delta lsp\"] = ((average_across_views_df[\"repKD\"] - average_across_views_df[\"lsp\"]) / average_across_views_df[\"lsp\"])*100\n",
    "average_across_views_df[\"delta mskd\"] = ((average_across_views_df[\"repKD\"] - average_across_views_df[\"mskd\"]) / average_across_views_df[\"mskd\"])*100\n",
    "\n",
    "average_across_views_df.T"
   ]
  },
  {
   "cell_type": "code",
   "execution_count": 16,
   "metadata": {},
   "outputs": [
    {
     "data": {
      "text/html": [
       "<div>\n",
       "<style scoped>\n",
       "    .dataframe tbody tr th:only-of-type {\n",
       "        vertical-align: middle;\n",
       "    }\n",
       "\n",
       "    .dataframe tbody tr th {\n",
       "        vertical-align: top;\n",
       "    }\n",
       "\n",
       "    .dataframe thead th {\n",
       "        text-align: right;\n",
       "    }\n",
       "</style>\n",
       "<table border=\"1\" class=\"dataframe\">\n",
       "  <thead>\n",
       "    <tr style=\"text-align: right;\">\n",
       "      <th></th>\n",
       "      <th>0</th>\n",
       "      <th>1</th>\n",
       "      <th>2</th>\n",
       "    </tr>\n",
       "  </thead>\n",
       "  <tbody>\n",
       "    <tr>\n",
       "      <th>gat</th>\n",
       "      <td>72.482906</td>\n",
       "      <td>72.482906</td>\n",
       "      <td>0.309598</td>\n",
       "    </tr>\n",
       "    <tr>\n",
       "      <th>gat_student</th>\n",
       "      <td>69.213675</td>\n",
       "      <td>69.213675</td>\n",
       "      <td>0.655878</td>\n",
       "    </tr>\n",
       "    <tr>\n",
       "      <th>gat_student_teacher</th>\n",
       "      <td>70.337607</td>\n",
       "      <td>70.337607</td>\n",
       "      <td>0.604072</td>\n",
       "    </tr>\n",
       "    <tr>\n",
       "      <th>fitnet_gat</th>\n",
       "      <td>73.320513</td>\n",
       "      <td>73.320513</td>\n",
       "      <td>0.077397</td>\n",
       "    </tr>\n",
       "    <tr>\n",
       "      <th>lsp_gat</th>\n",
       "      <td>73.410256</td>\n",
       "      <td>73.410256</td>\n",
       "      <td>0.170941</td>\n",
       "    </tr>\n",
       "    <tr>\n",
       "      <th>mskd_gat</th>\n",
       "      <td>73.987179</td>\n",
       "      <td>73.987179</td>\n",
       "      <td>0.035289</td>\n",
       "    </tr>\n",
       "    <tr>\n",
       "      <th>repKD</th>\n",
       "      <td>72.683761</td>\n",
       "      <td>72.683761</td>\n",
       "      <td>0.128775</td>\n",
       "    </tr>\n",
       "  </tbody>\n",
       "</table>\n",
       "</div>"
      ],
      "text/plain": [
       "                             0          1         2\n",
       "gat                  72.482906  72.482906  0.309598\n",
       "gat_student          69.213675  69.213675  0.655878\n",
       "gat_student_teacher  70.337607  70.337607  0.604072\n",
       "fitnet_gat           73.320513  73.320513  0.077397\n",
       "lsp_gat              73.410256  73.410256  0.170941\n",
       "mskd_gat             73.987179  73.987179  0.035289\n",
       "repKD                72.683761  72.683761  0.128775"
      ]
     },
     "execution_count": 16,
     "metadata": {},
     "output_type": "execute_result"
    }
   ],
   "source": [
    "average_across_views_df_std_mean = pd.DataFrame(average_across_views_df_std_mean)\n",
    "models=[\"gat\", \"gat_student\", \"gat_student_teacher\", \"fitnet_gat\", \"lsp_gat\", \"mskd_gat\", \"repKD\"]\n",
    "\n",
    "average_across_views_df_std_mean.columns = models\n",
    "average_across_views_df_std_mean.T*100"
   ]
  },
  {
   "cell_type": "markdown",
   "metadata": {},
   "source": [
    "# LSP vs Logits"
   ]
  },
  {
   "cell_type": "code",
   "execution_count": 14,
   "metadata": {},
   "outputs": [
    {
     "name": "stdout",
     "output_type": "stream",
     "text": [
      "gcn_student_ensamble_2\n",
      "gcn_student_ensamble_3\n",
      "gcn_student_ensamble_4\n",
      "gcn_student_ensamble_5\n",
      "gcn_student_lsp_ensamble_2\n",
      "gcn_student_lsp_ensamble_3\n",
      "gcn_student_lsp_ensamble_4\n",
      "gcn_student_lsp_ensamble_5\n"
     ]
    }
   ],
   "source": [
    "from models.model_config import *\n",
    "\n",
    "analysis_type=\"model_assessment\"\n",
    "dataset = \"BreastMNIST\"\n",
    "dataset_split=\"val\"\n",
    "models_args=[\n",
    "    gcn_student_ensamble_2_BreastMNIST_args,\n",
    "    gcn_student_ensamble_3_BreastMNIST_args,\n",
    "    gcn_student_ensamble_4_BreastMNIST_args,\n",
    "    gcn_student_ensamble_5_BreastMNIST_args,\n",
    "    gcn_student_lsp_ensamble_2_BreastMNIST_args,\n",
    "    gcn_student_lsp_ensamble_3_BreastMNIST_args,\n",
    "    gcn_student_lsp_ensamble_4_BreastMNIST_args,\n",
    "    gcn_student_lsp_ensamble_5_BreastMNIST_args\n",
    "]\n",
    "\n",
    "all_model_data_mean = []\n",
    "all_model_data_std = []\n",
    "\n",
    "for model_arg in models_args:\n",
    "    \n",
    "    model_data_mean = []\n",
    "    model_data_std = []\n",
    "    \n",
    "    print(model_arg[\"model_name\"])\n",
    "    \n",
    "    for view in [-1]:\n",
    "        \n",
    "        rep = get_best_student_ensamble(\n",
    "            model=model_arg[\"model_name\"], \n",
    "            dataset=dataset,\n",
    "            view=view, \n",
    "            CV=[\"3Fold\", \"5Fold\", \"10Fold\"],\n",
    "            runs=[i for i in range(10)], \n",
    "            analysis_type=analysis_type,\n",
    "            dataset_split=dataset_split,\n",
    "            model_args=model_arg\n",
    "        )[1]\n",
    "        model_data_mean.append(rep[0])\n",
    "        model_data_std.append(rep[1])\n",
    "    \n",
    "    all_model_data_mean.append(model_data_mean)\n",
    "    all_model_data_std.append(model_data_std)"
   ]
  },
  {
   "cell_type": "code",
   "execution_count": 15,
   "metadata": {},
   "outputs": [
    {
     "name": "stdout",
     "output_type": "stream",
     "text": [
      "          0         1         2     3         4       5         6         7\n",
      "0  0.957778  0.961389  0.929167  0.94  0.944583  0.9675  0.931389  0.932778\n",
      "1  0.957778  0.961389  0.929167  0.94  0.944583  0.9675  0.931389  0.932778\n"
     ]
    }
   ],
   "source": [
    "df = pd.DataFrame(all_model_data_mean)\n",
    "\n",
    "df_transposed = df.T\n",
    "# Calculate the mean along each column\n",
    "mean_row = df_transposed.mean()\n",
    "\n",
    "# Add the mean row to the transposed DataFrame\n",
    "df_transposed = df_transposed.append(mean_row, ignore_index=True)\n",
    "print(df_transposed.head())"
   ]
  },
  {
   "cell_type": "code",
   "execution_count": 16,
   "metadata": {},
   "outputs": [
    {
     "data": {
      "text/html": [
       "<div>\n",
       "<style scoped>\n",
       "    .dataframe tbody tr th:only-of-type {\n",
       "        vertical-align: middle;\n",
       "    }\n",
       "\n",
       "    .dataframe tbody tr th {\n",
       "        vertical-align: top;\n",
       "    }\n",
       "\n",
       "    .dataframe thead th {\n",
       "        text-align: right;\n",
       "    }\n",
       "</style>\n",
       "<table border=\"1\" class=\"dataframe\">\n",
       "  <thead>\n",
       "    <tr style=\"text-align: right;\">\n",
       "      <th></th>\n",
       "      <th>0</th>\n",
       "      <th>1</th>\n",
       "      <th>2</th>\n",
       "      <th>3</th>\n",
       "      <th>4</th>\n",
       "      <th>5</th>\n",
       "      <th>6</th>\n",
       "      <th>7</th>\n",
       "    </tr>\n",
       "  </thead>\n",
       "  <tbody>\n",
       "    <tr>\n",
       "      <th>0</th>\n",
       "      <td>0.020443</td>\n",
       "      <td>0.01773</td>\n",
       "      <td>0.024383</td>\n",
       "      <td>0.03108</td>\n",
       "      <td>0.019548</td>\n",
       "      <td>0.01449</td>\n",
       "      <td>0.02032</td>\n",
       "      <td>0.023694</td>\n",
       "    </tr>\n",
       "    <tr>\n",
       "      <th>1</th>\n",
       "      <td>0.000000</td>\n",
       "      <td>0.00000</td>\n",
       "      <td>0.000000</td>\n",
       "      <td>0.00000</td>\n",
       "      <td>0.000000</td>\n",
       "      <td>0.00000</td>\n",
       "      <td>0.00000</td>\n",
       "      <td>0.000000</td>\n",
       "    </tr>\n",
       "  </tbody>\n",
       "</table>\n",
       "</div>"
      ],
      "text/plain": [
       "          0        1         2        3         4        5        6         7\n",
       "0  0.020443  0.01773  0.024383  0.03108  0.019548  0.01449  0.02032  0.023694\n",
       "1  0.000000  0.00000  0.000000  0.00000  0.000000  0.00000  0.00000  0.000000"
      ]
     },
     "execution_count": 16,
     "metadata": {},
     "output_type": "execute_result"
    }
   ],
   "source": [
    "df = pd.DataFrame(np.sqrt(all_model_data_std))\n",
    "\n",
    "df_transposed_var = df.T\n",
    "# Calculate the mean along each column\n",
    "std_row = df_transposed.std()\n",
    "\n",
    "# Add the mean row to the transposed DataFrame\n",
    "df_std_transposed = df_transposed_var.append(std_row, ignore_index=True)\n",
    "df_std_transposed"
   ]
  },
  {
   "cell_type": "code",
   "execution_count": 19,
   "metadata": {},
   "outputs": [
    {
     "data": {
      "image/png": "[encoded data removed]",
      "text/plain": [
       "<Figure size 640x480 with 1 Axes>"
      ]
     },
     "metadata": {},
     "output_type": "display_data"
    }
   ],
   "source": [
    "import matplotlib.pyplot as plt\n",
    "import numpy as np\n",
    "\n",
    "# Change the order of the DataFrame columns\n",
    "column_order = [0, 4, 1, 5, 2, 6, 3, 7]\n",
    "df_ordered = df_transposed.iloc[:, column_order]\n",
    "df_std_ordered = df_std_transposed.iloc[:, column_order]\n",
    "\n",
    "# Create a white heatmap with a grayscale colormap\n",
    "plt.imshow(df_ordered.values, cmap='gray', extent=[-0.5, df_ordered.shape[1] - 0.5, -0.5, df_ordered.shape[0] - 0.5], vmin=0, vmax=1)\n",
    "\n",
    "# Find the maximum value for each pair of rows and round to 3 significant figures\n",
    "max_values = []\n",
    "for i in range(0, df.shape[0], 2):\n",
    "    pair_max = max(df.iloc[i:i+2])\n",
    "    pair_max_rounded = round(pair_max, 3)\n",
    "    max_values.append(pair_max_rounded)\n",
    "\n",
    "# Iterate over the DataFrame and highlight the maximum value for each pair in the \"Average\" row\n",
    "for i in range(df_ordered.shape[0]):\n",
    "    for j in range(df_ordered.shape[1]):\n",
    "        value = round(df_ordered.values[i, j], 3)  # Round to 3 significant figures\n",
    "        std = round(df_std_ordered.values[i, j], 3)  # Round standard deviation to 3 significant figures\n",
    "        if i == 4 and value in max_values:\n",
    "            plt.text(j, i, f'{value}\\n({std})', ha='center', va='center', color='black', weight='bold')\n",
    "        else:\n",
    "            plt.text(j, i, f'{value}\\n({std})', ha='center', va='center', color='black')\n",
    "\n",
    "# Add vertical lines spaced 2 cells apart\n",
    "for j in range(1, df_ordered.shape[1], 2):\n",
    "    plt.axvline(j + 0.5, color='black', linewidth=1)  # Add a vertical line in the middle of each pair\n",
    "\n",
    "\n",
    "plt.gca().invert_yaxis()  # Reverse the y-axis\n",
    "\n",
    "# Add custom labels to the x-axis\n",
    "x_ticks = ['2 w/ Logits', '2 w/ LSP', '3 w/ Logits', '3 w/ LSP','4 w/ Logits', '4 w/ LSP', '5 w/ Logits', '5 w/ LSP']\n",
    "plt.xticks(range(df_ordered.shape[1]), x_ticks, rotation=45, ha='right')\n",
    "\n",
    "# Add title and axis labels\n",
    "plt.title('Ensemble Analysis - Based on student with the weighted reproducibility')\n",
    "plt.xlabel('Ensemble Type')\n",
    "plt.ylabel('Dataset')\n",
    "if not os.path.exists(SAVE_DIR_FIGS+\"ensemble_results/\"):\n",
    "    os.makedirs(SAVE_DIR_FIGS+\"ensemble_results/\")\n",
    "plt.savefig(SAVE_DIR_FIGS+\"ensemble_results/\"+'Ensemble Analysis - Based on student with the average reproducibility'+\".png\", dpi=150,bbox_inches='tight')\n",
    "\n",
    "plt.show()\n"
   ]
  },
  {
   "cell_type": "code",
   "execution_count": 21,
   "metadata": {},
   "outputs": [
    {
     "name": "stdout",
     "output_type": "stream",
     "text": [
      "gcn_student_ensamble_2\n",
      "[[0.957777777777778, 0.0004179012345679009, 1], [0.957777777777778, 0.0004179012345679009, 1], [0.957777777777778, 0.0004179012345679009, 1], [0.957777777777778, 0.0004179012345679009, 1], [0.957777777777778, 0.0004179012345679009, 1]]\n",
      "gcn_student_ensamble_3\n",
      "[[0.9613888888888891, 0.00031435185185185374, 1], [0.9613888888888891, 0.00031435185185185374, 1], [0.9613888888888891, 0.00031435185185185374, 1], [0.9613888888888891, 0.00031435185185185374, 1], [0.9613888888888891, 0.00031435185185185374, 1]]\n",
      "gcn_student_ensamble_4\n",
      "[[0.9479166666666667, 0.001057966820987654, 0], [0.9291666666666668, 0.0005945216049382705, 3], [0.9291666666666668, 0.0005945216049382705, 3], [0.9291666666666668, 0.0005945216049382705, 3], [0.9291666666666668, 0.0005945216049382705, 3]]\n",
      "gcn_student_ensamble_5\n",
      "[[0.9415277777777777, 0.00144577546296296, 2], [0.9400000000000001, 0.000965972222222224, 3], [0.9400000000000001, 0.000965972222222224, 3], [0.9400000000000001, 0.000965972222222224, 3], [0.9400000000000001, 0.000965972222222224, 3]]\n",
      "gcn_student_lsp_ensamble_2\n",
      "[[0.9445833333333334, 0.0003821180555555545, 1], [0.9445833333333334, 0.0003821180555555545, 1], [0.9445833333333334, 0.0003821180555555545, 1], [0.9445833333333334, 0.0003821180555555545, 1], [0.9445833333333334, 0.0003821180555555545, 1]]\n",
      "gcn_student_lsp_ensamble_3\n",
      "[[0.9675, 0.00020995370370370498, 1], [0.9675, 0.00020995370370370498, 1], [0.9675, 0.00020995370370370498, 1], [0.9675, 0.00020995370370370498, 1], [0.9675, 0.00020995370370370498, 1]]\n",
      "gcn_student_lsp_ensamble_4\n",
      "[[0.9541666666666666, 0.001069058641975308, 0], [0.9313888888888888, 0.0004128858024691338, 3], [0.9313888888888888, 0.0004128858024691338, 3], [0.9313888888888888, 0.0004128858024691338, 3], [0.9491666666666667, 0.00042330246913580396, 2]]\n",
      "gcn_student_lsp_ensamble_5\n",
      "[[0.9445833333333333, 0.0008747878086419745, 0], [0.9327777777777777, 0.0005614197530864196, 3], [0.9327777777777777, 0.0005614197530864196, 3], [0.9327777777777777, 0.0005614197530864196, 3], [0.9327777777777777, 0.0005614197530864196, 3]]\n"
     ]
    }
   ],
   "source": [
    "from models.model_config import *\n",
    "\n",
    "analysis_type=\"model_assessment\"\n",
    "dataset_split=\"val\"\n",
    "models_args=[\n",
    "    gcn_student_ensamble_2_BreastMNIST_args,\n",
    "    gcn_student_ensamble_3_BreastMNIST_args,\n",
    "    gcn_student_ensamble_4_BreastMNIST_args,\n",
    "    gcn_student_ensamble_5_BreastMNIST_args,\n",
    "    gcn_student_lsp_ensamble_2_BreastMNIST_args,\n",
    "    gcn_student_lsp_ensamble_3_BreastMNIST_args,\n",
    "    gcn_student_lsp_ensamble_4_BreastMNIST_args,\n",
    "    gcn_student_lsp_ensamble_5_BreastMNIST_args\n",
    "]\n",
    "\n",
    "all_model_metrics_mean = []\n",
    "all_model_metrics_var = []\n",
    "all_model_best_student = []\n",
    "\n",
    "for model_arg in models_args:\n",
    "    \n",
    "    print(model_arg[\"model_name\"])\n",
    "\n",
    "    model_metrics_mean = []\n",
    "    model_metrics_var = []\n",
    "    model_best_student = []\n",
    "\n",
    "    for view in [-1]:\n",
    "        mean, var, best_students = get_best_student_ensamble_detailed(\n",
    "            model=model_arg[\"model_name\"], \n",
    "            view=view, \n",
    "            CV=[\"3Fold\", \"5Fold\", \"10Fold\"],\n",
    "            runs=[i for i in range(10)], \n",
    "            analysis_type=analysis_type,\n",
    "            dataset_split=dataset_split,\n",
    "            model_args=model_arg,\n",
    "            dataset=dataset\n",
    "        )\n",
    "        print(best_students)\n",
    "        model_metrics_mean.append(mean)\n",
    "        model_metrics_var.append(var)\n",
    "        model_best_student.append(best_students)\n",
    "\n",
    "    all_model_metrics_mean.append(model_metrics_mean)\n",
    "    all_model_metrics_var.append(model_metrics_var)\n",
    "    all_model_best_student.append(model_best_student)"
   ]
  },
  {
   "cell_type": "code",
   "execution_count": 23,
   "metadata": {},
   "outputs": [
    {
     "data": {
      "text/plain": [
       "(40, 2)"
      ]
     },
     "execution_count": 23,
     "metadata": {},
     "output_type": "execute_result"
    }
   ],
   "source": [
    "df_best_student = np.array(all_model_best_student)\n",
    "df = []\n",
    "for i in range(1):\n",
    "    df.append(df_best_student[:, i, :, 0].flatten())\n",
    "df = pd.DataFrame(np.array(df))\n",
    "# Calculate the mean of columns\n",
    "mean_row = df.mean(axis=0)\n",
    "\n",
    "# Append the mean row to the DataFrame\n",
    "df = df.append(mean_row, ignore_index=True).T\n",
    "index_values = ['max rep', 'max acc', 'max f1', 'weighted acc', 'weighted f1'] * (len(df) // 5) + ['max rep', 'max acc', 'max f1', 'weighted acc', 'weighted f1'][:len(df) % 5]\n",
    "\n",
    "# Assign the new index to the DataFrame\n",
    "df.index = index_values\n",
    "df.shape"
   ]
  },
  {
   "cell_type": "code",
   "execution_count": 25,
   "metadata": {},
   "outputs": [],
   "source": [
    "index = df_best_student[:,:,:,2]\n",
    "all_data_accuracy = []\n",
    "for view_index in range(1):\n",
    "    view_data = []\n",
    "    ensamble_indexes = index[:,view_index,:]\n",
    "    ensamble_data = np.array(all_model_metrics_mean)[:,view_index]\n",
    "    #number of ensembles \n",
    "    for i in range(8):\n",
    "        view_data.append([ensamble_data[i][int(best_student_index)][0] for best_student_index in ensamble_indexes[i]])\n",
    "    all_data_accuracy.append(np.array(view_data).flatten())"
   ]
  },
  {
   "cell_type": "code",
   "execution_count": 26,
   "metadata": {},
   "outputs": [],
   "source": [
    "all_data_var = []\n",
    "for view_index in range(1):\n",
    "    view_data = []\n",
    "    ensamble_indexes = index[:,view_index,:]\n",
    "    ensamble_data = np.array(all_model_metrics_var)[:,view_index]\n",
    "    #number of ensembles \n",
    "    for i in range(8):\n",
    "        view_data.append([ensamble_data[i][int(best_student_index)][0] for best_student_index in ensamble_indexes[i]])\n",
    "    all_data_var.append(np.array(view_data).flatten())"
   ]
  },
  {
   "cell_type": "code",
   "execution_count": 27,
   "metadata": {},
   "outputs": [
    {
     "data": {
      "text/plain": [
       "(40, 2)"
      ]
     },
     "execution_count": 27,
     "metadata": {},
     "output_type": "execute_result"
    }
   ],
   "source": [
    "df_acuracy = pd.DataFrame(np.array(all_data_accuracy))\n",
    "# Calculate the mean of columns\n",
    "mean_row = df_acuracy.mean(axis=0)\n",
    "\n",
    "# Append the mean row to the DataFrame\n",
    "df_acuracy = df_acuracy.append(mean_row, ignore_index=True).T\n",
    "# Create the list of repeating index values\n",
    "index_values = ['max rep', 'max acc', 'max f1', 'weighted acc', 'weighted f1'] * (len(df_acuracy) // 5) + ['max rep', 'max acc', 'max f1', 'weighted acc', 'weighted f1'][:len(df_acuracy) % 5]\n",
    "\n",
    "# Assign the new index to the DataFrame\n",
    "df_acuracy.index = index_values\n",
    "df_acuracy.shape"
   ]
  },
  {
   "cell_type": "code",
   "execution_count": 28,
   "metadata": {},
   "outputs": [
    {
     "data": {
      "text/plain": [
       "(40, 2)"
      ]
     },
     "execution_count": 28,
     "metadata": {},
     "output_type": "execute_result"
    }
   ],
   "source": [
    "df_var = pd.DataFrame(np.array(all_data_var))\n",
    "# Calculate the mean of columns\n",
    "mean_row = df_var.mean(axis=0)\n",
    "\n",
    "# Append the mean row to the DataFrame\n",
    "df_var = df_var.append(mean_row, ignore_index=True).T\n",
    "# Create the list of repeating index values\n",
    "index_values = ['max rep', 'max acc', 'max f1', 'weighted acc', 'weighted f1'] * (len(df_var) // 5) + ['max rep', 'max acc', 'max f1', 'weighted acc', 'weighted f1'][:len(df_var) % 5]\n",
    "\n",
    "# Assign the new index to the DataFrame\n",
    "df_var.index = index_values\n",
    "df_var.shape"
   ]
  },
  {
   "cell_type": "code",
   "execution_count": 29,
   "metadata": {},
   "outputs": [],
   "source": [
    "df_acuracy = df_acuracy.loc['weighted acc'].T\n",
    "df_var = df_var.loc['weighted acc'].T\n",
    "df_var = np.sqrt(df_var)"
   ]
  },
  {
   "cell_type": "code",
   "execution_count": 30,
   "metadata": {},
   "outputs": [
    {
     "data": {
      "text/html": [
       "<div>\n",
       "<style scoped>\n",
       "    .dataframe tbody tr th:only-of-type {\n",
       "        vertical-align: middle;\n",
       "    }\n",
       "\n",
       "    .dataframe tbody tr th {\n",
       "        vertical-align: top;\n",
       "    }\n",
       "\n",
       "    .dataframe thead th {\n",
       "        text-align: right;\n",
       "    }\n",
       "</style>\n",
       "<table border=\"1\" class=\"dataframe\">\n",
       "  <thead>\n",
       "    <tr style=\"text-align: right;\">\n",
       "      <th></th>\n",
       "      <th>2 w/ Logits</th>\n",
       "      <th>3 w/ Logits</th>\n",
       "      <th>4 w/ Logits</th>\n",
       "      <th>5 w/ Logits</th>\n",
       "      <th>2 w/ LSP</th>\n",
       "      <th>3 w/ LSP</th>\n",
       "      <th>4 w/ LSP</th>\n",
       "      <th>5 w/ LSP</th>\n",
       "    </tr>\n",
       "  </thead>\n",
       "  <tbody>\n",
       "    <tr>\n",
       "      <th>0</th>\n",
       "      <td>0.003621</td>\n",
       "      <td>0.003195</td>\n",
       "      <td>0.003315</td>\n",
       "      <td>0.004025</td>\n",
       "      <td>0.003124</td>\n",
       "      <td>0.003439</td>\n",
       "      <td>0.00296</td>\n",
       "      <td>0.003642</td>\n",
       "    </tr>\n",
       "    <tr>\n",
       "      <th>1</th>\n",
       "      <td>0.003621</td>\n",
       "      <td>0.003195</td>\n",
       "      <td>0.003315</td>\n",
       "      <td>0.004025</td>\n",
       "      <td>0.003124</td>\n",
       "      <td>0.003439</td>\n",
       "      <td>0.00296</td>\n",
       "      <td>0.003642</td>\n",
       "    </tr>\n",
       "  </tbody>\n",
       "</table>\n",
       "</div>"
      ],
      "text/plain": [
       "   2 w/ Logits  3 w/ Logits  4 w/ Logits  5 w/ Logits  2 w/ LSP  3 w/ LSP  \\\n",
       "0     0.003621     0.003195     0.003315     0.004025  0.003124  0.003439   \n",
       "1     0.003621     0.003195     0.003315     0.004025  0.003124  0.003439   \n",
       "\n",
       "   4 w/ LSP  5 w/ LSP  \n",
       "0   0.00296  0.003642  \n",
       "1   0.00296  0.003642  "
      ]
     },
     "execution_count": 30,
     "metadata": {},
     "output_type": "execute_result"
    }
   ],
   "source": [
    "import pandas as pd\n",
    "\n",
    "# Assuming you have a DataFrame called 'df' with the given data\n",
    "\n",
    "# Define the new column labels\n",
    "new_labels = ['2 w/ Logits', '3 w/ Logits', '4 w/ Logits','5 w/ Logits', '2 w/ LSP', '3 w/ LSP', '4 w/ LSP',  '5 w/ LSP']\n",
    "# Rename the columns using the new labels\n",
    "df_acuracy.columns = new_labels\n",
    "df_var.columns = new_labels\n",
    "# Display the modified DataFrame\n",
    "df_var"
   ]
  },
  {
   "cell_type": "code",
   "execution_count": 33,
   "metadata": {},
   "outputs": [
    {
     "data": {
      "image/png": "[encoded data removed]",
      "text/plain": [
       "<Figure size 640x480 with 1 Axes>"
      ]
     },
     "metadata": {},
     "output_type": "display_data"
    }
   ],
   "source": [
    "import matplotlib.pyplot as plt\n",
    "import numpy as np\n",
    "\n",
    "# Change the order of the DataFrame columns\n",
    "column_order = [0, 4, 1, 5, 2, 6, 3, 7]\n",
    "df_ordered = df_acuracy.iloc[:, column_order]\n",
    "df_std_ordered = df_var.iloc[:, column_order]\n",
    "# Create a white heatmap with a grayscale colormap\n",
    "plt.imshow(df_ordered.values, cmap='gray', extent=[-0.5, df_ordered.shape[1] - 0.5, -0.5, df_ordered.shape[0] - 0.5], vmin=0, vmax=1)\n",
    "    \n",
    "# Iterate over the DataFrame and highlight the maximum value for each pair in the \"Average\" row\n",
    "for i in range(df_ordered.shape[0]):\n",
    "    for j in range(df_ordered.shape[1]):\n",
    "        value = round(df_ordered.values[i, j], 3)  # Round to 3 significant figures\n",
    "        std = round(df_std_ordered.values[i, j], 3)  # Round standard deviation to 3 significant figures\n",
    "        if i == 4 and value in max_values:\n",
    "            plt.text(j, i, f'{value}\\n({std})', ha='center', va='center', color='black', weight='bold')\n",
    "        else:\n",
    "            plt.text(j, i, f'{value}\\n({std})', ha='center', va='center', color='black')\n",
    "\n",
    "# Add vertical lines spaced 2 cells apart\n",
    "for j in range(1, df_ordered.shape[1], 2):\n",
    "    plt.axvline(j + 0.5, color='black', linewidth=1)  # Add a vertical line in the middle of each pair\n",
    "\n",
    "\n",
    "plt.gca().invert_yaxis()  # Reverse the y-axis\n",
    "\n",
    "# Add custom labels to the y-axis\n",
    "labels = ['BreastMNIST', 'Average']\n",
    "plt.yticks(range(df_ordered.shape[0]), labels)\n",
    "\n",
    "# Add custom labels to the x-axis\n",
    "x_ticks = ['2 w/ Logits', '2 w/ LSP', '3 w/ Logits', '3 w/ LSP','4 w/ Logits', '4 w/ LSP', '5 w/ Logits', '5 w/ LSP']\n",
    "plt.xticks(range(df_ordered.shape[1]), x_ticks, rotation=45, ha='right')\n",
    "\n",
    "# Add title and axis labels\n",
    "plt.title('Ensemble Analysis - Accuracy based on student with the highest reproducibility')\n",
    "plt.xlabel('Ensemble Type')\n",
    "plt.ylabel('Dataset')\n",
    "\n",
    "if not os.path.exists(SAVE_DIR_FIGS+\"ensemble_results/\"):\n",
    "    os.makedirs(SAVE_DIR_FIGS+\"ensemble_results/\")\n",
    "plt.savefig(SAVE_DIR_FIGS+\"ensemble_results/\"+'Ensemble Analysis - Accuracy based on student with the weighted reproducibility'+\".png\", dpi=150,bbox_inches='tight')\n",
    "\n",
    "plt.show()"
   ]
  },
  {
   "cell_type": "markdown",
   "metadata": {},
   "source": [
    "# Ablation study"
   ]
  },
  {
   "cell_type": "code",
   "execution_count": 17,
   "metadata": {},
   "outputs": [
    {
     "name": "stdout",
     "output_type": "stream",
     "text": [
      "gcn_student_lsp_ensamble_3\n",
      "[[0.9675, 0.00020995370370370498, 1], [0.9675, 0.00020995370370370498, 1], [0.9675, 0.00020995370370370498, 1], [0.9675, 0.00020995370370370498, 1], [0.9675, 0.00020995370370370498, 1]]\n"
     ]
    }
   ],
   "source": [
    "analysis_type=\"model_assessment\"\n",
    "dataset_split=\"val\"\n",
    "dataset = \"BreastMNIST\"\n",
    "CV=[\"3Fold\", \"5Fold\", \"10Fold\"]\n",
    "\n",
    "models_args=[\n",
    "    gcn_student_lsp_ensamble_3_BreastMNIST_args\n",
    "]\n",
    "\n",
    "all_model_metrics_mean = []\n",
    "all_model_metrics_var = []\n",
    "all_model_best_student = []\n",
    "\n",
    "for model_arg in models_args:\n",
    "    \n",
    "    print(model_arg[\"model_name\"])\n",
    "\n",
    "    model_metrics_mean = []\n",
    "    model_metrics_var = []\n",
    "    model_best_student = []\n",
    "\n",
    "    for view in [-1]:\n",
    "        mean, var, best_students = get_best_student_ensamble_detailed(\n",
    "            model=model_arg[\"model_name\"], \n",
    "            view=view, \n",
    "            CV=CV,\n",
    "            dataset=dataset,\n",
    "            runs=[i for i in range(10)], \n",
    "            analysis_type=analysis_type,\n",
    "            dataset_split=dataset_split,\n",
    "            model_args=model_arg\n",
    "        )\n",
    "        print(best_students)\n",
    "        model_metrics_mean.append(mean)\n",
    "        model_metrics_var.append(var)\n",
    "        model_best_student.append(best_students)\n",
    "\n",
    "    all_model_metrics_mean.append(model_metrics_mean)\n",
    "    all_model_metrics_var.append(model_metrics_var)\n",
    "    all_model_best_student.append(model_best_student)"
   ]
  },
  {
   "cell_type": "code",
   "execution_count": 37,
   "metadata": {},
   "outputs": [
    {
     "name": "stdout",
     "output_type": "stream",
     "text": [
      "gcn_student_lsp_ensamble_3\n",
      "[[0.9211111111111112, 0.000991049382716051, 0], [0.8416666666666668, 0.007729552469135805, 2], [0.8416666666666668, 0.007729552469135805, 2], [0.9211111111111112, 0.000991049382716051, 0], [0.9211111111111112, 0.000991049382716051, 0]]\n",
      "gcn_student_lsp_ensamble_3\n",
      "[[0.9675, 0.00020995370370370498, 1], [0.9675, 0.00020995370370370498, 1], [0.9675, 0.00020995370370370498, 1], [0.9675, 0.00020995370370370498, 1], [0.9675, 0.00020995370370370498, 1]]\n",
      "gcn_student_lsp_ensamble_3\n",
      "[[0.9638888888888888, 1.232595164407831e-32, 2], [0.9524999999999999, 2.499999999999983e-05, 1], [0.9524999999999999, 2.499999999999983e-05, 1], [0.9524999999999999, 2.499999999999983e-05, 1], [0.9524999999999999, 2.499999999999983e-05, 1]]\n",
      "gcn_student_lsp_ensamble_3\n",
      "[[0.9204166666666665, 0.0011153742283950643, 1], [0.9204166666666665, 0.0011153742283950643, 1], [0.9204166666666665, 0.0011153742283950643, 1], [0.9204166666666665, 0.0011153742283950643, 1], [0.9204166666666665, 0.0011153742283950643, 1]]\n"
     ]
    }
   ],
   "source": [
    "analysis_type=\"model_assessment\"\n",
    "dataset_split=\"val\"\n",
    "dataset = \"BreastMNIST\"\n",
    "CV=[\"3Fold\", \"5Fold\", \"10Fold\"]\n",
    "\n",
    "models_args=[\n",
    "    gcn_student_lsp_ensamble_3_BreastMNIST_args_1,\n",
    "    gcn_student_lsp_ensamble_3_BreastMNIST_args_2,\n",
    "    gcn_student_lsp_ensamble_3_BreastMNIST_args_3,\n",
    "    gcn_student_lsp_ensamble_3_BreastMNIST_args_4\n",
    "]\n",
    "\n",
    "for model_arg in models_args:\n",
    "    \n",
    "    print(model_arg[\"model_name\"])\n",
    "\n",
    "    model_metrics_mean = []\n",
    "    model_metrics_var = []\n",
    "    model_best_student = []\n",
    "\n",
    "    for view in [-1]:\n",
    "        mean, var, best_students = get_best_student_ensamble_detailed(\n",
    "            model=\"gcn_student_lsp_ensamble_3_ablation\", \n",
    "            view=view, \n",
    "            CV=CV,\n",
    "            dataset=dataset,\n",
    "            runs=[i for i in range(10)], \n",
    "            analysis_type=analysis_type,\n",
    "            dataset_split=dataset_split,\n",
    "            model_args=model_arg\n",
    "        )\n",
    "        print(best_students)\n",
    "        model_metrics_mean.append(mean)\n",
    "        model_metrics_var.append(var)\n",
    "        model_best_student.append(best_students)\n",
    "\n",
    "    all_model_metrics_mean.append(model_metrics_mean)\n",
    "    all_model_metrics_var.append(model_metrics_var)\n",
    "    all_model_best_student.append(model_best_student)"
   ]
  },
  {
   "cell_type": "code",
   "execution_count": 38,
   "metadata": {},
   "outputs": [
    {
     "data": {
      "text/plain": [
       "(25, 2)"
      ]
     },
     "execution_count": 38,
     "metadata": {},
     "output_type": "execute_result"
    }
   ],
   "source": [
    "df_best_student = np.array(all_model_best_student)\n",
    "df = []\n",
    "for i in range(1):\n",
    "    df.append(df_best_student[:, i, :, 0].flatten())\n",
    "df = pd.DataFrame(np.array(df))\n",
    "# Calculate the mean of columns\n",
    "mean_row = df.mean(axis=0)\n",
    "\n",
    "# Append the mean row to the DataFrame\n",
    "df = df.append(mean_row, ignore_index=True).T\n",
    "index_values = ['max rep', 'max acc', 'max f1', 'weighted acc', 'weighted f1'] * (len(df) // 5) + ['max rep', 'max acc', 'max f1', 'weighted acc', 'weighted f1'][:len(df) % 5]\n",
    "\n",
    "# Assign the new index to the DataFrame\n",
    "df.index = index_values\n",
    "df.shape"
   ]
  },
  {
   "cell_type": "code",
   "execution_count": 39,
   "metadata": {},
   "outputs": [
    {
     "data": {
      "text/plain": [
       "(25, 2)"
      ]
     },
     "execution_count": 39,
     "metadata": {},
     "output_type": "execute_result"
    }
   ],
   "source": [
    "df_best_student = np.array(all_model_best_student)\n",
    "df_var = []\n",
    "for i in range(1):\n",
    "    df_var.append(df_best_student[:, i, :, 1].flatten())\n",
    "df_var = pd.DataFrame(np.array(df_var))\n",
    "# Calculate the mean of columns\n",
    "mean_row = df_var.mean(axis=0)\n",
    "\n",
    "# Append the mean row to the DataFrame\n",
    "df_var_rep = df_var.append(mean_row, ignore_index=True).T\n",
    "index_values = ['max rep', 'max acc', 'max f1', 'weighted acc', 'weighted f1'] * (len(df) // 5) + ['max rep', 'max acc', 'max f1', 'weighted acc', 'weighted f1'][:len(df) % 5]\n",
    "\n",
    "# Assign the new index to the DataFrame\n",
    "df_var_rep.index = index_values\n",
    "df_var_rep.shape"
   ]
  },
  {
   "cell_type": "code",
   "execution_count": 41,
   "metadata": {},
   "outputs": [],
   "source": [
    "index = df_best_student[:,:,:,2]\n",
    "all_data_accuracy = []\n",
    "for view_index in range(1):\n",
    "    view_data = []\n",
    "    ensamble_indexes = index[:,view_index,:]\n",
    "    ensamble_data = np.array(all_model_metrics_mean)[:,view_index]\n",
    "    #number of ensembles \n",
    "    for i in range(5):\n",
    "        view_data.append([ensamble_data[i][int(best_student_index)][0] for best_student_index in ensamble_indexes[i]])\n",
    "    all_data_accuracy.append(np.array(view_data).flatten())"
   ]
  },
  {
   "cell_type": "code",
   "execution_count": 42,
   "metadata": {},
   "outputs": [],
   "source": [
    "all_data_var = []\n",
    "for view_index in range(1):\n",
    "    view_data = []\n",
    "    ensamble_indexes = index[:,view_index,:]\n",
    "    ensamble_data = np.array(all_model_metrics_var)[:,view_index]\n",
    "    #number of ensembles \n",
    "    for i in range(5):\n",
    "        view_data.append([ensamble_data[i][int(best_student_index)][0] for best_student_index in ensamble_indexes[i]])\n",
    "    all_data_var.append(np.array(view_data).flatten())"
   ]
  },
  {
   "cell_type": "code",
   "execution_count": 43,
   "metadata": {},
   "outputs": [
    {
     "data": {
      "text/plain": [
       "(25, 2)"
      ]
     },
     "execution_count": 43,
     "metadata": {},
     "output_type": "execute_result"
    }
   ],
   "source": [
    "df_acuracy = pd.DataFrame(np.array(all_data_accuracy))\n",
    "# Calculate the mean of columns\n",
    "mean_row = df_acuracy.mean(axis=0)\n",
    "\n",
    "# Append the mean row to the DataFrame\n",
    "df_acuracy = df_acuracy.append(mean_row, ignore_index=True).T\n",
    "# Create the list of repeating index values\n",
    "index_values = ['max rep', 'max acc', 'max f1', 'weighted acc', 'weighted f1'] * (len(df_acuracy) // 5) + ['max rep', 'max acc', 'max f1', 'weighted acc', 'weighted f1'][:len(df_acuracy) % 5]\n",
    "\n",
    "# Assign the new index to the DataFrame\n",
    "df_acuracy.index = index_values\n",
    "df_acuracy.shape"
   ]
  },
  {
   "cell_type": "code",
   "execution_count": 44,
   "metadata": {},
   "outputs": [
    {
     "data": {
      "text/plain": [
       "(25, 2)"
      ]
     },
     "execution_count": 44,
     "metadata": {},
     "output_type": "execute_result"
    }
   ],
   "source": [
    "df_var = pd.DataFrame(np.array(all_data_var))\n",
    "# Calculate the mean of columns\n",
    "mean_row = df_var.mean(axis=0)\n",
    "\n",
    "# Append the mean row to the DataFrame\n",
    "df_var = df_var.append(mean_row, ignore_index=True).T\n",
    "# Create the list of repeating index values\n",
    "index_values = ['max rep', 'max acc', 'max f1', 'weighted acc', 'weighted f1'] * (len(df_var) // 5) + ['max rep', 'max acc', 'max f1', 'weighted acc', 'weighted f1'][:len(df_var) % 5]\n",
    "\n",
    "# Assign the new index to the DataFrame\n",
    "df_var.index = index_values\n",
    "df_var.shape"
   ]
  },
  {
   "cell_type": "code",
   "execution_count": 45,
   "metadata": {},
   "outputs": [],
   "source": [
    "df_acuracy = df_acuracy.loc['weighted acc'].T\n",
    "df_var = df_var.loc['weighted acc'].T\n",
    "df_var = np.sqrt(df_var)\n",
    "\n",
    "df_rep = df.loc['weighted acc'].T\n",
    "df_var_rep = df_var_rep.loc['weighted acc'].T\n",
    "df_var_rep = np.sqrt(df_var_rep)"
   ]
  },
  {
   "cell_type": "code",
   "execution_count": 46,
   "metadata": {},
   "outputs": [
    {
     "data": {
      "text/html": [
       "<div>\n",
       "<style scoped>\n",
       "    .dataframe tbody tr th:only-of-type {\n",
       "        vertical-align: middle;\n",
       "    }\n",
       "\n",
       "    .dataframe tbody tr th {\n",
       "        vertical-align: top;\n",
       "    }\n",
       "\n",
       "    .dataframe thead th {\n",
       "        text-align: right;\n",
       "    }\n",
       "</style>\n",
       "<table border=\"1\" class=\"dataframe\">\n",
       "  <thead>\n",
       "    <tr style=\"text-align: right;\">\n",
       "      <th></th>\n",
       "      <th>Original</th>\n",
       "      <th>No alpha</th>\n",
       "      <th>No beta</th>\n",
       "      <th>No gamma</th>\n",
       "      <th>No lambda</th>\n",
       "    </tr>\n",
       "  </thead>\n",
       "  <tbody>\n",
       "    <tr>\n",
       "      <th>0</th>\n",
       "      <td>0.003439</td>\n",
       "      <td>0.013875</td>\n",
       "      <td>0.003439</td>\n",
       "      <td>0.00069</td>\n",
       "      <td>0.003376</td>\n",
       "    </tr>\n",
       "    <tr>\n",
       "      <th>1</th>\n",
       "      <td>0.003439</td>\n",
       "      <td>0.013875</td>\n",
       "      <td>0.003439</td>\n",
       "      <td>0.00069</td>\n",
       "      <td>0.003376</td>\n",
       "    </tr>\n",
       "  </tbody>\n",
       "</table>\n",
       "</div>"
      ],
      "text/plain": [
       "   Original  No alpha   No beta  No gamma  No lambda\n",
       "0  0.003439  0.013875  0.003439   0.00069   0.003376\n",
       "1  0.003439  0.013875  0.003439   0.00069   0.003376"
      ]
     },
     "execution_count": 46,
     "metadata": {},
     "output_type": "execute_result"
    }
   ],
   "source": [
    "import pandas as pd\n",
    "\n",
    "# Assuming you have a DataFrame called 'df' with the given data\n",
    "\n",
    "# Define the new column labels\n",
    "x_ticks = ['Original', 'No alpha', 'No beta', 'No gamma', 'No lambda']\n",
    "# Rename the columns using the new labels\n",
    "df_acuracy.columns = x_ticks\n",
    "df_rep.columns = x_ticks\n",
    "df_var.columns = x_ticks\n",
    "df_var_rep.columns = x_ticks\n",
    "# Display the modified DataFrame\n",
    "df_var"
   ]
  },
  {
   "cell_type": "code",
   "execution_count": 50,
   "metadata": {},
   "outputs": [
    {
     "data": {
      "image/png": "[encoded data removed]",
      "text/plain": [
       "<Figure size 640x480 with 1 Axes>"
      ]
     },
     "metadata": {},
     "output_type": "display_data"
    }
   ],
   "source": [
    "import matplotlib.pyplot as plt\n",
    "import numpy as np\n",
    "\n",
    "# Change the order of the DataFrame columns\n",
    "df_ordered = df_acuracy\n",
    "df_std_ordered = df_var\n",
    "# Create a white heatmap with a grayscale colormap\n",
    "plt.imshow(df_ordered.values, cmap='gray', extent=[-0.5, df_ordered.shape[1] - 0.5, -0.5, df_ordered.shape[0] - 0.5], vmin=0, vmax=1)\n",
    "    \n",
    "# Iterate over the DataFrame and highlight the maximum value for each pair in the \"Average\" row\n",
    "for i in range(df_ordered.shape[0]):\n",
    "    for j in range(df_ordered.shape[1]):\n",
    "        value = round(df_ordered.values[i, j], 3)  # Round to 3 significant figures\n",
    "        std = round(df_std_ordered.values[i, j], 3)  # Round standard deviation to 3 significant figures\n",
    "        plt.text(j, i, f'{value}\\n({std})', ha='center', va='center', color='black')\n",
    "\n",
    "plt.gca().invert_yaxis()  # Reverse the y-axis\n",
    "\n",
    "# Add custom labels to the y-axis\n",
    "labels = ['BreastMNIST', 'Average']\n",
    "plt.yticks(range(df_ordered.shape[0]), labels)\n",
    "\n",
    "# Add custom labels to the x-axis\n",
    "x_ticks = ['Original', r'No $\\alpha$', r'No $\\beta$', r'No $\\gamma$', r'No $\\lambda$']\n",
    "plt.xticks(range(df_ordered.shape[1]), x_ticks, rotation=45, ha='right')\n",
    "\n",
    "# Add title and axis labels\n",
    "plt.title('Ablation Analysis - Accuracy based on student with weighted accuracy')\n",
    "plt.xlabel('Ensemble Type')\n",
    "plt.ylabel('Dataset')\n",
    "\n",
    "plt.show()\n"
   ]
  },
  {
   "cell_type": "code",
   "execution_count": 53,
   "metadata": {},
   "outputs": [
    {
     "data": {
      "image/png": "[encoded data removed]",
      "text/plain": [
       "<Figure size 640x480 with 1 Axes>"
      ]
     },
     "metadata": {},
     "output_type": "display_data"
    }
   ],
   "source": [
    "import matplotlib.pyplot as plt\n",
    "import numpy as np\n",
    "\n",
    "# Change the order of the DataFrame columns\n",
    "df_ordered = df_rep\n",
    "df_std_ordered = df_var_rep\n",
    "# Create a white heatmap with a grayscale colormap\n",
    "plt.imshow(df_ordered.values, cmap='gray', extent=[-0.5, df_ordered.shape[1] - 0.5, -0.5, df_ordered.shape[0] - 0.5], vmin=0, vmax=1)\n",
    "\n",
    "# Iterate over the DataFrame and highlight the maximum value for each pair in the \"Average\" row\n",
    "for i in range(df_ordered.shape[0]):\n",
    "    for j in range(df_ordered.shape[1]):\n",
    "        value = round(df_ordered.values[i, j], 3)  # Round to 3 significant figures\n",
    "        std = round(df_std_ordered.values[i, j], 3)  # Round standard deviation to 3 significant figures\n",
    "        plt.text(j, i, f'{value}\\n({std})', ha='center', va='center', color='black')\n",
    "\n",
    "plt.gca().invert_yaxis()  # Reverse the y-axis\n",
    "\n",
    "# Add custom labels to the y-axis\n",
    "labels = ['BreastMNIST', 'Average']\n",
    "plt.yticks(range(df_ordered.shape[0]), labels)\n",
    "\n",
    "# Add custom labels to the x-axis\n",
    "x_ticks = ['Original', r'No $\\alpha$', r'No $\\beta$', r'No $\\gamma$', r'No $\\lambda$']\n",
    "plt.xticks(range(df_ordered.shape[1]), x_ticks, rotation=45, ha='right')\n",
    "\n",
    "# Add title and axis labels\n",
    "plt.title('Ablation Study - Reproducibility based on student with weighted accuracy')\n",
    "plt.xlabel('Ensemble Type')\n",
    "plt.ylabel('Dataset')\n",
    "\n",
    "plt.show()"
   ]
  }
 ],
 "metadata": {
  "kernelspec": {
   "display_name": "env-test",
   "language": "python",
   "name": "env-test"
  },
  "language_info": {
   "codemirror_mode": {
    "name": "ipython",
    "version": 3
   },
   "file_extension": ".py",
   "mimetype": "text/x-python",
   "name": "python",
   "nbconvert_exporter": "python",
   "pygments_lexer": "ipython3",
   "version": "3.8.5"
  },
  "orig_nbformat": 4
 },
 "nbformat": 4,
 "nbformat_minor": 2
}
